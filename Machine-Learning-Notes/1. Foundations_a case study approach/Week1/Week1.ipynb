{
 "cells": [
  {
   "cell_type": "markdown",
   "metadata": {},
   "source": [
    "# why you should learn machine learning with us\n",
    "## Machine learning is changing the world\n",
    "* Old view of ML\n",
    "    * data->ML algorithm->My curve is better than yours->write a paper\n",
    "* The machine learning pipeline\n",
    "    * data->ML method->intelligence\n",
    "    \n",
    "## Why a case study approach?"
   ]
  },
  {
   "cell_type": "markdown",
   "metadata": {},
   "source": [
    "# Who this specialization is for and what you will be able to do\n",
    "## A capstone project\n",
    "* Text sentiment analysis\n",
    "* Recommenders\n",
    "* Computer vision\n",
    "* Deep learnig\n",
    "* Deploy intelligent web app  "
   ]
  },
  {
   "cell_type": "markdown",
   "metadata": {},
   "source": [
    "# Getting started with the tools for the course"
   ]
  },
  {
   "cell_type": "markdown",
   "metadata": {},
   "source": [
    "## Getting started with Python, Jupyter Notebook & Turi Create\n",
    "It's important to emphasize that this specialization is __not__ about providing training for a specific software package. The goal of the specialization is for your effort to be spent on learning the fundamental concepts and algorithms behind machine learning in a hands-on fashion. These concepts transcend any single package. What you learn here you can use whether you write code from scratch, use any existing ML packages out there, or any that may be developed in the future.\n",
    "\n",
    "The learning approach in this specialization is to start from use cases and then dig into algorithms and methods, what we call a case-studies approach. We are very excited about this approach, since it has worked well in several other courses.  The first course is focused on understanding how ML can be used in various cases studies, and the follow on courses will dig into the details of algorithms and methods for each of the main ML areas.  In the first course, you will not be implementing algorithms from scratch, but rather building intelligent applications that use ML. In the subsequent course, we will be implementing and comparing a wide range of algorithms.  To make it easy to implement the use cases we will be covering, we are recommending a particular set of software tools, but you can successfully complete the course with other tools out there."
   ]
  },
  {
   "cell_type": "markdown",
   "metadata": {},
   "source": [
    "## Why Python\n",
    "In this course, we are going to use the Python programming language to build several intelligent applications that use machine learning.  Python is a simple scripting language that makes it easy to interact with data.  Furthermore, Python has a wide range of packages that make it easy to get started and build applications, from the simplest ones to the most complex.  Python is widely used in industry, and is becoming the de facto language for data science in industry.  (R is another alternative language. However, R tends to be significantly less scalable and has very few deployment tools, thus it is seldom used for production code in industry.  It is possible, but highly discouraged to use R in this specialization.) \n",
    "\n",
    "We will also use the Jupyter Notebook in our videos.  The Jupyter Notebook is a simple interactive environment for programming with Python, which makes it really easy to share your results.  Think about it as a combination of a Python terminal and a wiki page.  Thus, you can combine code, plots and text to explain what you did.  (You are not required to use Jupyter Notebook in the assignments, and should have no problem using straight up Python if you prefer.)"
   ]
  },
  {
   "cell_type": "markdown",
   "metadata": {},
   "source": [
    "## Why SFrame & Turi Create\n",
    "There are many excellent machine learning libraries in Python.  One of the most popular one today is scikit-learn.  Similarly, there are many tools for data manipulations in Python; a popular example is Pandas.  However, most of these tools do not scale to large datasets, including some we will tackle in this specialization. In addition, in this specialization, we will cover a wide range of ML models, feature engineering transformation, and evaluation metrics.  With most existing packages, you will have to install a combination of packages to get the tools that we need to tackle the use cases in this course.  This is possible, but requires advanced knowledge of Python, which we feel will slow down most people's learning of the core concepts.  \n",
    "\n",
    "The main goal of this course is to learn core ML concepts, not how to use a specific software package. Thus, in this course, we recommend you use Turi Create, a package we have been working on for many years now, and has seen an exciting adoption curve, especially in industry with folks building real applications. Turi Create is a highly scalable machine learning library for Python, which also includes the SFrame, a highly-scalable library for data manipulation. A huge advantage of SFrame over Pandas is that with SFrame, you are not limited to datasets that fit in memory, which allows you to deal with large datasets, even on a laptop. (The SFrame API is very similar to Pandas' API.  Here is a doc showing the relationship between the two of them.)\n",
    "\n",
    "The reason we suggest you use Turi Create is because we very strongly believe using this software will make it much easier for us to follow the \"case-study approach\" we are taking in this specialization. In particular, it will let you focus on exploring each case study in this first course, without having to implement your own algorithms from scratch, and benefiting from the performance advantages that Turi Create provides. __In subsequent courses in the specialization, you will be implementing many of these algorithms from scratch, having had the foundation of seeing them perform in practice on real applications.__"
   ]
  },
  {
   "cell_type": "code",
   "execution_count": 1,
   "metadata": {},
   "outputs": [
    {
     "name": "stdout",
     "output_type": "stream",
     "text": [
      "/Users/hengguo/Machine Learning/Week1\n"
     ]
    }
   ],
   "source": [
    "import os\n",
    "print(os.getcwd())"
   ]
  },
  {
   "cell_type": "code",
   "execution_count": null,
   "metadata": {},
   "outputs": [],
   "source": []
  }
 ],
 "metadata": {
  "kernelspec": {
   "display_name": "Python 3",
   "language": "python",
   "name": "python3"
  },
  "language_info": {
   "codemirror_mode": {
    "name": "ipython",
    "version": 3
   },
   "file_extension": ".py",
   "mimetype": "text/x-python",
   "name": "python",
   "nbconvert_exporter": "python",
   "pygments_lexer": "ipython3",
   "version": "3.7.11"
  }
 },
 "nbformat": 4,
 "nbformat_minor": 4
}
