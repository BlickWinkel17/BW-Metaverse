{
 "cells": [
  {
   "cell_type": "markdown",
   "id": "c0858270-66e3-40ca-9f23-3f62847508ff",
   "metadata": {},
   "source": [
    "# Neural Networks: Learning very non-linear features\n",
    "\n",
    "## What is a visual product recommender\n",
    "\n",
    "## Learning __very__ non-linear features with neural networks\n",
    "* what can't a simple linear classifier represent?\n",
    "    * XOR(x1 and not x2 __or__ not x1 and x2)\n",
    "    * Solving the XOR problem: adding a layer\n",
    "* A neural network\n",
    "    * Layers and layers and layers of linear models and non-linear transformations\n",
    "    * around for about 50yrs\n",
    "        - Fell in \"disfavor\" in 90s\n",
    "    * In last few years, big resurgence\n",
    "        - Impressive accuracy on several benchmark problems\n",
    "        - Powered by huge datasets, GPUs, modelling/learning alg improvements\n"
   ]
  },
  {
   "cell_type": "markdown",
   "id": "adbe7aff-6f59-401b-8535-53617efbb69c",
   "metadata": {},
   "source": [
    "# Deep learning & deep features\n",
    "\n",
    "## Application of deep learning to computer vision\n",
    "* Image features\n",
    "    * Features = local detectors\n",
    "    * Typical local detectors look for locally \"interesting points\" in image\n",
    "* Standard image classification approach\n",
    "    * Input: image\n",
    "    * Extract features\n",
    "    * Use simple classifier\n",
    "        - e.g. logistic regression, SVMs\n",
    "* Deep learning: implicitly learns features\n",
    "\n",
    "## Deep learning performance\n",
    "\n",
    "## Demo: Deep learning on ImageNet\n",
    "\n",
    "## Deep features\n",
    "* transfer learing\n",
    "* how general are deep features?\n"
   ]
  },
  {
   "cell_type": "code",
   "execution_count": null,
   "id": "77885bfb-d517-4578-9161-3c62e126b5e2",
   "metadata": {},
   "outputs": [],
   "source": []
  }
 ],
 "metadata": {
  "kernelspec": {
   "display_name": "Python 3",
   "language": "python",
   "name": "python3"
  },
  "language_info": {
   "codemirror_mode": {
    "name": "ipython",
    "version": 3
   },
   "file_extension": ".py",
   "mimetype": "text/x-python",
   "name": "python",
   "nbconvert_exporter": "python",
   "pygments_lexer": "ipython3",
   "version": "3.7.11"
  }
 },
 "nbformat": 4,
 "nbformat_minor": 5
}
