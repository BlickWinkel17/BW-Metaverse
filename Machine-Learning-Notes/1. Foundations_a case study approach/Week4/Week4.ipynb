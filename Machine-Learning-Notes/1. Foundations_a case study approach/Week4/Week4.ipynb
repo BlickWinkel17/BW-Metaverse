{
 "cells": [
  {
   "cell_type": "markdown",
   "id": "492fa31f-6077-4004-b128-99c61b4eba1a",
   "metadata": {},
   "source": [
    "# Document retrieval: A case study in clustering and measuring similarity\n",
    "\n",
    "## How to measure similarities\n",
    "## How to search over articles"
   ]
  },
  {
   "cell_type": "markdown",
   "id": "523a221e-3426-4f01-a220-5d4c6418ff6b",
   "metadata": {},
   "source": [
    "# Word count representation for measuring similarity\n",
    "\n",
    "## Bag of words model\n",
    " * ignore order of words\n",
    " * count # of instances of each word in vocabulary\n",
    " \n",
    "## Measuring similarity\n",
    "\n",
    "## Normalize \n",
    " * divided by norm"
   ]
  },
  {
   "cell_type": "markdown",
   "id": "245afa40-c00e-402c-a4c6-b689d24ba3b5",
   "metadata": {
    "tags": []
   },
   "source": [
    "# Prioritizing important words with tf-idf\n",
    "\n",
    "## Rare words\n",
    " * Appears infrequently in the corpus\n",
    " \n",
    "## Important words\n",
    " * what characterizea an important word\n",
    " * appears frequently in ducument(common locally)\n",
    " * appears rarely in corpus(rare globally)"
   ]
  },
  {
   "cell_type": "markdown",
   "id": "0db3d950-4388-4765-9df3-c2e5a61a8d18",
   "metadata": {},
   "source": [
    "# Calculating tf-idf vertors\n",
    "\n",
    "## Term frequency-inverse document frequency(tf-idf)\n",
    "\n",
    "## Term frequency\n",
    " * word count\n",
    "\n",
    "## Inverse document frequency\n",
    " * $ weight(Word) = log \\frac{\\#docs}{1 + \\#docsUsingWord}$\n",
    " \n",
    "## TF * IDF"
   ]
  },
  {
   "cell_type": "markdown",
   "id": "57da4026-ee9e-4b94-b069-d7d941c6d985",
   "metadata": {},
   "source": [
    "# Retrieving a similar documents\n",
    "\n",
    "## Nearest neighbor search\n",
    "* Specify: distance metric\n",
    "* Output: Set of most similar articles\n",
    "\n",
    "## 1-Nearest neighbor\n",
    "* Input: Query article\n",
    "* Output: __Most__ similar article\n",
    "\n",
    "## k-Nearest neighbor\n",
    "* Input: Query article\n",
    "* Output: __List of k__ similar article"
   ]
  },
  {
   "cell_type": "markdown",
   "id": "c1b9d914-5468-4ef0-828a-64bf92e672a9",
   "metadata": {},
   "source": [
    "# Clustering documents: An unsupervised learning task\n",
    "* no labels provided\n",
    "* want to uncover cluster structure\n",
    "\n",
    "## Input: docs as word count __vectors__(high dimensional)\n",
    "\n",
    "## Output: cluster labels\n",
    "\n",
    "## Clusters\n",
    "* center and shape/spread"
   ]
  },
  {
   "cell_type": "markdown",
   "id": "118201d1-75cb-471f-965f-d4c5b12d98c5",
   "metadata": {},
   "source": [
    "# k-means: A clustering algorithm\n",
    "\n",
    "## Similarity metric = _distance to cluster center_ (smaller better)\n",
    "\n",
    "0. Initialize k cluster centers\n",
    "1. Assign observations to closest cluster center\n",
    "2. Revise cluster centers as ___mean of assigned observations___\n",
    "3. Repeat 1. and 2. until convergence"
   ]
  },
  {
   "cell_type": "markdown",
   "id": "269566f7-f862-44b4-b5a4-27e447a49345",
   "metadata": {},
   "source": [
    "# Other examples of clustering\n",
    "* Clustering images\n",
    "* Grouping patients by medical conditions\n",
    "* Products on Amazon\n",
    "* Structuring web search results\n",
    "* Discovering similar neighborhoods"
   ]
  },
  {
   "cell_type": "code",
   "execution_count": 5,
   "id": "fe7ce2fc-90be-44f8-b913-daedc9920190",
   "metadata": {},
   "outputs": [],
   "source": [
    "import numpy as np"
   ]
  },
  {
   "cell_type": "code",
   "execution_count": 12,
   "id": "c4de1b37-6ad8-4e6f-bf8e-6d241cf61ed1",
   "metadata": {},
   "outputs": [
    {
     "name": "stdout",
     "output_type": "stream",
     "text": [
      "0.3825184261187248\n",
      "0.7944613465542745\n",
      "0.5296408977028497\n",
      "0.6473388749701496\n"
     ]
    }
   ],
   "source": [
    "a = np.array([1,3,2,1,2,1,1])\n",
    "b = np.array([7,0,2,1,0,0,1])\n",
    "c = np.array([1,7,0,0,2,0,1])\n",
    "d = np.array([1,0,0,0,7,1,2])\n",
    "e = np.array([0,2,0,0,7,1,1])\n",
    "print(np.dot(a,b)/(np.linalg.norm(a)*np.linalg.norm(b)))\n",
    "print(np.dot(a,c)/(np.linalg.norm(a)*np.linalg.norm(c)))\n",
    "print(np.dot(a,d)/(np.linalg.norm(a)*np.linalg.norm(d)))\n",
    "print(np.dot(a,e)/(np.linalg.norm(a)*np.linalg.norm(e)))"
   ]
  },
  {
   "cell_type": "code",
   "execution_count": null,
   "id": "b9d34a59-7836-43a3-bf32-14e2c2a59e74",
   "metadata": {},
   "outputs": [],
   "source": []
  }
 ],
 "metadata": {
  "kernelspec": {
   "display_name": "Python 3",
   "language": "python",
   "name": "python3"
  },
  "language_info": {
   "codemirror_mode": {
    "name": "ipython",
    "version": 3
   },
   "file_extension": ".py",
   "mimetype": "text/x-python",
   "name": "python",
   "nbconvert_exporter": "python",
   "pygments_lexer": "ipython3",
   "version": "3.8.8"
  }
 },
 "nbformat": 4,
 "nbformat_minor": 5
}
