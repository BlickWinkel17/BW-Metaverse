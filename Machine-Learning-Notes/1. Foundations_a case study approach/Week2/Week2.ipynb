{
 "cells": [
  {
   "cell_type": "markdown",
   "id": "fd86598b-14d1-4c40-b01a-4fda954c0b62",
   "metadata": {
    "tags": []
   },
   "source": [
    "# Linear regression modelling"
   ]
  },
  {
   "cell_type": "markdown",
   "id": "0348dce6-a173-45ac-b9b4-aeb066fccccf",
   "metadata": {},
   "source": [
    "## Linear Regression: A Model-Based Approach\n",
    "* Residual sum of squares(RSS)\n",
    "* $ f_\\hat{w}(x) = \\hat{w}_0 + \\hat{w}_1x $"
   ]
  },
  {
   "cell_type": "markdown",
   "id": "3593f331-7fcc-4afa-9f0a-632ad677ac03",
   "metadata": {},
   "source": [
    "## Adding higher order effects\n",
    "* a quadratic function\n",
    "* $ f_w(x) = w_0 + w_1x + w_2x^{2} $\n",
    "* (still a linear regression)"
   ]
  },
  {
   "cell_type": "markdown",
   "id": "e89a66e5-c053-4181-824d-b16c6d7cf644",
   "metadata": {},
   "source": [
    "# Evaluating regression models"
   ]
  },
  {
   "cell_type": "markdown",
   "id": "ba3c4a9a-12aa-4cf8-9f25-3df5a2fb33db",
   "metadata": {},
   "source": [
    "## Evaluating overfitting via training/test split\n",
    "* how to choose model order/complexity\n",
    "* training set and training error\n",
    "* test set and test error"
   ]
  },
  {
   "cell_type": "markdown",
   "id": "c8bf2008-b0ca-4229-a2c8-f0f707b0483d",
   "metadata": {},
   "source": [
    "## Training/test curves\n",
    "* training error($ \\hat{w} $) (a decreasing function w.r.t. model complexity)\n",
    "* test error($ \\hat{w} $) (a convex function w.r.t. model complexity)"
   ]
  },
  {
   "cell_type": "markdown",
   "id": "2f7d9d1f-431c-4e31-8a6a-c3d98389428b",
   "metadata": {},
   "source": [
    "## Adding other features\n",
    "* $ f_w(x) = w_0 + w_1 sqft + w_2 bath $"
   ]
  },
  {
   "cell_type": "markdown",
   "id": "baefeb2a-a3c1-49ad-8f9a-393fb79ddc5e",
   "metadata": {},
   "source": [
    "## Other regression examples"
   ]
  },
  {
   "cell_type": "markdown",
   "id": "bb49c827-75a2-4034-81ab-6bb51315a3fb",
   "metadata": {},
   "source": [
    "# Summary of regression"
   ]
  },
  {
   "cell_type": "markdown",
   "id": "7c1f9871-5009-4245-97e6-9442b9487915",
   "metadata": {},
   "source": [
    "## Regression ML block diagram\n"
   ]
  }
 ],
 "metadata": {
  "kernelspec": {
   "display_name": "Python 3",
   "language": "python",
   "name": "python3"
  },
  "language_info": {
   "codemirror_mode": {
    "name": "ipython",
    "version": 3
   },
   "file_extension": ".py",
   "mimetype": "text/x-python",
   "name": "python",
   "nbconvert_exporter": "python",
   "pygments_lexer": "ipython3",
   "version": "3.7.11"
  }
 },
 "nbformat": 4,
 "nbformat_minor": 5
}
