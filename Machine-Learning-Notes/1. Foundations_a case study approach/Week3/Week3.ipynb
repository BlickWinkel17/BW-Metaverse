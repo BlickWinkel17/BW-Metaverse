{
 "cells": [
  {
   "cell_type": "markdown",
   "id": "47fef2dc-78bc-4b04-aad4-0d4b16dc1979",
   "metadata": {},
   "source": [
    "# Classification modelling\n",
    "## intelligent restaurant review system\n",
    "* reviews -> sentences -> sentence sentiment classifier"
   ]
  },
  {
   "cell_type": "markdown",
   "id": "711d0592-5c39-47ea-977b-8f21b47bf8cc",
   "metadata": {},
   "source": [
    "## Linear Classifier"
   ]
  },
  {
   "cell_type": "markdown",
   "id": "b2c3ca56-d72d-4da6-9dc3-81edafb0a207",
   "metadata": {},
   "source": [
    "## Decision boundaries\n",
    "* line\n",
    "* plane\n",
    "* hyperplane\n",
    "* more general shapes"
   ]
  },
  {
   "cell_type": "markdown",
   "id": "00c2f346-a7fc-4159-b02b-733bc57937ed",
   "metadata": {},
   "source": [
    "## Evaluating classification models"
   ]
  },
  {
   "cell_type": "markdown",
   "id": "8d1b083a-701b-4210-a067-092cdde60830",
   "metadata": {},
   "source": [
    "## Training and evaluating a classifier\n",
    "* Classification error and accuracy\n",
    "* error $ =  \\frac{\\# of mistakes}{\\# of sentences} $, accuracy $ = 1 - error $"
   ]
  },
  {
   "cell_type": "markdown",
   "id": "596e6e4c-9fd3-4278-a8ff-fc8efc6a3f90",
   "metadata": {},
   "source": [
    "## What's a good accuracy?\n",
    "* class imbalance?\n",
    "* compare to random guessing/ major class..."
   ]
  },
  {
   "cell_type": "markdown",
   "id": "5bb5020c-d4af-4568-a64f-87bb96d04bf1",
   "metadata": {},
   "source": [
    "## Types of mistakes\n",
    "* False positives, false negatives\n",
    "* confusion matrices\n",
    "* cost ofr different types of mistakes"
   ]
  },
  {
   "cell_type": "markdown",
   "id": "75cf9d2c-9ddb-419d-bfcf-d64e9993e345",
   "metadata": {},
   "source": [
    "## Learning curves\n",
    "* bias of model \n",
    "* more complex models\n"
   ]
  },
  {
   "cell_type": "code",
   "execution_count": null,
   "id": "e272272e-a3cf-493d-ac5a-850a31e87304",
   "metadata": {},
   "outputs": [],
   "source": []
  }
 ],
 "metadata": {
  "kernelspec": {
   "display_name": "Python 3",
   "language": "python",
   "name": "python3"
  },
  "language_info": {
   "codemirror_mode": {
    "name": "ipython",
    "version": 3
   },
   "file_extension": ".py",
   "mimetype": "text/x-python",
   "name": "python",
   "nbconvert_exporter": "python",
   "pygments_lexer": "ipython3",
   "version": "3.7.11"
  }
 },
 "nbformat": 4,
 "nbformat_minor": 5
}
