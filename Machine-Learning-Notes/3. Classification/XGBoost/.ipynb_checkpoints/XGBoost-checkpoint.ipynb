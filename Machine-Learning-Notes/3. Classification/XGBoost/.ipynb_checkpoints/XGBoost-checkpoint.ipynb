{
 "cells": [
  {
   "cell_type": "code",
   "execution_count": 1,
   "id": "0cead067-9d27-41ef-a201-0b5d4f0282a2",
   "metadata": {},
   "outputs": [],
   "source": [
    "import xgboost as xgb"
   ]
  },
  {
   "cell_type": "markdown",
   "id": "3315e20b-7eb3-409d-9a13-0964db9ab9d1",
   "metadata": {},
   "source": [
    "1. XGBoost way\n",
    "\n",
    "- xgb.DMatrix() \n",
    "    - ```classxgboost.DMatrix```(data, label=None, *, weight=None, base_margin=None, missing=None, silent=False, feature_names=None, feature_types=None, nthread=None, group=None, qid=None, label_lower_bound=None, label_upper_bound=None, feature_weights=None, enable_categorical=False)\n",
    "- param = {} \n",
    "- bst = xgb.train(param) \n",
    "- bst.predict()"
   ]
  },
  {
   "cell_type": "markdown",
   "id": "a6bf25b2-9f28-46bf-b341-0286d5d83801",
   "metadata": {},
   "source": [
    "2. sklearn API\n",
    "- ```classxgboost.XGBRegressor```(*, objective='reg:squarederror', **kwargs)\n",
    "- load via numpy/pandas\n",
    "- fit\n",
    "- predict"
   ]
  },
  {
   "cell_type": "code",
   "execution_count": 107,
   "id": "aea07b60-dc4a-443a-b519-1109e4effb5b",
   "metadata": {},
   "outputs": [],
   "source": [
    "from xgboost import XGBRegressor as XGBR\n",
    "import sklearn\n",
    "from sklearn.ensemble import RandomForestRegressor as RFR\n",
    "from sklearn.linear_model import LinearRegression as LR\n",
    "from sklearn.datasets import load_boston\n",
    "from sklearn.model_selection import KFold, cross_val_score, train_test_split\n",
    "from sklearn.metrics import mean_squared_error as MSE, r2_score\n",
    "import pandas as pd\n",
    "import numpy as np\n",
    "import matplotlib.pyplot as plt\n",
    "from time import time\n",
    "import datetime"
   ]
  },
  {
   "cell_type": "code",
   "execution_count": 7,
   "id": "aa91035e-ff2a-4cd7-897c-42c8d0c1bd3f",
   "metadata": {
    "collapsed": true,
    "jupyter": {
     "outputs_hidden": true
    },
    "tags": []
   },
   "outputs": [
    {
     "name": "stderr",
     "output_type": "stream",
     "text": [
      "D:\\Users\\BlickWinkel\\Anaconda3\\envs\\d2l\\lib\\site-packages\\sklearn\\utils\\deprecation.py:87: FutureWarning: Function load_boston is deprecated; `load_boston` is deprecated in 1.0 and will be removed in 1.2.\n",
      "\n",
      "    The Boston housing prices dataset has an ethical problem. You can refer to\n",
      "    the documentation of this function for further details.\n",
      "\n",
      "    The scikit-learn maintainers therefore strongly discourage the use of this\n",
      "    dataset unless the purpose of the code is to study and educate about\n",
      "    ethical issues in data science and machine learning.\n",
      "\n",
      "    In this case special case, you can fetch the dataset from the original\n",
      "    source::\n",
      "\n",
      "        import pandas as pd\n",
      "        import numpy as np\n",
      "\n",
      "\n",
      "        data_url = \"http://lib.stat.cmu.edu/datasets/boston\"\n",
      "        raw_df = pd.read_csv(data_url, sep=\"\\s+\", skiprows=22, header=None)\n",
      "        data = np.hstack([raw_df.values[::2, :], raw_df.values[1::2, :2]])\n",
      "        target = raw_df.values[1::2, 2]\n",
      "\n",
      "    Alternative datasets include the California housing dataset (i.e.\n",
      "    func:`~sklearn.datasets.fetch_california_housing`) and the Ames housing\n",
      "    dataset. You can load the datasets as follows:\n",
      "\n",
      "        from sklearn.datasets import fetch_california_housing\n",
      "        housing = fetch_california_housing()\n",
      "\n",
      "    for the California housing dataset and:\n",
      "\n",
      "        from sklearn.datasets import fetch_openml\n",
      "        housing = fetch_openml(name=\"house_prices\", as_frame=True)\n",
      "\n",
      "    for the Ames housing dataset.\n",
      "    \n",
      "  warnings.warn(msg, category=FutureWarning)\n"
     ]
    }
   ],
   "source": [
    "data = load_boston()"
   ]
  },
  {
   "cell_type": "code",
   "execution_count": 10,
   "id": "1ae61ba4-a9d6-481f-889f-2435a055301a",
   "metadata": {},
   "outputs": [],
   "source": [
    "X, y = data.data, data.target"
   ]
  },
  {
   "cell_type": "code",
   "execution_count": 29,
   "id": "bfa7c4de-dbcb-499b-af8f-db67fcdad3f0",
   "metadata": {},
   "outputs": [],
   "source": [
    "X_train, X_test, y_train, y_test = train_test_split(X,y, test_size=0.3, random_state=17)"
   ]
  },
  {
   "cell_type": "code",
   "execution_count": 30,
   "id": "7af0b5b3-17ee-49fa-a869-9aff55c946d7",
   "metadata": {},
   "outputs": [
    {
     "data": {
      "text/plain": [
       "XGBRegressor(base_score=0.5, booster='gbtree', colsample_bylevel=1,\n",
       "             colsample_bynode=1, colsample_bytree=1, enable_categorical=False,\n",
       "             gamma=0, gpu_id=-1, importance_type=None,\n",
       "             interaction_constraints='', learning_rate=0.300000012,\n",
       "             max_delta_step=0, max_depth=6, min_child_weight=1, missing=nan,\n",
       "             monotone_constraints='()', n_estimators=100, n_jobs=16,\n",
       "             num_parallel_tree=1, predictor='auto', random_state=0, reg_alpha=0,\n",
       "             reg_lambda=1, scale_pos_weight=1, subsample=1, tree_method='exact',\n",
       "             validate_parameters=1, verbosity=None)"
      ]
     },
     "execution_count": 30,
     "metadata": {},
     "output_type": "execute_result"
    }
   ],
   "source": [
    "xgbr = XGBR()\n",
    "xgbr.fit(X_train, y_train)\n",
    "#xgbr.predict(X_test)"
   ]
  },
  {
   "cell_type": "code",
   "execution_count": 31,
   "id": "a1c36868-c367-4d4f-ae4a-b062f930c4a2",
   "metadata": {},
   "outputs": [
    {
     "data": {
      "text/plain": [
       "0.909375720930724"
      ]
     },
     "execution_count": 31,
     "metadata": {},
     "output_type": "execute_result"
    }
   ],
   "source": [
    "xgbr.score(X_test, y_test)"
   ]
  },
  {
   "cell_type": "code",
   "execution_count": 32,
   "id": "3139d6af-363b-4f78-99e1-542bb736f7f4",
   "metadata": {},
   "outputs": [
    {
     "data": {
      "text/plain": [
       "6.872382962992951"
      ]
     },
     "execution_count": 32,
     "metadata": {},
     "output_type": "execute_result"
    }
   ],
   "source": [
    "MSE(y_test, xgbr.predict(X_test))"
   ]
  },
  {
   "cell_type": "code",
   "execution_count": 33,
   "id": "cb166e54-e7c9-4a5b-b233-f80be977d532",
   "metadata": {},
   "outputs": [
    {
     "data": {
      "text/plain": [
       "array([0.01712512, 0.00196511, 0.01094459, 0.02243611, 0.04697014,\n",
       "       0.21527706, 0.00785484, 0.05197911, 0.01416677, 0.04804793,\n",
       "       0.03495161, 0.00797604, 0.5203055 ], dtype=float32)"
      ]
     },
     "execution_count": 33,
     "metadata": {},
     "output_type": "execute_result"
    }
   ],
   "source": [
    "xgbr.feature_importances_"
   ]
  },
  {
   "cell_type": "code",
   "execution_count": 34,
   "id": "c941ce0c-fdf7-4805-bc7d-310cea3eb4ba",
   "metadata": {},
   "outputs": [],
   "source": [
    "xgbr = XGBR()"
   ]
  },
  {
   "cell_type": "code",
   "execution_count": 38,
   "id": "1c1a1c4f-f244-427e-a004-25b45aa6ff3b",
   "metadata": {},
   "outputs": [
    {
     "data": {
      "text/plain": [
       "0.8297146613068167"
      ]
     },
     "execution_count": 38,
     "metadata": {},
     "output_type": "execute_result"
    }
   ],
   "source": [
    "cross_val_score(xgbr, X_train, y_train, cv=5).mean()"
   ]
  },
  {
   "cell_type": "code",
   "execution_count": 40,
   "id": "e687a862-294b-4d55-94ea-4c1d4ff1017c",
   "metadata": {},
   "outputs": [
    {
     "data": {
      "text/plain": [
       "array([-20.49075213, -18.2602301 ,  -7.53285261,  -9.66388338,\n",
       "       -11.18637522])"
      ]
     },
     "execution_count": 40,
     "metadata": {},
     "output_type": "execute_result"
    }
   ],
   "source": [
    "cross_val_score(xgbr, X_train, y_train, cv=5, scoring='neg_mean_squared_error')#.mean()"
   ]
  },
  {
   "cell_type": "code",
   "execution_count": 44,
   "id": "69a0207a-772b-47ac-81ea-fe6a3f168f37",
   "metadata": {},
   "outputs": [
    {
     "name": "stdout",
     "output_type": "stream",
     "text": [
      "['accuracy', 'adjusted_mutual_info_score', 'adjusted_rand_score', 'average_precision', 'balanced_accuracy', 'completeness_score', 'explained_variance', 'f1', 'f1_macro', 'f1_micro', 'f1_samples', 'f1_weighted', 'fowlkes_mallows_score', 'homogeneity_score', 'jaccard', 'jaccard_macro', 'jaccard_micro', 'jaccard_samples', 'jaccard_weighted', 'max_error', 'mutual_info_score', 'neg_brier_score', 'neg_log_loss', 'neg_mean_absolute_error', 'neg_mean_absolute_percentage_error', 'neg_mean_gamma_deviance', 'neg_mean_poisson_deviance', 'neg_mean_squared_error', 'neg_mean_squared_log_error', 'neg_median_absolute_error', 'neg_root_mean_squared_error', 'normalized_mutual_info_score', 'precision', 'precision_macro', 'precision_micro', 'precision_samples', 'precision_weighted', 'r2', 'rand_score', 'recall', 'recall_macro', 'recall_micro', 'recall_samples', 'recall_weighted', 'roc_auc', 'roc_auc_ovo', 'roc_auc_ovo_weighted', 'roc_auc_ovr', 'roc_auc_ovr_weighted', 'top_k_accuracy', 'v_measure_score']\n"
     ]
    }
   ],
   "source": [
    "print(sorted(sklearn.metrics.SCORERS.keys()))"
   ]
  },
  {
   "cell_type": "code",
   "execution_count": 46,
   "id": "8a9002e6-2fcf-45b7-8329-b22d3d7d946a",
   "metadata": {},
   "outputs": [
    {
     "name": "stdout",
     "output_type": "stream",
     "text": [
      "0.8099498582152922\n",
      "0.6741906434929164\n"
     ]
    }
   ],
   "source": [
    "rfr = RFR()\n",
    "lr = LR()\n",
    "print(cross_val_score(rfr, X_train, y_train, cv=5).mean())\n",
    "print(cross_val_score(lr, X_train, y_train, cv=5).mean())"
   ]
  },
  {
   "cell_type": "markdown",
   "id": "1991242f-dcfc-42b8-bc50-3dd43678d15c",
   "metadata": {},
   "source": [
    "## 1. n_estimators, subsample and learning_rate"
   ]
  },
  {
   "cell_type": "code",
   "execution_count": 49,
   "id": "b50a80bb-950b-4dae-b361-bff2ff77e53e",
   "metadata": {},
   "outputs": [
    {
     "name": "stdout",
     "output_type": "stream",
     "text": [
      "210 0.8297148812456705\n"
     ]
    },
    {
     "data": {
      "image/png": "[encoded data removed]",
      "text/plain": [
       "<Figure size 2000x500 with 1 Axes>"
      ]
     },
     "metadata": {},
     "output_type": "display_data"
    }
   ],
   "source": [
    "axis_x = range(10, 1010, 50)\n",
    "rs = []\n",
    "\n",
    "for i in axis_x:\n",
    "    xgbr = XGBR(n_estimators=i, random_state=42)\n",
    "    rs.append(cross_val_score(xgbr, X_train, y_train, cv=5).mean())\n",
    "\n",
    "print(axis_x[rs.index(max(rs))], max(rs))\n",
    "plt.figure(figsize=(20, 5))\n",
    "plt.plot(axis_x, rs, c='red', label='XGB')\n",
    "plt.legend()\n",
    "plt.show()"
   ]
  },
  {
   "cell_type": "markdown",
   "id": "3196e8ac-c5cc-4511-8862-545d472764a6",
   "metadata": {},
   "source": [
    "## Variance and Bias"
   ]
  },
  {
   "cell_type": "code",
   "execution_count": 59,
   "id": "f35a44aa-0e7e-4711-9a36-eb4e93b219e2",
   "metadata": {},
   "outputs": [],
   "source": [
    "axis_x = range(10, 300, 10)\n",
    "rs = []\n",
    "var = []\n",
    "ge = []\n",
    "\n",
    "for i in axis_x:\n",
    "    xgbr = XGBR(n_estimators=i, random_state=42)\n",
    "    cvs = cross_val_score(xgbr, X_train, y_train, cv=5)\n",
    "    rs.append(cvs.mean())\n",
    "    var.append(cvs.var())\n",
    "    ge.append((1-cvs.mean())**2 + cvs.var())\n"
   ]
  },
  {
   "cell_type": "code",
   "execution_count": 60,
   "id": "b86b4592-075d-4f69-b3f3-c311a00c2963",
   "metadata": {},
   "outputs": [
    {
     "data": {
      "image/png": "[encoded data removed]",
      "text/plain": [
       "<Figure size 1000x500 with 1 Axes>"
      ]
     },
     "metadata": {},
     "output_type": "display_data"
    }
   ],
   "source": [
    "rs = np.array(rs)\n",
    "var = np.array(var)\n",
    "\n",
    "plt.figure(figsize=(10, 5))\n",
    "plt.plot(axis_x, rs, c='red', label='XGB')\n",
    "plt.plot(axis_x, rs+var, c='green', linestyle='-.')\n",
    "plt.plot(axis_x, rs-var, c='blue', linestyle='-.')\n",
    "plt.legend()\n",
    "plt.show()"
   ]
  },
  {
   "cell_type": "code",
   "execution_count": 63,
   "id": "446e3dec-2335-4327-ae95-a9149e40f24a",
   "metadata": {},
   "outputs": [
    {
     "data": {
      "text/plain": [
       "80"
      ]
     },
     "execution_count": 63,
     "metadata": {},
     "output_type": "execute_result"
    }
   ],
   "source": [
    "axis_x[ge.index(min(ge))]"
   ]
  },
  {
   "cell_type": "code",
   "execution_count": 65,
   "id": "d2f411f1-6443-44d9-84a8-363e2cdc500b",
   "metadata": {},
   "outputs": [
    {
     "name": "stdout",
     "output_type": "stream",
     "text": [
      "0.909375720930724\n",
      "0.09008455276489258\n"
     ]
    }
   ],
   "source": [
    "time0 = time()\n",
    "print(XGBR(n_estimators=100, random_state=42).fit(X_train, y_train).score(X_test, y_test))\n",
    "print(time() - time0)"
   ]
  },
  {
   "cell_type": "code",
   "execution_count": 66,
   "id": "baecc933-e89f-4d7d-8ac9-1e9860cf2219",
   "metadata": {},
   "outputs": [
    {
     "name": "stdout",
     "output_type": "stream",
     "text": [
      "0.9093743998560456\n",
      "0.07417488098144531\n"
     ]
    }
   ],
   "source": [
    "time0 = time()\n",
    "print(XGBR(n_estimators=80, random_state=42).fit(X_train, y_train).score(X_test, y_test))\n",
    "print(time() - time0)"
   ]
  },
  {
   "cell_type": "markdown",
   "id": "122878de-45eb-45db-a9eb-c9ee18c47af9",
   "metadata": {},
   "source": [
    "## Subsample"
   ]
  },
  {
   "cell_type": "code",
   "execution_count": 72,
   "id": "ffc848be-180b-4b97-a197-dbf1336ea426",
   "metadata": {},
   "outputs": [
    {
     "data": {
      "image/png": "[encoded data removed]",
      "text/plain": [
       "<Figure size 600x400 with 1 Axes>"
      ]
     },
     "metadata": {},
     "output_type": "display_data"
    }
   ],
   "source": [
    "axis_x = np.linspace(0.05, 1, 20)\n",
    "rs = []\n",
    "\n",
    "for i in axis_x:\n",
    "    xgbr = XGBR(n_estimators=80, subsample=i, random_state=42)\n",
    "    cvs = cross_val_score(xgbr, X_train, y_train, cv=5)\n",
    "    rs.append(cvs.mean())\n",
    "    #var.append(cvs.var())\n",
    "    #ge.append((1-cvs.mean())**2 + cvs.var())\n",
    "\n",
    "plt.figure(figsize=(6, 4))\n",
    "plt.plot(axis_x, rs, c='red', label='XGB')\n",
    "#plt.plot(axis_x, rs+var, c='green', linestyle='-.')\n",
    "#plt.plot(axis_x, rs-var, c='blue', linestyle='-.')\n",
    "plt.legend()\n",
    "plt.show()"
   ]
  },
  {
   "cell_type": "code",
   "execution_count": 73,
   "id": "c833d6e3-762d-47bf-8497-9c80f02c1d41",
   "metadata": {},
   "outputs": [
    {
     "data": {
      "text/plain": [
       "array([0.05, 0.1 , 0.15, 0.2 , 0.25, 0.3 , 0.35, 0.4 , 0.45, 0.5 , 0.55,\n",
       "       0.6 , 0.65, 0.7 , 0.75, 0.8 , 0.85, 0.9 , 0.95, 1.  ])"
      ]
     },
     "execution_count": 73,
     "metadata": {},
     "output_type": "execute_result"
    }
   ],
   "source": [
    "axis_x"
   ]
  },
  {
   "cell_type": "markdown",
   "id": "e10e3adb-f8c1-4ff5-8b6b-c599ebeb7257",
   "metadata": {},
   "source": [
    "## eta"
   ]
  },
  {
   "cell_type": "code",
   "execution_count": 82,
   "id": "5c38517b-6dab-4bd6-8b3e-b9573d7fa0a7",
   "metadata": {},
   "outputs": [],
   "source": [
    "def reg_assess(reg, X_train, y_train, cv, scoring=[\"r2\"], show=True):\n",
    "    scores = []\n",
    "    for i in range(len(scoring)):\n",
    "        score = cross_val_score(reg, X_train, y_train, cv=cv, scoring=scoring[i]).mean()\n",
    "        if show:\n",
    "            print(\"{}:{:.2f}\".format(scoring[i], \n",
    "                                     score))\n",
    "        scores.append(score)\n",
    "    return scores"
   ]
  },
  {
   "cell_type": "code",
   "execution_count": 83,
   "id": "77b9c9fb-ccf5-409b-b670-4f33740068b2",
   "metadata": {},
   "outputs": [],
   "source": [
    "xgbr = XGBR(n_estimators=80, random_state=42)"
   ]
  },
  {
   "cell_type": "code",
   "execution_count": 80,
   "id": "a544a2ef-95e2-4685-b5f0-bbe8ee80bbfa",
   "metadata": {},
   "outputs": [
    {
     "name": "stdout",
     "output_type": "stream",
     "text": [
      "r2:0.83\n"
     ]
    },
    {
     "data": {
      "text/plain": [
       "0.8297089059248612"
      ]
     },
     "execution_count": 80,
     "metadata": {},
     "output_type": "execute_result"
    }
   ],
   "source": [
    "reg_assess(xgbr, X_train, y_train, cv=5)"
   ]
  },
  {
   "cell_type": "code",
   "execution_count": 89,
   "id": "551b903e-9c72-427f-b6e3-59a2d528d508",
   "metadata": {},
   "outputs": [
    {
     "name": "stdout",
     "output_type": "stream",
     "text": [
      "learning_rate = 0.0\n",
      "r2:-5.63\n",
      "0.22008514404296875 \n",
      "\n",
      "learning_rate = 0.1\n",
      "r2:0.83\n",
      "0.30744004249572754 \n",
      "\n",
      "learning_rate = 0.2\n",
      "r2:0.83\n",
      "0.3245372772216797 \n",
      "\n",
      "learning_rate = 0.30000000000000004\n",
      "r2:0.83\n",
      "0.3362441062927246 \n",
      "\n",
      "learning_rate = 0.4\n",
      "r2:0.82\n",
      "0.33095669746398926 \n",
      "\n",
      "learning_rate = 0.5\n",
      "r2:0.82\n",
      "0.32411646842956543 \n",
      "\n",
      "learning_rate = 0.6000000000000001\n",
      "r2:0.79\n",
      "0.27539777755737305 \n",
      "\n",
      "learning_rate = 0.7000000000000001\n",
      "r2:0.76\n",
      "0.2602119445800781 \n",
      "\n",
      "learning_rate = 0.8\n",
      "r2:0.77\n",
      "0.25278353691101074 \n",
      "\n",
      "learning_rate = 0.9\n",
      "r2:0.76\n",
      "0.2415769100189209 \n",
      "\n",
      "learning_rate = 1.0\n",
      "r2:0.74\n",
      "0.22362399101257324 \n",
      "\n"
     ]
    }
   ],
   "source": [
    "for i in np.linspace(0,1,11):\n",
    "    time0 = time()\n",
    "    xgbr = XGBR(n_estimators=80, random_state=42, learning_rate=i)\n",
    "    print(\"learning_rate = {}\".format(i))\n",
    "    scores = reg_assess(xgbr, X_train, y_train, cv=5)\n",
    "    print(time() - time0, '\\n')"
   ]
  },
  {
   "cell_type": "markdown",
   "id": "b5f68999-6c9f-450b-8624-7629c68aa952",
   "metadata": {},
   "source": [
    "## 2.选择弱评估器: booster(xgb_model)\n",
    "\n",
    "- gbtree\n",
    "- gblinear\n",
    "- dart"
   ]
  },
  {
   "cell_type": "code",
   "execution_count": 91,
   "id": "858b80fe-5ae8-4c6c-aa53-0ad5420ccdbb",
   "metadata": {},
   "outputs": [
    {
     "name": "stdout",
     "output_type": "stream",
     "text": [
      "gbtree\n",
      "0.9117419790722068\n",
      "gblinear\n",
      "0.48141544726213736\n",
      "dart\n",
      "0.9117419903286792\n"
     ]
    }
   ],
   "source": [
    "for booster in ['gbtree', 'gblinear', 'dart']:\n",
    "    xgbr = XGBR(n_estimators=80,\n",
    "                learning_rate=0.1,\n",
    "                random_state=42,\n",
    "                booster=booster).fit(X_train, y_train)\n",
    "    print(booster)\n",
    "    print(xgbr.score(X_test, y_test))"
   ]
  },
  {
   "cell_type": "markdown",
   "id": "0384ec92-2c23-46b7-8b80-fdd17918c585",
   "metadata": {},
   "source": [
    "## 3. XGB的目标函数: Objective\n",
    "\n",
    "- $ Obj = \\Sigma^{m}_{i=1}l(y_i, \\hat{y_i}) + \\Sigma^{K}_{k=1}\\Omega(f_k) $\n",
    "    - 通过添加正则项限制模型复杂度\n",
    "- reg:linear : 回归用\n",
    "- binary:logistic : 二分类 via logistic regression\n",
    "- binary:hinge : 二分类 via SVM\n",
    "- multi-softmax : 多分类\n",
    "- custom loss function"
   ]
  },
  {
   "cell_type": "code",
   "execution_count": 95,
   "id": "a7b8cfce-420b-424a-9c6a-9994d5d028ed",
   "metadata": {},
   "outputs": [
    {
     "name": "stdout",
     "output_type": "stream",
     "text": [
      "6.872483145098736\n"
     ]
    }
   ],
   "source": [
    "xgbr = XGBR(n_estimators=80, random_state=42)\n",
    "xgbr.fit(X_train, y_train)\n",
    "print(MSE(y_test, xgbr.predict(X_test)))"
   ]
  },
  {
   "cell_type": "code",
   "execution_count": 96,
   "id": "1755150c-e230-4634-b193-76d7c6f46aeb",
   "metadata": {},
   "outputs": [],
   "source": [
    "dtrain, dtest = xgb.DMatrix(X_train, y_train), xgb.DMatrix(X_test, y_test)"
   ]
  },
  {
   "cell_type": "code",
   "execution_count": 97,
   "id": "75d29ce3-e480-4c22-9a5b-9c6d39e3d802",
   "metadata": {},
   "outputs": [
    {
     "data": {
      "text/plain": [
       "<xgboost.core.DMatrix at 0x237d9e30100>"
      ]
     },
     "execution_count": 97,
     "metadata": {},
     "output_type": "execute_result"
    }
   ],
   "source": [
    "dtrain"
   ]
  },
  {
   "cell_type": "code",
   "execution_count": 104,
   "id": "0870a467-a6f2-4cc6-94ca-c600b314b1b8",
   "metadata": {},
   "outputs": [],
   "source": [
    "param = {'verbosity':0, \n",
    "         'objective':'reg:squarederror', \n",
    "         'eta': 0.1}\n",
    "num_round = 80"
   ]
  },
  {
   "cell_type": "code",
   "execution_count": 105,
   "id": "59c1be91-101a-422d-b43e-465418dff626",
   "metadata": {},
   "outputs": [],
   "source": [
    "bst = xgb.train(param, dtrain, num_round)"
   ]
  },
  {
   "cell_type": "code",
   "execution_count": 106,
   "id": "c0c3e1b7-e15e-44ac-8cc5-8216e2153150",
   "metadata": {},
   "outputs": [],
   "source": [
    "preds = bst.predict(dtest)"
   ]
  },
  {
   "cell_type": "code",
   "execution_count": 108,
   "id": "1025a3af-aae1-4f07-9b7f-380766aa9f48",
   "metadata": {},
   "outputs": [
    {
     "data": {
      "text/plain": [
       "0.9117419790722068"
      ]
     },
     "execution_count": 108,
     "metadata": {},
     "output_type": "execute_result"
    }
   ],
   "source": [
    "r2_score(y_test, preds)"
   ]
  },
  {
   "cell_type": "code",
   "execution_count": 109,
   "id": "a6df4531-007b-4916-b9eb-006c03c6e844",
   "metadata": {},
   "outputs": [
    {
     "data": {
      "text/plain": [
       "6.692940629166069"
      ]
     },
     "execution_count": 109,
     "metadata": {},
     "output_type": "execute_result"
    }
   ],
   "source": [
    "MSE(y_test, preds)"
   ]
  },
  {
   "cell_type": "markdown",
   "id": "29c76e09-8fb7-4525-aa13-fa36b9c35138",
   "metadata": {},
   "source": [
    "## 4. 参数化决策树$ f_k(x)$: 参数alpha, lambda\n",
    "\n",
    "- alpha/reg_alpha: L1 norm default 0\n",
    "- lambda/reg_lambda: L2  norm default 1"
   ]
  },
  {
   "cell_type": "markdown",
   "id": "ce658a2a-b7d9-4833-8313-cf3a2dc271d5",
   "metadata": {},
   "source": [
    "## 5. 让树停止生长: $ \\gamma $\n",
    "\n",
    "- as long as gain > $ \\gamma $, split\n",
    "- large $ \\gamma $ ---> less deeper. Compare with min_split_loss, min_samples_split.\n",
    "- gamma default 0"
   ]
  },
  {
   "cell_type": "code",
   "execution_count": 111,
   "id": "308aa06d-0667-4313-8cc7-cc53ba97815e",
   "metadata": {
    "collapsed": true,
    "jupyter": {
     "outputs_hidden": true
    },
    "tags": []
   },
   "outputs": [
    {
     "name": "stdout",
     "output_type": "stream",
     "text": [
      "r2:0.83\n",
      "r2:0.83\n",
      "r2:0.82\n",
      "r2:0.83\n",
      "r2:0.83\n",
      "r2:0.83\n",
      "r2:0.83\n",
      "r2:0.83\n",
      "r2:0.82\n",
      "r2:0.82\n",
      "r2:0.82\n",
      "r2:0.82\n",
      "r2:0.82\n",
      "r2:0.82\n",
      "r2:0.82\n",
      "r2:0.82\n",
      "r2:0.82\n",
      "r2:0.82\n",
      "r2:0.83\n",
      "r2:0.82\n",
      "r2:0.82\n",
      "r2:0.82\n",
      "r2:0.82\n",
      "r2:0.82\n",
      "r2:0.82\n",
      "r2:0.82\n",
      "r2:0.82\n",
      "r2:0.81\n",
      "r2:0.82\n",
      "r2:0.81\n",
      "r2:0.82\n",
      "r2:0.82\n",
      "r2:0.82\n",
      "r2:0.82\n",
      "r2:0.82\n",
      "r2:0.81\n",
      "r2:0.82\n",
      "r2:0.81\n",
      "r2:0.81\n",
      "r2:0.81\n",
      "r2:0.81\n",
      "r2:0.81\n",
      "r2:0.82\n",
      "r2:0.82\n",
      "r2:0.82\n",
      "r2:0.82\n",
      "r2:0.82\n",
      "r2:0.81\n",
      "r2:0.82\n",
      "r2:0.81\n",
      "r2:0.81\n"
     ]
    }
   ],
   "source": [
    "for i in np.linspace(0,5,51):\n",
    "    xgbr = XGBR(n_estimators=80, random_state=42, gamma=i)\n",
    "    scores = reg_assess(xgbr, X_train, y_train, cv=5)"
   ]
  },
  {
   "cell_type": "markdown",
   "id": "6ac5048e-ce9a-4eaf-b647-27fa4b88cf50",
   "metadata": {},
   "source": [
    "```xgboost.cv```(params, dtrain, num_boost_round=10, nfold=3, stratified=False, folds=None, metrics=(), obj=None, feval=None, maximize=None, early_stopping_rounds=None, fpreproc=None, as_pandas=True, verbose_eval=None, show_stdv=True, seed=0, callbacks=None, shuffle=True, custom_metric=None)"
   ]
  },
  {
   "cell_type": "code",
   "execution_count": 113,
   "id": "15bb7976-193c-4d38-90ee-c6bfe076ee52",
   "metadata": {},
   "outputs": [],
   "source": [
    "param = {'verbosity':0, \n",
    "         'objective':'reg:squarederror', \n",
    "         'gamma': 0}\n",
    "num_round = 80\n",
    "n_fold = 5\n",
    "\n",
    "cv_res = xgb.cv(param, dtrain, num_round, n_fold)"
   ]
  },
  {
   "cell_type": "code",
   "execution_count": 114,
   "id": "aa744293-9188-4ce9-b6c8-0352e154d823",
   "metadata": {},
   "outputs": [
    {
     "data": {
      "text/html": [
       "<div>\n",
       "<style scoped>\n",
       "    .dataframe tbody tr th:only-of-type {\n",
       "        vertical-align: middle;\n",
       "    }\n",
       "\n",
       "    .dataframe tbody tr th {\n",
       "        vertical-align: top;\n",
       "    }\n",
       "\n",
       "    .dataframe thead th {\n",
       "        text-align: right;\n",
       "    }\n",
       "</style>\n",
       "<table border=\"1\" class=\"dataframe\">\n",
       "  <thead>\n",
       "    <tr style=\"text-align: right;\">\n",
       "      <th></th>\n",
       "      <th>train-rmse-mean</th>\n",
       "      <th>train-rmse-std</th>\n",
       "      <th>test-rmse-mean</th>\n",
       "      <th>test-rmse-std</th>\n",
       "    </tr>\n",
       "  </thead>\n",
       "  <tbody>\n",
       "    <tr>\n",
       "      <th>0</th>\n",
       "      <td>17.147005</td>\n",
       "      <td>0.193942</td>\n",
       "      <td>17.319823</td>\n",
       "      <td>0.973259</td>\n",
       "    </tr>\n",
       "    <tr>\n",
       "      <th>1</th>\n",
       "      <td>12.457190</td>\n",
       "      <td>0.138991</td>\n",
       "      <td>12.780292</td>\n",
       "      <td>0.780368</td>\n",
       "    </tr>\n",
       "    <tr>\n",
       "      <th>2</th>\n",
       "      <td>9.127070</td>\n",
       "      <td>0.093949</td>\n",
       "      <td>9.597813</td>\n",
       "      <td>0.709931</td>\n",
       "    </tr>\n",
       "    <tr>\n",
       "      <th>3</th>\n",
       "      <td>6.767556</td>\n",
       "      <td>0.058911</td>\n",
       "      <td>7.464851</td>\n",
       "      <td>0.665840</td>\n",
       "    </tr>\n",
       "    <tr>\n",
       "      <th>4</th>\n",
       "      <td>5.099486</td>\n",
       "      <td>0.063172</td>\n",
       "      <td>6.027104</td>\n",
       "      <td>0.623193</td>\n",
       "    </tr>\n",
       "    <tr>\n",
       "      <th>...</th>\n",
       "      <td>...</td>\n",
       "      <td>...</td>\n",
       "      <td>...</td>\n",
       "      <td>...</td>\n",
       "    </tr>\n",
       "    <tr>\n",
       "      <th>75</th>\n",
       "      <td>0.020414</td>\n",
       "      <td>0.002143</td>\n",
       "      <td>3.614221</td>\n",
       "      <td>0.835490</td>\n",
       "    </tr>\n",
       "    <tr>\n",
       "      <th>76</th>\n",
       "      <td>0.019431</td>\n",
       "      <td>0.002037</td>\n",
       "      <td>3.614263</td>\n",
       "      <td>0.835601</td>\n",
       "    </tr>\n",
       "    <tr>\n",
       "      <th>77</th>\n",
       "      <td>0.018353</td>\n",
       "      <td>0.001897</td>\n",
       "      <td>3.613887</td>\n",
       "      <td>0.835497</td>\n",
       "    </tr>\n",
       "    <tr>\n",
       "      <th>78</th>\n",
       "      <td>0.017348</td>\n",
       "      <td>0.001835</td>\n",
       "      <td>3.614080</td>\n",
       "      <td>0.835477</td>\n",
       "    </tr>\n",
       "    <tr>\n",
       "      <th>79</th>\n",
       "      <td>0.016549</td>\n",
       "      <td>0.001808</td>\n",
       "      <td>3.613939</td>\n",
       "      <td>0.835430</td>\n",
       "    </tr>\n",
       "  </tbody>\n",
       "</table>\n",
       "<p>80 rows × 4 columns</p>\n",
       "</div>"
      ],
      "text/plain": [
       "    train-rmse-mean  train-rmse-std  test-rmse-mean  test-rmse-std\n",
       "0         17.147005        0.193942       17.319823       0.973259\n",
       "1         12.457190        0.138991       12.780292       0.780368\n",
       "2          9.127070        0.093949        9.597813       0.709931\n",
       "3          6.767556        0.058911        7.464851       0.665840\n",
       "4          5.099486        0.063172        6.027104       0.623193\n",
       "..              ...             ...             ...            ...\n",
       "75         0.020414        0.002143        3.614221       0.835490\n",
       "76         0.019431        0.002037        3.614263       0.835601\n",
       "77         0.018353        0.001897        3.613887       0.835497\n",
       "78         0.017348        0.001835        3.614080       0.835477\n",
       "79         0.016549        0.001808        3.613939       0.835430\n",
       "\n",
       "[80 rows x 4 columns]"
      ]
     },
     "execution_count": 114,
     "metadata": {},
     "output_type": "execute_result"
    }
   ],
   "source": [
    "cv_res"
   ]
  },
  {
   "cell_type": "code",
   "execution_count": 115,
   "id": "2d19fb31-6627-477a-85c4-75dfc2bfc536",
   "metadata": {},
   "outputs": [],
   "source": [
    "param = {'verbosity':0, \n",
    "         'objective':'reg:squarederror', \n",
    "         'gamma': 20}\n",
    "num_round = 80\n",
    "n_fold = 5\n",
    "\n",
    "cv_res = xgb.cv(param, dtrain, num_round, n_fold)"
   ]
  },
  {
   "cell_type": "code",
   "execution_count": 118,
   "id": "3c046a65-f07d-4f9e-809a-0e13c2589723",
   "metadata": {},
   "outputs": [
    {
     "data": {
      "text/html": [
       "<div>\n",
       "<style scoped>\n",
       "    .dataframe tbody tr th:only-of-type {\n",
       "        vertical-align: middle;\n",
       "    }\n",
       "\n",
       "    .dataframe tbody tr th {\n",
       "        vertical-align: top;\n",
       "    }\n",
       "\n",
       "    .dataframe thead th {\n",
       "        text-align: right;\n",
       "    }\n",
       "</style>\n",
       "<table border=\"1\" class=\"dataframe\">\n",
       "  <thead>\n",
       "    <tr style=\"text-align: right;\">\n",
       "      <th></th>\n",
       "      <th>train-rmse-mean</th>\n",
       "      <th>train-rmse-std</th>\n",
       "      <th>test-rmse-mean</th>\n",
       "      <th>test-rmse-std</th>\n",
       "    </tr>\n",
       "  </thead>\n",
       "  <tbody>\n",
       "    <tr>\n",
       "      <th>0</th>\n",
       "      <td>17.147995</td>\n",
       "      <td>0.193707</td>\n",
       "      <td>17.300719</td>\n",
       "      <td>0.975642</td>\n",
       "    </tr>\n",
       "    <tr>\n",
       "      <th>1</th>\n",
       "      <td>12.460929</td>\n",
       "      <td>0.138136</td>\n",
       "      <td>12.756016</td>\n",
       "      <td>0.782104</td>\n",
       "    </tr>\n",
       "    <tr>\n",
       "      <th>2</th>\n",
       "      <td>9.122932</td>\n",
       "      <td>0.089203</td>\n",
       "      <td>9.590875</td>\n",
       "      <td>0.672698</td>\n",
       "    </tr>\n",
       "    <tr>\n",
       "      <th>3</th>\n",
       "      <td>6.781518</td>\n",
       "      <td>0.053256</td>\n",
       "      <td>7.419898</td>\n",
       "      <td>0.617639</td>\n",
       "    </tr>\n",
       "    <tr>\n",
       "      <th>4</th>\n",
       "      <td>5.137184</td>\n",
       "      <td>0.036691</td>\n",
       "      <td>6.031233</td>\n",
       "      <td>0.572387</td>\n",
       "    </tr>\n",
       "    <tr>\n",
       "      <th>...</th>\n",
       "      <td>...</td>\n",
       "      <td>...</td>\n",
       "      <td>...</td>\n",
       "      <td>...</td>\n",
       "    </tr>\n",
       "    <tr>\n",
       "      <th>75</th>\n",
       "      <td>1.578903</td>\n",
       "      <td>0.073790</td>\n",
       "      <td>3.695446</td>\n",
       "      <td>0.758406</td>\n",
       "    </tr>\n",
       "    <tr>\n",
       "      <th>76</th>\n",
       "      <td>1.578903</td>\n",
       "      <td>0.073790</td>\n",
       "      <td>3.695446</td>\n",
       "      <td>0.758406</td>\n",
       "    </tr>\n",
       "    <tr>\n",
       "      <th>77</th>\n",
       "      <td>1.578903</td>\n",
       "      <td>0.073790</td>\n",
       "      <td>3.695446</td>\n",
       "      <td>0.758406</td>\n",
       "    </tr>\n",
       "    <tr>\n",
       "      <th>78</th>\n",
       "      <td>1.578903</td>\n",
       "      <td>0.073790</td>\n",
       "      <td>3.695446</td>\n",
       "      <td>0.758406</td>\n",
       "    </tr>\n",
       "    <tr>\n",
       "      <th>79</th>\n",
       "      <td>1.578903</td>\n",
       "      <td>0.073790</td>\n",
       "      <td>3.695446</td>\n",
       "      <td>0.758406</td>\n",
       "    </tr>\n",
       "  </tbody>\n",
       "</table>\n",
       "<p>80 rows × 4 columns</p>\n",
       "</div>"
      ],
      "text/plain": [
       "    train-rmse-mean  train-rmse-std  test-rmse-mean  test-rmse-std\n",
       "0         17.147995        0.193707       17.300719       0.975642\n",
       "1         12.460929        0.138136       12.756016       0.782104\n",
       "2          9.122932        0.089203        9.590875       0.672698\n",
       "3          6.781518        0.053256        7.419898       0.617639\n",
       "4          5.137184        0.036691        6.031233       0.572387\n",
       "..              ...             ...             ...            ...\n",
       "75         1.578903        0.073790        3.695446       0.758406\n",
       "76         1.578903        0.073790        3.695446       0.758406\n",
       "77         1.578903        0.073790        3.695446       0.758406\n",
       "78         1.578903        0.073790        3.695446       0.758406\n",
       "79         1.578903        0.073790        3.695446       0.758406\n",
       "\n",
       "[80 rows x 4 columns]"
      ]
     },
     "execution_count": 118,
     "metadata": {},
     "output_type": "execute_result"
    }
   ],
   "source": [
    "cv_res ## higher training error, less overfitting, better generalization"
   ]
  },
  {
   "cell_type": "markdown",
   "id": "cb2186c1-c7a6-4a14-b317-b37d1bea4ef5",
   "metadata": {},
   "source": [
    "## 6. Other problems in XGBoost"
   ]
  },
  {
   "cell_type": "markdown",
   "id": "7a7458f3-e979-4907-a182-a06085186542",
   "metadata": {},
   "source": [
    "## 6.1 Pruning in XGBoost\n",
    "\n",
    "- max depth. But similar to $\\gamma$ in XGBoost.\n",
    "- feature extract:\n",
    "    - colsample_bytree default 1\n",
    "    - colsample_bylevel default 1\n",
    "    - colsample_bynode default 1\n",
    "    - min_child_weight default 1"
   ]
  },
  {
   "cell_type": "code",
   "execution_count": 124,
   "id": "1a947cfc-9cfe-45c8-a8e4-c57d24039c51",
   "metadata": {},
   "outputs": [
    {
     "name": "stdout",
     "output_type": "stream",
     "text": [
      "0.2859673500061035\n"
     ]
    },
    {
     "data": {
      "image/png": "[encoded data removed]",
      "text/plain": [
       "<Figure size 500x300 with 1 Axes>"
      ]
     },
     "metadata": {},
     "output_type": "display_data"
    }
   ],
   "source": [
    "param = {'verbosity':0, \n",
    "         'objective':'reg:squarederror', \n",
    "         'subsample':1,\n",
    "         'max_depth':6,\n",
    "         'eta':0.3,\n",
    "         'gamma':0,\n",
    "         'lambda':1,\n",
    "         'alpha':0,\n",
    "         'colsample_bytree':1,\n",
    "         'colsample_bylevel':1,\n",
    "         'colsample_bynode':1,\n",
    "         'nfold':5\n",
    "        }\n",
    "num_round = 200\n",
    "\n",
    "time0 = time()\n",
    "cv_res = xgb.cv(param, dtrain, num_round)\n",
    "\n",
    "print(time() - time0)\n",
    "\n",
    "fig, ax = plt.subplots(1, figsize=(5,3))\n",
    "ax.set_ylim(top=5)\n",
    "ax.grid()\n",
    "ax.plot(range(1,201), cv_res.iloc[:,0], c='red', label='train-original')\n",
    "ax.plot(range(1,201), cv_res.iloc[:,2], c='orange', label='test-original')\n",
    "ax.legend(fontsize='xx-large')\n",
    "plt.show()"
   ]
  },
  {
   "cell_type": "code",
   "execution_count": 175,
   "id": "a602a8b3-bda4-4c93-ac67-25b1ee3dcb54",
   "metadata": {},
   "outputs": [
    {
     "name": "stdout",
     "output_type": "stream",
     "text": [
      "0.23160481452941895\n",
      "0.21926093101501465\n"
     ]
    },
    {
     "data": {
      "image/png": "[encoded data removed]",
      "text/plain": [
       "<Figure size 1500x300 with 1 Axes>"
      ]
     },
     "metadata": {},
     "output_type": "display_data"
    }
   ],
   "source": [
    "param1 = {'verbosity':0, \n",
    "         'objective':'reg:squarederror', \n",
    "         'nfold':5,\n",
    "         'max_depth':2,\n",
    "         'eta': 0.05,\n",
    "         'colsample_bytree': 0.5\n",
    "        }\n",
    "\n",
    "param2 = {'verbosity':0, \n",
    "         'objective':'reg:squarederror', \n",
    "         'nfold':5,\n",
    "         'max_depth':2,\n",
    "         'eta': 0.05,\n",
    "         'colsample_bytree': 0.5,\n",
    "         'colsample_bylevel': 0.7,\n",
    "        }\n",
    "\n",
    "num_round = 200\n",
    "\n",
    "time0 = time()\n",
    "cv_res1 = xgb.cv(param1, dtrain, num_round)\n",
    "print(time() - time0)\n",
    "\n",
    "time0 = time()\n",
    "cv_res2 = xgb.cv(param2, dtrain, num_round)\n",
    "print(time() - time0)\n",
    "\n",
    "fig, ax = plt.subplots(1, figsize=(15,3))\n",
    "ax.set_ylim(top=5)\n",
    "ax.grid()\n",
    "ax.plot(range(1,201), cv_res.iloc[:,0], c='red', label='train-original')\n",
    "ax.plot(range(1,201), cv_res.iloc[:,2], c='orange', label='test-original')\n",
    "ax.plot(range(1,201), cv_res1.iloc[:,0], c='green', label='train-param1')\n",
    "ax.plot(range(1,201), cv_res1.iloc[:,2], c='blue', label='test-param1')\n",
    "ax.plot(range(1,201), cv_res2.iloc[:,0], c='gray', label='train-param2')\n",
    "ax.plot(range(1,201), cv_res2.iloc[:,2], c='pink', label='test-param2')\n",
    "ax.legend(fontsize='xx-large')\n",
    "plt.show()"
   ]
  },
  {
   "cell_type": "markdown",
   "id": "5ca95c11-0d10-4a9d-87fa-2cf30aabe997",
   "metadata": {},
   "source": [
    "## 7. Model Storage\n",
    "\n",
    "- pickle\n",
    "- joblib"
   ]
  },
  {
   "cell_type": "code",
   "execution_count": 165,
   "id": "c7c3bb20-7fab-4743-8d11-c0945c177023",
   "metadata": {},
   "outputs": [],
   "source": [
    "param2 = {'verbosity':0, \n",
    "         'objective':'reg:squarederror', \n",
    "         'nfold':5,\n",
    "         'max_depth':2,\n",
    "         'eta': 0.05,\n",
    "         'colsample_bytree': 0.5,\n",
    "         'colsample_bylevel': 0.7,\n",
    "        }\n",
    "num_round = 200\n",
    "\n",
    "bst = xgb.train(param2, dtrain, num_round)"
   ]
  },
  {
   "cell_type": "code",
   "execution_count": 166,
   "id": "5f8c01af-dba2-4b2b-be89-44de4e60a16d",
   "metadata": {},
   "outputs": [],
   "source": [
    "import pickle"
   ]
  },
  {
   "cell_type": "code",
   "execution_count": 167,
   "id": "b2f4d586-dab8-472f-bafa-1a72278512c2",
   "metadata": {},
   "outputs": [],
   "source": [
    "pickle.dump(bst, open('xgboost-on-boston.pkl','wb'))"
   ]
  },
  {
   "cell_type": "code",
   "execution_count": 168,
   "id": "29da7688-27d7-4bf6-8ff5-1798ecc7a827",
   "metadata": {},
   "outputs": [],
   "source": [
    "bst_new = pickle.load(open('xgboost-on-boston.pkl','rb'))"
   ]
  },
  {
   "cell_type": "code",
   "execution_count": 171,
   "id": "0249feaf-29d0-4894-916c-b4ce11dcfc36",
   "metadata": {},
   "outputs": [
    {
     "data": {
      "text/plain": [
       "0.8471980835133588"
      ]
     },
     "execution_count": 171,
     "metadata": {},
     "output_type": "execute_result"
    }
   ],
   "source": [
    "r2_score(y_test, bst_new.predict(dtest))"
   ]
  },
  {
   "cell_type": "code",
   "execution_count": 172,
   "id": "2e2d09da-0e2e-460a-a4ab-f32ceb0a0020",
   "metadata": {},
   "outputs": [
    {
     "data": {
      "text/plain": [
       "0.8471980835133588"
      ]
     },
     "execution_count": 172,
     "metadata": {},
     "output_type": "execute_result"
    }
   ],
   "source": [
    "r2_score(y_test, bst.predict(dtest))"
   ]
  },
  {
   "cell_type": "code",
   "execution_count": 176,
   "id": "b95a0bc0-4b85-462b-9a33-00de568035d7",
   "metadata": {},
   "outputs": [],
   "source": [
    "import joblib"
   ]
  },
  {
   "cell_type": "code",
   "execution_count": 177,
   "id": "6073e998-8545-4f30-a922-2ce943445d66",
   "metadata": {},
   "outputs": [
    {
     "data": {
      "text/plain": [
       "['xgboost-on-boston.dat']"
      ]
     },
     "execution_count": 177,
     "metadata": {},
     "output_type": "execute_result"
    }
   ],
   "source": [
    "joblib.dump(bst, 'xgboost-on-boston.dat')"
   ]
  },
  {
   "cell_type": "code",
   "execution_count": 178,
   "id": "aee6b5e8-0cbe-4a94-b079-14d2716e1195",
   "metadata": {},
   "outputs": [],
   "source": [
    "bst_new1 = joblib.load('xgboost-on-boston.dat')"
   ]
  },
  {
   "cell_type": "code",
   "execution_count": 179,
   "id": "389232ff-a3c4-4b8d-a29a-94d07cb7927e",
   "metadata": {},
   "outputs": [
    {
     "data": {
      "text/plain": [
       "0.8471980835133588"
      ]
     },
     "execution_count": 179,
     "metadata": {},
     "output_type": "execute_result"
    }
   ],
   "source": [
    "r2_score(y_test, bst_new1.predict(dtest))"
   ]
  },
  {
   "cell_type": "markdown",
   "id": "56e82839-9eec-4ed2-a065-25ba4b753ac6",
   "metadata": {},
   "source": [
    "## 8. Unbalanced Data\n",
    "\n",
    "- scale_pos_weight = $ \\frac{sum(neg\\_samples)}{sum(pos\\_samples)} $, default 1"
   ]
  },
  {
   "cell_type": "code",
   "execution_count": 189,
   "id": "42e91876-bd71-430a-b4f3-7fe265d287b2",
   "metadata": {},
   "outputs": [],
   "source": [
    "from xgboost import XGBClassifier as XGBC\n",
    "from sklearn.datasets import make_blobs\n",
    "from sklearn.metrics import confusion_matrix, recall_score, roc_auc_score"
   ]
  },
  {
   "cell_type": "code",
   "execution_count": 181,
   "id": "688316cd-51c7-4d69-ba11-25a87609275e",
   "metadata": {},
   "outputs": [],
   "source": [
    "class1 = 500\n",
    "class2 = 50\n",
    "\n",
    "centers = [[0,0], [2,2]]\n",
    "cluster_std = [1.5, 0.5]\n",
    "\n",
    "X, y = make_blobs(n_samples=[class1, class2],\n",
    "                  centers=centers,\n",
    "                  cluster_std=cluster_std,\n",
    "                  random_state=42, \n",
    "                  shuffle=False)"
   ]
  },
  {
   "cell_type": "code",
   "execution_count": 184,
   "id": "d80293f6-38d8-46b7-aa88-b8f3b2743a72",
   "metadata": {},
   "outputs": [
    {
     "data": {
      "text/plain": [
       "array([[ 0.74507123, -0.20739645],\n",
       "       [ 0.97153281,  2.28454478],\n",
       "       [-0.35123006, -0.35120544],\n",
       "       ...,\n",
       "       [ 2.36632004,  1.95964171],\n",
       "       [ 2.0393176 ,  1.00089966],\n",
       "       [ 2.45816384,  2.17324424]])"
      ]
     },
     "execution_count": 184,
     "metadata": {},
     "output_type": "execute_result"
    }
   ],
   "source": [
    "X"
   ]
  },
  {
   "cell_type": "code",
   "execution_count": 193,
   "id": "e700d247-9a11-48a2-ae1f-c5a1e3f13438",
   "metadata": {
    "collapsed": true,
    "jupyter": {
     "outputs_hidden": true
    },
    "tags": []
   },
   "outputs": [
    {
     "data": {
      "text/plain": [
       "array([0, 0, 0, 0, 0, 0, 0, 0, 0, 0, 0, 0, 0, 0, 0, 0, 0, 0, 0, 0, 0, 0,\n",
       "       0, 0, 0, 0, 0, 0, 0, 0, 0, 0, 0, 0, 0, 0, 0, 0, 0, 0, 0, 0, 0, 0,\n",
       "       0, 0, 0, 0, 0, 0, 0, 0, 0, 0, 0, 0, 0, 0, 0, 0, 0, 0, 0, 0, 0, 0,\n",
       "       0, 0, 0, 0, 0, 0, 0, 0, 0, 0, 0, 0, 0, 0, 0, 0, 0, 0, 0, 0, 0, 0,\n",
       "       0, 0, 0, 0, 0, 0, 0, 0, 0, 0, 0, 0, 0, 0, 0, 0, 0, 0, 0, 0, 0, 0,\n",
       "       0, 0, 0, 0, 0, 0, 0, 0, 0, 0, 0, 0, 0, 0, 0, 0, 0, 0, 0, 0, 0, 0,\n",
       "       0, 0, 0, 0, 0, 0, 0, 0, 0, 0, 0, 0, 0, 0, 0, 0, 0, 0, 0, 0, 0, 0,\n",
       "       0, 0, 0, 0, 0, 0, 0, 0, 0, 0, 0, 0, 0, 0, 0, 0, 0, 0, 0, 0, 0, 0,\n",
       "       0, 0, 0, 0, 0, 0, 0, 0, 0, 0, 0, 0, 0, 0, 0, 0, 0, 0, 0, 0, 0, 0,\n",
       "       0, 0, 0, 0, 0, 0, 0, 0, 0, 0, 0, 0, 0, 0, 0, 0, 0, 0, 0, 0, 0, 0,\n",
       "       0, 0, 0, 0, 0, 0, 0, 0, 0, 0, 0, 0, 0, 0, 0, 0, 0, 0, 0, 0, 0, 0,\n",
       "       0, 0, 0, 0, 0, 0, 0, 0, 0, 0, 0, 0, 0, 0, 0, 0, 0, 0, 0, 0, 0, 0,\n",
       "       0, 0, 0, 0, 0, 0, 0, 0, 0, 0, 0, 0, 0, 0, 0, 0, 0, 0, 0, 0, 0, 0,\n",
       "       0, 0, 0, 0, 0, 0, 0, 0, 0, 0, 0, 0, 0, 0, 0, 0, 0, 0, 0, 0, 0, 0,\n",
       "       0, 0, 0, 0, 0, 0, 0, 0, 0, 0, 0, 0, 0, 0, 0, 0, 0, 0, 0, 0, 0, 0,\n",
       "       0, 0, 0, 0, 0, 0, 0, 0, 0, 0, 0, 0, 0, 0, 0, 0, 0, 0, 0, 0, 0, 0,\n",
       "       0, 0, 0, 0, 0, 0, 0, 0, 0, 0, 0, 0, 0, 0, 0, 0, 0, 0, 0, 0, 0, 0,\n",
       "       0, 0, 0, 0, 0, 0, 0, 0, 0, 0, 0, 0, 0, 0, 0, 0, 0, 0, 0, 0, 0, 0,\n",
       "       0, 0, 0, 0, 0, 0, 0, 0, 0, 0, 0, 0, 0, 0, 0, 0, 0, 0, 0, 0, 0, 0,\n",
       "       0, 0, 0, 0, 0, 0, 0, 0, 0, 0, 0, 0, 0, 0, 0, 0, 0, 0, 0, 0, 0, 0,\n",
       "       0, 0, 0, 0, 0, 0, 0, 0, 0, 0, 0, 0, 0, 0, 0, 0, 0, 0, 0, 0, 0, 0,\n",
       "       0, 0, 0, 0, 0, 0, 0, 0, 0, 0, 0, 0, 0, 0, 0, 0, 0, 0, 0, 0, 0, 0,\n",
       "       0, 0, 0, 0, 0, 0, 0, 0, 0, 0, 0, 0, 0, 0, 0, 0, 1, 1, 1, 1, 1, 1,\n",
       "       1, 1, 1, 1, 1, 1, 1, 1, 1, 1, 1, 1, 1, 1, 1, 1, 1, 1, 1, 1, 1, 1,\n",
       "       1, 1, 1, 1, 1, 1, 1, 1, 1, 1, 1, 1, 1, 1, 1, 1, 1, 1, 1, 1, 1, 1])"
      ]
     },
     "execution_count": 193,
     "metadata": {},
     "output_type": "execute_result"
    }
   ],
   "source": [
    "y"
   ]
  },
  {
   "cell_type": "code",
   "execution_count": 185,
   "id": "ce250d5c-3477-4b04-b3db-dc66a46515ca",
   "metadata": {},
   "outputs": [],
   "source": [
    "X_train, X_test, y_train, y_test = train_test_split(X, y, test_size=0.3, random_state=42)"
   ]
  },
  {
   "cell_type": "code",
   "execution_count": 201,
   "id": "1e1de39f-1f07-4326-af3a-e77b6769ff2a",
   "metadata": {},
   "outputs": [
    {
     "name": "stderr",
     "output_type": "stream",
     "text": [
      "D:\\Users\\BlickWinkel\\Anaconda3\\envs\\d2l\\lib\\site-packages\\xgboost\\sklearn.py:1224: UserWarning: The use of label encoder in XGBClassifier is deprecated and will be removed in a future release. To remove this warning, do the following: 1) Pass option use_label_encoder=False when constructing XGBClassifier object; and 2) Encode your labels (y) as integers starting with 0, i.e. 0, 1, 2, ..., [num_class - 1].\n",
      "  warnings.warn(label_encoder_deprecation_msg, UserWarning)\n"
     ]
    }
   ],
   "source": [
    "clf = XGBC().fit(X_train, y_train)\n",
    "pred = clf.predict(X_test)"
   ]
  },
  {
   "cell_type": "code",
   "execution_count": 202,
   "id": "f6a36cd6-5056-465e-b7f8-ee9a983a716f",
   "metadata": {},
   "outputs": [
    {
     "data": {
      "text/plain": [
       "0.9575757575757575"
      ]
     },
     "execution_count": 202,
     "metadata": {},
     "output_type": "execute_result"
    }
   ],
   "source": [
    "clf.score(X_test, y_test)"
   ]
  },
  {
   "cell_type": "code",
   "execution_count": 203,
   "id": "8f34fc54-6b3d-4979-b710-fafd3cd364c4",
   "metadata": {},
   "outputs": [
    {
     "data": {
      "text/plain": [
       "array([[140,   4],\n",
       "       [  3,  18]], dtype=int64)"
      ]
     },
     "execution_count": 203,
     "metadata": {},
     "output_type": "execute_result"
    }
   ],
   "source": [
    "confusion_matrix(y_test, pred)"
   ]
  },
  {
   "cell_type": "code",
   "execution_count": 209,
   "id": "97eaad86-620b-4f07-bc2c-d25fc74ddb16",
   "metadata": {},
   "outputs": [
    {
     "data": {
      "text/plain": [
       "array([[ 18,   3],\n",
       "       [  4, 140]], dtype=int64)"
      ]
     },
     "execution_count": 209,
     "metadata": {},
     "output_type": "execute_result"
    }
   ],
   "source": [
    "confusion_matrix(y_test, pred, labels=[1,0])"
   ]
  },
  {
   "cell_type": "code",
   "execution_count": 207,
   "id": "1ba8fecd-2692-43b3-9868-5c8e38dc758b",
   "metadata": {},
   "outputs": [
    {
     "data": {
      "text/plain": [
       "0.8571428571428571"
      ]
     },
     "execution_count": 207,
     "metadata": {},
     "output_type": "execute_result"
    }
   ],
   "source": [
    "recall_score(y_test, pred)"
   ]
  },
  {
   "cell_type": "code",
   "execution_count": 215,
   "id": "ab1dfd21-7b82-468c-9b0f-3e2ec6a31d96",
   "metadata": {},
   "outputs": [
    {
     "data": {
      "text/plain": [
       "0.9747023809523809"
      ]
     },
     "execution_count": 215,
     "metadata": {},
     "output_type": "execute_result"
    }
   ],
   "source": [
    "roc_auc_score(y_test, clf.predict_proba(X_test)[:,1])"
   ]
  },
  {
   "cell_type": "code",
   "execution_count": 222,
   "id": "2eb411c2-ae83-462e-99a8-861aa376021e",
   "metadata": {},
   "outputs": [
    {
     "name": "stderr",
     "output_type": "stream",
     "text": [
      "D:\\Users\\BlickWinkel\\Anaconda3\\envs\\d2l\\lib\\site-packages\\xgboost\\sklearn.py:1224: UserWarning: The use of label encoder in XGBClassifier is deprecated and will be removed in a future release. To remove this warning, do the following: 1) Pass option use_label_encoder=False when constructing XGBClassifier object; and 2) Encode your labels (y) as integers starting with 0, i.e. 0, 1, 2, ..., [num_class - 1].\n",
      "  warnings.warn(label_encoder_deprecation_msg, UserWarning)\n"
     ]
    }
   ],
   "source": [
    "clf_blc = XGBC(scale_pos_weight=10).fit(X_train, y_train)\n",
    "pred_blc = clf_blc.predict(X_test)"
   ]
  },
  {
   "cell_type": "code",
   "execution_count": 223,
   "id": "4bbe9046-2662-4d6c-b502-8d3547843d3d",
   "metadata": {},
   "outputs": [
    {
     "data": {
      "text/plain": [
       "0.9515151515151515"
      ]
     },
     "execution_count": 223,
     "metadata": {},
     "output_type": "execute_result"
    }
   ],
   "source": [
    "clf_blc.score(X_test, y_test)"
   ]
  },
  {
   "cell_type": "code",
   "execution_count": 224,
   "id": "66814e15-dc42-4b1f-9e8a-e63628ca3360",
   "metadata": {},
   "outputs": [
    {
     "data": {
      "text/plain": [
       "array([[139,   5],\n",
       "       [  3,  18]], dtype=int64)"
      ]
     },
     "execution_count": 224,
     "metadata": {},
     "output_type": "execute_result"
    }
   ],
   "source": [
    "confusion_matrix(y_test, pred_blc)"
   ]
  },
  {
   "cell_type": "code",
   "execution_count": 229,
   "id": "8163df66-ad0f-4676-a052-ad4fd4e56a42",
   "metadata": {},
   "outputs": [],
   "source": [
    "dtrain, dtest = xgb.DMatrix(X_train, y_train), xgb.DMatrix(X_test, y_test)"
   ]
  },
  {
   "cell_type": "code",
   "execution_count": 230,
   "id": "bf8c7f01-d4fd-46e5-96dd-4539d9dfb948",
   "metadata": {},
   "outputs": [],
   "source": [
    "param3 = {'verbosity':0, \n",
    "          'objective':'binary:logistic', \n",
    "          'eta':0.1,\n",
    "          'scale_pos_weight': 1\n",
    "        }\n",
    "num_round = 200\n",
    "\n",
    "bst = xgb.train(param3, dtrain, num_round)"
   ]
  },
  {
   "cell_type": "code",
   "execution_count": 232,
   "id": "81c8c17a-9359-49b0-96d6-934bc2895c4d",
   "metadata": {},
   "outputs": [],
   "source": [
    "pred = bst.predict(dtest)"
   ]
  },
  {
   "cell_type": "code",
   "execution_count": 236,
   "id": "ffc7340f-4f0f-4f82-b5e8-f227e1aa1353",
   "metadata": {},
   "outputs": [],
   "source": [
    "labels = pred.copy()\n",
    "labels[labels>0.5] = 1\n",
    "labels[labels<=0.5] = 0"
   ]
  },
  {
   "cell_type": "code",
   "execution_count": 237,
   "id": "bdb2d14f-968f-43cf-a48a-f06b3f20bd4a",
   "metadata": {},
   "outputs": [
    {
     "data": {
      "text/plain": [
       "array([0., 0., 0., 0., 1., 1., 0., 0., 0., 0., 0., 0., 0., 0., 0., 0., 0.,\n",
       "       0., 0., 0., 0., 0., 0., 0., 0., 1., 0., 0., 0., 1., 1., 0., 0., 0.,\n",
       "       0., 0., 0., 0., 0., 0., 0., 0., 0., 0., 0., 0., 1., 1., 0., 1., 0.,\n",
       "       0., 1., 0., 0., 0., 1., 1., 0., 0., 0., 0., 0., 0., 0., 0., 0., 0.,\n",
       "       0., 0., 0., 1., 1., 0., 0., 0., 0., 0., 0., 1., 0., 0., 0., 0., 1.,\n",
       "       0., 0., 0., 0., 1., 1., 0., 0., 0., 0., 0., 0., 0., 0., 0., 0., 0.,\n",
       "       0., 0., 0., 1., 0., 0., 0., 0., 0., 0., 0., 0., 0., 0., 1., 0., 0.,\n",
       "       0., 0., 0., 0., 0., 1., 0., 0., 0., 0., 0., 0., 0., 0., 0., 0., 0.,\n",
       "       1., 0., 0., 0., 0., 0., 0., 0., 1., 0., 0., 0., 0., 0., 0., 0., 0.,\n",
       "       0., 0., 0., 0., 0., 0., 0., 0., 0., 0., 0., 0.], dtype=float32)"
      ]
     },
     "execution_count": 237,
     "metadata": {},
     "output_type": "execute_result"
    }
   ],
   "source": [
    "labels"
   ]
  },
  {
   "cell_type": "code",
   "execution_count": 238,
   "id": "0fbb6b03-e873-4e1e-9424-50d5043b794d",
   "metadata": {},
   "outputs": [
    {
     "data": {
      "text/plain": [
       "array([[140,   4],\n",
       "       [  3,  18]], dtype=int64)"
      ]
     },
     "execution_count": 238,
     "metadata": {},
     "output_type": "execute_result"
    }
   ],
   "source": [
    "confusion_matrix(y_test, labels)"
   ]
  },
  {
   "cell_type": "code",
   "execution_count": null,
   "id": "efc0e72f-d22b-49aa-a126-3a9b6c139957",
   "metadata": {},
   "outputs": [],
   "source": []
  }
 ],
 "metadata": {
  "kernelspec": {
   "display_name": "Python 3",
   "language": "python",
   "name": "python3"
  },
  "language_info": {
   "codemirror_mode": {
    "name": "ipython",
    "version": 3
   },
   "file_extension": ".py",
   "mimetype": "text/x-python",
   "name": "python",
   "nbconvert_exporter": "python",
   "pygments_lexer": "ipython3",
   "version": "3.8.11"
  }
 },
 "nbformat": 4,
 "nbformat_minor": 5
}
