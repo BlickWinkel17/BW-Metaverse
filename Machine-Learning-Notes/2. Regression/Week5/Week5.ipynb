{
 "cells": [
  {
   "cell_type": "markdown",
   "id": "b4917f5c-7550-46c7-8ecf-3576d80832f6",
   "metadata": {},
   "source": [
    "# Feature selection via explicit model enumeration\n",
    "\n",
    "## The feature selection task\n",
    "\n",
    "## Option1: All subsets\n",
    "\n",
    "## Complexity of all subsets\n",
    "\n",
    "## Greedy algorithms\n",
    "\n",
    "## Complexity of the greedy forward stepwise algorithm"
   ]
  },
  {
   "cell_type": "markdown",
   "id": "11fcc733-636b-4e59-be3b-2bff495d5d47",
   "metadata": {},
   "source": [
    "# Feature selection implicitly via regularized regression:\n",
    "\n",
    "## Can we use regularization for feature selection?\n",
    "\n",
    "## Thresholding ridge coefficients\n",
    "\n",
    "## The Lasso objective and its coefficients"
   ]
  },
  {
   "cell_type": "markdown",
   "id": "f022907e-6159-4c5b-a13f-5e4cfad572be",
   "metadata": {},
   "source": [
    "# Geometric intuition for sparsity of lasso solutions\n",
    "\n",
    "## Visualizing the ridge cost and solution\n",
    "\n",
    "## visualizing the lasso cost and solution"
   ]
  },
  {
   "cell_type": "markdown",
   "id": "b9094fed-e75d-4067-bb88-055dc9993438",
   "metadata": {},
   "source": [
    "# Setting the stage for solving the lasso\n",
    "\n",
    "## What makes the lasso objective different\n",
    "\n",
    "## Coordinate descent\n",
    "\n",
    "## Normalizing features\n",
    "\n",
    "## Coordinate descent for least squares regression"
   ]
  },
  {
   "cell_type": "markdown",
   "id": "29d8a319-8afc-4f3a-ba68-3f61ce42a58f",
   "metadata": {},
   "source": [
    "# Optimizing the lasso objective\n",
    "\n",
    "## Coordinate descent for lasso(normalized features)\n",
    "\n",
    "## Assessing convergence and other lasso solvers\n",
    "\n",
    "## Coordinate descent for lasso(unnormalized features)"
   ]
  },
  {
   "cell_type": "markdown",
   "id": "098daafc-6059-4909-a0c8-4a6a34e37d3a",
   "metadata": {},
   "source": [
    "# Derive the lasso coordinate descent update"
   ]
  },
  {
   "cell_type": "markdown",
   "id": "c6f143e0-9e12-4524-9041-8be3d90376e7",
   "metadata": {},
   "source": [
    "# Tying up loose ends\n",
    "\n",
    "## Choosing the penalty strength and other practical issues with lasso"
   ]
  },
  {
   "cell_type": "code",
   "execution_count": null,
   "id": "a5f70d04-84f4-4e17-983e-3349f7eb4077",
   "metadata": {},
   "outputs": [],
   "source": []
  }
 ],
 "metadata": {
  "kernelspec": {
   "display_name": "Python 3",
   "language": "python",
   "name": "python3"
  },
  "language_info": {
   "codemirror_mode": {
    "name": "ipython",
    "version": 3
   },
   "file_extension": ".py",
   "mimetype": "text/x-python",
   "name": "python",
   "nbconvert_exporter": "python",
   "pygments_lexer": "ipython3",
   "version": "3.7.11"
  }
 },
 "nbformat": 4,
 "nbformat_minor": 5
}
