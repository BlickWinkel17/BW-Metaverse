{
 "cells": [
  {
   "cell_type": "markdown",
   "id": "f4f6b524-08ea-4982-948f-e038ccfa5cbe",
   "metadata": {},
   "source": [
    "# Defining how we assess performance\n",
    "\n",
    "## What do we mean by \"loss\"\n",
    "* Loss function: $ L(y,f_{\\hat{w}}(x)) $\n",
    "* Cost of using $ \\hat{w}\\ at\\ x $ when y is true  \n",
    "* Examples:\n",
    "    - Absolute error\n",
    "    - Squared error\n",
    "* ___Remember that all models are wrong; the practical question is how wrong do they have to be to not be useful___"
   ]
  },
  {
   "cell_type": "markdown",
   "id": "dfb33e42-04cc-4075-9f2f-a6e990be126a",
   "metadata": {},
   "source": [
    "# 3 measures of loss and their trends with model complexity\n",
    "\n",
    "## Training error: assessing loss on the training set\n",
    "\n",
    "## Generalization error: what we really want\n",
    "\n",
    "## Test error: what we can actually compute\n",
    "\n",
    "## Defining overfitting\n",
    "\n",
    "## Training/test split\n",
    "* cross validation"
   ]
  },
  {
   "cell_type": "markdown",
   "id": "6105dadb-3b1c-43d5-a4d4-0f8d9669a378",
   "metadata": {},
   "source": [
    "# 3 sources of error and the bias-variance tradeoff\n",
    "\n",
    "## Irreducible error\n",
    "\n",
    "## Variance and the bias-variance tradeoff\n",
    "\n",
    "## Error vs. amount of data"
   ]
  },
  {
   "cell_type": "markdown",
   "id": "21ad1051-c7a9-4d59-8405-17c96f12e23f",
   "metadata": {},
   "source": [
    "# Formally defining and deriving the 3 sources of error"
   ]
  },
  {
   "cell_type": "markdown",
   "id": "676f20f2-f69e-4eaf-92bd-fc59bfc213dc",
   "metadata": {},
   "source": [
    "# Putting the pieces together\n",
    "\n",
    "## Training/validation/test split for model selection, fitting and assessment"
   ]
  },
  {
   "cell_type": "code",
   "execution_count": null,
   "id": "f65ab19d-0ead-498a-b9f6-8c3614a9735a",
   "metadata": {},
   "outputs": [],
   "source": []
  }
 ],
 "metadata": {
  "kernelspec": {
   "display_name": "Python 3",
   "language": "python",
   "name": "python3"
  },
  "language_info": {
   "codemirror_mode": {
    "name": "ipython",
    "version": 3
   },
   "file_extension": ".py",
   "mimetype": "text/x-python",
   "name": "python",
   "nbconvert_exporter": "python",
   "pygments_lexer": "ipython3",
   "version": "3.7.11"
  }
 },
 "nbformat": 4,
 "nbformat_minor": 5
}
