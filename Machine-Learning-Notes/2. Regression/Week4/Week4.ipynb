{
 "cells": [
  {
   "cell_type": "markdown",
   "id": "27dab26d-698f-4dfd-bc5c-272300f003ba",
   "metadata": {},
   "source": [
    "# Characteristics of overfit models\n",
    "\n",
    "## Symptoms of overfitting in polynomial regression\n",
    "\n",
    "## Overfitting for more general multiple regression models\n"
   ]
  },
  {
   "cell_type": "markdown",
   "id": "e0ac0b02-790d-4f7a-a20f-912e78b1853e",
   "metadata": {},
   "source": [
    "# The ridge objective\n",
    "\n",
    "## Balancing fit and magnitude of coefficients\n",
    "\n",
    "## The resulting ridge objectives and its extreme solutions\n",
    "\n",
    "## The ridge coefficients path\n"
   ]
  },
  {
   "cell_type": "markdown",
   "id": "a68c9b86-b7bd-4d0a-a264-ef86ff900678",
   "metadata": {},
   "source": [
    "# Optimizing the ridge objective\n",
    "\n",
    "## Computing the gradient of the ridge objective\n",
    "\n",
    "## Approach 1: close-form solution\n",
    "\n",
    "## Approach 2: gradient descent"
   ]
  },
  {
   "cell_type": "markdown",
   "id": "db38813a-56b3-41fd-90de-5bb2e9299735",
   "metadata": {},
   "source": [
    "# Tying up the loose ends\n",
    "\n",
    "## Selecting tuning params via cross validation\n",
    "\n",
    "## K-fold cross validation\n",
    "\n",
    "## How to handle the intercept"
   ]
  },
  {
   "cell_type": "code",
   "execution_count": null,
   "id": "7dbbc8f8-ac58-4de0-8fbc-b2bc4012b7c9",
   "metadata": {},
   "outputs": [],
   "source": []
  }
 ],
 "metadata": {
  "kernelspec": {
   "display_name": "Python 3",
   "language": "python",
   "name": "python3"
  },
  "language_info": {
   "codemirror_mode": {
    "name": "ipython",
    "version": 3
   },
   "file_extension": ".py",
   "mimetype": "text/x-python",
   "name": "python",
   "nbconvert_exporter": "python",
   "pygments_lexer": "ipython3",
   "version": "3.7.11"
  }
 },
 "nbformat": 4,
 "nbformat_minor": 5
}
