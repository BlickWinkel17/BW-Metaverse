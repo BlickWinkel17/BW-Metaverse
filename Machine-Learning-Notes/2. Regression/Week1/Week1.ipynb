{
 "cells": [
  {
   "cell_type": "markdown",
   "id": "53349f8f-4dcf-441c-a5b5-b6f73ee8d6bc",
   "metadata": {},
   "source": [
    "# Outline\n",
    "* Module1: Simple Regression\n",
    "    * goodness-of-fit\n",
    "    * Gradient descent algorithm\n",
    "* Module2: Multiple Regression\n",
    "    * more complex relationships\n",
    "* Module3: Assessing Performance\n",
    "    * overfitting\n",
    "    * Measures of error\n",
    "    * Bias-variance tradeoff\n",
    "* Module4: Ridge Regression\n",
    "    * measure of fit + measure of model complexity\n",
    "    * cross validation\n",
    "* Feature Selection & Lasso Regression\n",
    "    * measure of fit + (different)measure of model complexity\n",
    "    * sparsity\n",
    "    * Coordinate descent algorithm\n",
    "* Module6: Nearest Neighbor & Kernel Regression"
   ]
  },
  {
   "cell_type": "markdown",
   "id": "0aff825c-50d0-4d07-bec3-37030c277d31",
   "metadata": {},
   "source": [
    "# Regression fundamentals\n",
    "\n",
    "## Regression fundamentals: data & model\n",
    "* $ y_i = f(x_i) + \\epsilon_i$, where $E[\\epsilon_i] = 0$\n",
    "\n",
    "## Regression fundamentals: the task\n",
    "* Task1 - which model $ f(x) $\n",
    "* Task2 - for a given model $ f(x) $, estimate function $ \\hat{f}(x) $ from data"
   ]
  },
  {
   "cell_type": "markdown",
   "id": "c56092c8-2485-4eb4-aae3-f8ee8e7f7bee",
   "metadata": {},
   "source": [
    "# The simple linear regression model, its use, and interpretation\n",
    "\n",
    "## The cost of a given line\n",
    "* $ RSS(w) = \\Sigma_i^N (y_i - [w_0 + w_1x_i])^2 $\n",
    "\n",
    "## Using the fitted line\n",
    "\n",
    "## Interpreting the fitted line\n",
    "* Interpreting the coefficients"
   ]
  },
  {
   "cell_type": "markdown",
   "id": "255a4547-b57a-4637-993d-60f8f178f935",
   "metadata": {},
   "source": [
    "# An aside on optimization: one dimensional objectives\n",
    "\n",
    "## defining our OLS optimization objectives\n",
    "* Minimizing the cost\n",
    "* $ min_{w} \\Sigma_i^N (y_i - [w_0 + w_1x_i])^2 $\n",
    "\n",
    "## Finding maxima or minima analytically\n",
    "* concave and convex\n",
    "* derivative = 0\n",
    "\n",
    "## Finding the max via hill climbing\n",
    "* $ w_{i+1} = w_{i} + \\eta\\frac{dg(w)}{dw}|_{w_i} $\n",
    "\n",
    "## Finding the min via hill descent\n",
    "* $ w_{i+1} = w_{i} + (-\\eta)\\frac{dg(w)}{dw}|_{w_i} $\n",
    "\n",
    "## Choose the stepsize and convergence criteria\n",
    "* choosing the stepsize\n",
    "    * fixed step size\n",
    "    * common choices: decreasing stepsize\n",
    "* Convergence criteria\n",
    "    * $ |{\\frac{dg(w)}{dw}}| < \\epsilon $"
   ]
  },
  {
   "cell_type": "markdown",
   "id": "51597a60-f273-4817-be6f-4b4077ec4729",
   "metadata": {},
   "source": [
    "# An aside on optimization: multidimensional objectives\n",
    "\n",
    "## Gradients: derivatives in multiple dimensions\n",
    "* $ \\nabla{g(w)} = [\\frac{\\partial{g}}{\\partial{w_0}},\\frac{\\partial{g}}{\\partial{w_1}},... ]^T $\n",
    "\n",
    "## Gradient descent: multidimensional hill descent\n",
    "* Contour plots\n",
    "* $ w_{i+1} = w_{i} + (-\\eta)\\nabla{g(w_i)} $\n",
    "* $ \\nabla{g(w_i)} < \\epsilon $"
   ]
  },
  {
   "cell_type": "markdown",
   "id": "e099ee88-6b18-44d1-b558-0f9da6ce2064",
   "metadata": {},
   "source": [
    "# Finding the OLS line\n",
    "\n",
    "# Computing the gradient of RSS\n",
    "* $ min_{w} \\Sigma_i^N (y_i - [w_0 + w_1x_i])^2 $\n",
    "* unique solution and gradient descent is applicable\n",
    "    * Approach 1: closed-form solution\n",
    "    * (Optional reading) worked-out example for closed-form solution\n",
    "    * Approach 2: gradient descent\n",
    "    * (Optional reading) worked-out example for gradient solution\n",
    "            "
   ]
  },
  {
   "cell_type": "markdown",
   "id": "15e0ee3d-9da1-4db9-9d55-023808e1427b",
   "metadata": {},
   "source": [
    "# Asymmetric cost functions\n",
    "\n",
    "## over-estimating and under-estimating have the same cost given the symmetric cost function\n"
   ]
  },
  {
   "cell_type": "code",
   "execution_count": null,
   "id": "c74155d2-3004-476b-8f4c-8d1b4fa32032",
   "metadata": {},
   "outputs": [],
   "source": []
  }
 ],
 "metadata": {
  "kernelspec": {
   "display_name": "Python 3",
   "language": "python",
   "name": "python3"
  },
  "language_info": {
   "codemirror_mode": {
    "name": "ipython",
    "version": 3
   },
   "file_extension": ".py",
   "mimetype": "text/x-python",
   "name": "python",
   "nbconvert_exporter": "python",
   "pygments_lexer": "ipython3",
   "version": "3.7.11"
  }
 },
 "nbformat": 4,
 "nbformat_minor": 5
}
