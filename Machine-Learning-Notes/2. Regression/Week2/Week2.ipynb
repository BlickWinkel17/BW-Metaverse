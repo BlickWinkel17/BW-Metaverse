{
 "cells": [
  {
   "cell_type": "markdown",
   "id": "8d498ca3-6d20-434b-addc-d8a0e2c28457",
   "metadata": {},
   "source": [
    "# Multiple features of one input\n",
    "\n",
    "## Polynomial regression\n",
    "\n",
    "* What about a quadratic function\n",
    "* Even higher order polynomial\n",
    "* $ y_i = w_o + w_1x_1 + w_2x_i^2 + ... + w_px_i^p + \\epsilon_i $\n",
    "* Treated as different features\n",
    "\n",
    "## Modelling seasonality\n",
    "* Detrending time series\n",
    "* add __trigonometric functions__\n",
    "\n",
    "## Regression with general features of 1 iput\n",
    "* $ y_i = w_oh_0(x_i) + w_1h_1(x_i) + w_2h_2(x_i) + ... + w_ph_p(x_i) + \\epsilon_i $"
   ]
  },
  {
   "cell_type": "markdown",
   "id": "3d18296f-349b-44e4-92e0-921f1f927126",
   "metadata": {},
   "source": [
    "\\usepackage{amsmath} %加载一个宏包\n",
    "\n",
    "# Incorporating multiple inputs\n",
    "\n",
    "## Defining Notation\n",
    "* Output: y\n",
    "* Input: $ \\boldsymbol{x} = (\\boldsymbol{x}[1], \\boldsymbol{x}[2],..., \\boldsymbol{x}[d]) $ \n",
    "* $ \\boldsymbol{x}[j]: j^{th}\\ input\\ (scalar) $\n",
    "* $ h(\\boldsymbol{x}): j^{th}\\ feature\\ (scalar) $\n",
    "* $ \\boldsymbol{x}_i: input\\ of\\ i^{th} data\\ point\\ (vector) $\n",
    "* $ \\boldsymbol{x}_i[j]: j^{th}\\ input\\ of\\ i^{th} data\\ point\\ (vector) $\n",
    "\n",
    "## Regression with features of multiple inputs\n",
    "* $ y_i = w_o + w_1x_i[1] + w_2x_i[2] + ... + w_dx_i[d] + \\epsilon_i $\n",
    "* $ y_i = w_oh_0(x_i) + w_1h_1(x_i) + w_2h_2(x_i) + ... + w_Dh_D(x_i) + \\epsilon_i $\n",
    "* $ = \\Sigma_{j=0}^{D}w_jh_j(x_i) + \\epsilon_i $\n",
    "* $ \\#\\ of\\ observations\\ (\\boldsymbol{x}_i, y_i) : N $\n",
    "* $ \\#\\ of\\ inputs\\ \\boldsymbol{x}[j] : d $\n",
    "* $ \\#\\ of\\ features\\ h_j(\\boldsymbol{x}) : D $\n",
    "\n",
    "## Interpreting the multi regression fit\n"
   ]
  },
  {
   "cell_type": "markdown",
   "id": "72dd6d65-31ef-41f6-a08f-ff538237b784",
   "metadata": {},
   "source": [
    "# Setting the stage for computing the least squares fit\n",
    "\n",
    "## rewriting the single observation model in vector notation\n",
    "\n",
    "## Rewriting the model for all observations in matrix notation\n",
    "\n",
    "## Computing the cost of a D-dim curve\n",
    "- see pic"
   ]
  },
  {
   "cell_type": "markdown",
   "id": "c3048ee5-fe6c-4c0e-9feb-ec42ccdc5d74",
   "metadata": {},
   "source": [
    "# Computing the least squares D-dim curve\n",
    "\n",
    "## Computing the gradient of RSS\n",
    "\n",
    "## Approach 1: closed-form solution\n",
    "* invertibility, # of obs\n",
    "\n",
    "## Approach 2: gradient descent:\n",
    "\n",
    "## Feature-by-feature update\n",
    "\n"
   ]
  }
 ],
 "metadata": {
  "kernelspec": {
   "display_name": "Python 3",
   "language": "python",
   "name": "python3"
  },
  "language_info": {
   "codemirror_mode": {
    "name": "ipython",
    "version": 3
   },
   "file_extension": ".py",
   "mimetype": "text/x-python",
   "name": "python",
   "nbconvert_exporter": "python",
   "pygments_lexer": "ipython3",
   "version": "3.7.11"
  }
 },
 "nbformat": 4,
 "nbformat_minor": 5
}
