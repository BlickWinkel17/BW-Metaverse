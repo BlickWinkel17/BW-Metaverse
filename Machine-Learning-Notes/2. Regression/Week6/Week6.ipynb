{
 "cells": [
  {
   "cell_type": "markdown",
   "id": "6ba691a4-b8e0-490e-897f-6e986715849b",
   "metadata": {},
   "source": [
    "# Motivating local fits\n",
    "\n",
    "## Limitations of parametric regression"
   ]
  },
  {
   "cell_type": "markdown",
   "id": "8c5e0d33-544c-44ac-890d-78b8a2fecbb7",
   "metadata": {},
   "source": [
    "# Nearest Neighbor regression\n",
    "\n",
    "## 1-nearest neighbor regression approach\n",
    "\n",
    "## distance between metrics\n",
    "\n",
    "## 1-Nearest neighbor algorithm\n"
   ]
  },
  {
   "cell_type": "markdown",
   "id": "a8e89611-957e-4b98-8d4c-2fbf94d2d08f",
   "metadata": {},
   "source": [
    "# k-nearest neighbors and weighted k-nearest neighbors\n",
    "\n",
    "## k-nearest neighbor regression\n",
    "\n",
    "## k-nearest neighbors in practice\n",
    "\n",
    "## Weighted k-nearest neighbors"
   ]
  },
  {
   "cell_type": "markdown",
   "id": "6b2e0579-46a4-42d4-805e-db3ccbdee48b",
   "metadata": {},
   "source": [
    "# Kernel Regression\n",
    "\n",
    "## From weighted kNN to kernel regression\n",
    "\n",
    "## Global fits of parametric models vs. local fits of kernel regression"
   ]
  },
  {
   "cell_type": "markdown",
   "id": "c6325e76-6e91-42f5-bdd3-e19485810c31",
   "metadata": {},
   "source": [
    "# kNN and kernel regression wrapup\n",
    "\n",
    "## Performance of NN as amount of data grows\n",
    "\n",
    "## Issues with high-dims, data scarcity, and computational complexity\n",
    "\n",
    "## kNN for classification"
   ]
  },
  {
   "cell_type": "code",
   "execution_count": null,
   "id": "d64069de-a1d9-4ae1-b938-099f95d0c2d3",
   "metadata": {},
   "outputs": [],
   "source": []
  }
 ],
 "metadata": {
  "kernelspec": {
   "display_name": "Python 3",
   "language": "python",
   "name": "python3"
  },
  "language_info": {
   "codemirror_mode": {
    "name": "ipython",
    "version": 3
   },
   "file_extension": ".py",
   "mimetype": "text/x-python",
   "name": "python",
   "nbconvert_exporter": "python",
   "pygments_lexer": "ipython3",
   "version": "3.7.11"
  }
 },
 "nbformat": 4,
 "nbformat_minor": 5
}
