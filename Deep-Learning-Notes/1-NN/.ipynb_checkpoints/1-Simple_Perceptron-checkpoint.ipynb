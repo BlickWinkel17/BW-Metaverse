{
 "cells": [
  {
   "cell_type": "markdown",
   "id": "2f272ee8-add3-4e99-9983-fe16d575b13b",
   "metadata": {},
   "source": [
    "Recall that the perceptron step works as follows. For a point with coordinates $(p,q)(p,q)$, label $y$, and prediction given by the equation \n",
    "\n",
    "$$\n",
    "\\hat{y} = step(w_1x_1 + w_2x_2 + b) \n",
    "$$\n",
    "\n",
    "- If the point is correctly classified, do nothing.\n",
    "- If the point is classified positive, but it has a negative label, subtract $\\alpha p$, $\\alpha q$, and $\\alphaα$ from $w_1$, $w_2$, and $b$ respectively.\n",
    "- If the point is classified negative, but it has a positive label, add $\\alpha p$, $\\alpha q$, and $\\alphaα$ from $w_1$, $w_2$, and $b$ respectively."
   ]
  },
  {
   "cell_type": "code",
   "execution_count": 1,
   "id": "442b3992-339c-4e20-9289-70f35f556dd7",
   "metadata": {},
   "outputs": [],
   "source": [
    "import numpy as np\n",
    "# Setting the random seed, feel free to change it and see different solutions.\n",
    "np.random.seed(42)"
   ]
  },
  {
   "cell_type": "code",
   "execution_count": null,
   "id": "f01f148e-bcb8-4fa1-8c8d-f4731e9f6e62",
   "metadata": {},
   "outputs": [],
   "source": [
    "def stepFunction(t):\n",
    "    if t >= 0:\n",
    "        return 1\n",
    "    return 0\n",
    "\n",
    "def prediction(X, W, b):\n",
    "    return stepFunction((np.matmul(X,W)+b)[0])\n",
    "\n",
    "def perceptronStep(X, y, W, b, learn_rate = 0.01):\n",
    "    '''\n",
    "    The function should receive as inputs the data X, the labels y,\n",
    "    the weights W (as an array), and the bias b,\n",
    "    update the weights and bias W, b, according to the perceptron algorithm,\n",
    "    and return W and b.\n",
    "    '''\n",
    "    for i in range(len(X)):\n",
    "        y_pred = prediction(X[i], W, b)\n",
    "        if y_pred != y[i]:\n",
    "            if y_pred == 1:\n",
    "                W[0] -= X[i][0]*learn_rate\n",
    "                W[1] -= X[i][1]*learn_rate\n",
    "                b -= learn_rate\n",
    "            else:\n",
    "                W[0] += X[i][0]*learn_rate\n",
    "                W[1] += X[i][1]*learn_rate\n",
    "                b += learn_rate            \n",
    "    return W, b\n",
    "\n",
    "    \n",
    "# This function runs the perceptron algorithm repeatedly on the dataset,\n",
    "# and returns a few of the boundary lines obtained in the iterations,\n",
    "# for plotting purposes.\n",
    "# Feel free to play with the learning rate and the num_epochs,\n",
    "# and see your results plotted below.\n",
    "def trainPerceptronAlgorithm(X, y, learn_rate = 0.01, num_epochs = 25):\n",
    "    x_min, x_max = min(X.T[0]), max(X.T[0])\n",
    "    y_min, y_max = min(X.T[1]), max(X.T[1])\n",
    "    W = np.array(np.random.rand(2,1))\n",
    "    b = np.random.rand(1)[0] + x_max\n",
    "    # These are the solution lines that get plotted below.\n",
    "    boundary_lines = []\n",
    "    for i in range(num_epochs):\n",
    "        # In each epoch, we apply the perceptron step.\n",
    "        W, b = perceptronStep(X, y, W, b, learn_rate)\n",
    "        boundary_lines.append((-W[0]/W[1], -b/W[1]))\n",
    "    return boundary_lines"
   ]
  }
 ],
 "metadata": {
  "kernelspec": {
   "display_name": "Python 3",
   "language": "python",
   "name": "python3"
  },
  "language_info": {
   "codemirror_mode": {
    "name": "ipython",
    "version": 3
   },
   "file_extension": ".py",
   "mimetype": "text/x-python",
   "name": "python",
   "nbconvert_exporter": "python",
   "pygments_lexer": "ipython3",
   "version": "3.8.11"
  }
 },
 "nbformat": 4,
 "nbformat_minor": 5
}
