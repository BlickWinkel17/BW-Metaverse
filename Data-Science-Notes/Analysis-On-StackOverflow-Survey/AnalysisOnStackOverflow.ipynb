{
 "cells": [
  {
   "cell_type": "markdown",
   "metadata": {},
   "source": [
    "# Data Scientist Nanodegree\n",
    "\n",
    "## Data Science Blog\n",
    "\n",
    "## Project: Analysis on data scientists based on Stack Overflow survey \n",
    "\n",
    "In this notebook , we explore the data from Stack Overflow Annual Developer Survey(https://insights.stackoverflow.com/survey) to give the newest overview of the data industry in 2021. In this notebook, I will follow a __CRISP-DM__ process:\n",
    "\n",
    "\n",
    "First, from a __Business understanding__, I aim to find out the answers to the following three questions:\n",
    "\n",
    "- __Q1: What proportion of developers work as data scientists?__\n",
    "- __Q2: What programming languages do data scientists use mostly?__\n",
    "- __Q3: What and Why should data scientists learn besides Python and SQL?__\n",
    "\n",
    "From a __Data understanding__:\n",
    "- Q1 requires data of devTypes developers reported in the survey\n",
    "- Q2 and Q3 requires data of languages developers reported to have worked with in the survey\n",
    "- Data of salary or income is also required in order to investigate the relation between developer types, programming skills and income.\n",
    "\n",
    "For the __Data Preparation__ part:\n",
    "- Data is already available as csv files in https://insights.stackoverflow.com/survey\n",
    "- Pandas library can easily load, clean and analyze these data.\n",
    "\n",
    "In the __Modeling__ part:\n",
    "- My question requires no machine learning or deep learning models, therefore descriptive or inferential statistics will be provided.\n",
    "\n",
    "For the final __Evaluation and Deployment__ part:\n",
    "- Analysis based on this notebook will be posted in medium as a blog.\n",
    "- The whole data analysis process will also be posted to a github repo so that it can be accessed by other developers."
   ]
  },
  {
   "cell_type": "code",
   "execution_count": 1,
   "metadata": {},
   "outputs": [],
   "source": [
    "import numpy as np\n",
    "import pandas as pd\n",
    "import matplotlib.pyplot as plt\n",
    "import re\n",
    "%matplotlib inline\n"
   ]
  },
  {
   "cell_type": "code",
   "execution_count": 2,
   "metadata": {},
   "outputs": [],
   "source": [
    "# load survey between 2019 and 2021\n",
    "df1 = pd.read_csv(r'developer_survey_2021/survey_results_public.csv')\n",
    "df2 = pd.read_csv(r'developer_survey_2020/survey_results_public.csv')\n",
    "df3 = pd.read_csv(r'developer_survey_2019/survey_results_public.csv')"
   ]
  },
  {
   "cell_type": "code",
   "execution_count": 3,
   "metadata": {},
   "outputs": [],
   "source": [
    "interestedColumns1 = ['ConvertedCompYearly','Country', \n",
    "                     'DevType','LanguageHaveWorkedWith','LanguageWantToWorkWith',\n",
    "                      'MiscTechHaveWorkedWith','MiscTechWantToWorkWith']"
   ]
  },
  {
   "cell_type": "code",
   "execution_count": 4,
   "metadata": {},
   "outputs": [],
   "source": [
    "df1 = df1[interestedColumns1]"
   ]
  },
  {
   "cell_type": "code",
   "execution_count": 5,
   "metadata": {},
   "outputs": [],
   "source": [
    "# For comparability, I focus on data only from the USA\n",
    "df1_USA = df1[df1['Country'] == 'United States of America']\n",
    "df2_USA = df2[df2['Country'] == 'United States']\n",
    "df3_USA = df3[df3['Country'] == 'United States']"
   ]
  },
  {
   "cell_type": "code",
   "execution_count": 6,
   "metadata": {},
   "outputs": [],
   "source": [
    "# Since data will be grouped by DevType, missing values in this column are dropped\n",
    "df1_USA = df1_USA.dropna(subset=['DevType'])\n",
    "df2_USA = df2_USA.dropna(subset=['DevType'])\n",
    "df3_USA = df3_USA.dropna(subset=['DevType'])"
   ]
  },
  {
   "cell_type": "code",
   "execution_count": 7,
   "metadata": {},
   "outputs": [],
   "source": [
    "# create a dummy variable for DevType\n",
    "dataReg = r\"data|machine|deep\"\n",
    "\n",
    "df1_USA['isDataRelated'] = df1_USA['DevType'].apply(lambda row: 1 if re.search(dataReg, row, re.I) else 0)\n",
    "df2_USA['isDataRelated'] = df2_USA['DevType'].apply(lambda row: 1 if re.search(dataReg, row, re.I) else 0)\n",
    "df3_USA['isDataRelated'] = df3_USA['DevType'].apply(lambda row: 1 if re.search(dataReg, row, re.I) else 0)"
   ]
  },
  {
   "cell_type": "code",
   "execution_count": null,
   "metadata": {},
   "outputs": [],
   "source": []
  },
  {
   "cell_type": "code",
   "execution_count": null,
   "metadata": {},
   "outputs": [],
   "source": []
  },
  {
   "cell_type": "markdown",
   "metadata": {},
   "source": [
    "# Q1: What proportion of developers work as data scientists?"
   ]
  },
  {
   "cell_type": "code",
   "execution_count": 9,
   "metadata": {},
   "outputs": [],
   "source": [
    "r3 = df1_USA['isDataRelated'].sum()/df1_USA.shape[0]"
   ]
  },
  {
   "cell_type": "code",
   "execution_count": 10,
   "metadata": {},
   "outputs": [],
   "source": [
    "r2 = df2_USA['isDataRelated'].sum()/df2_USA.shape[0]"
   ]
  },
  {
   "cell_type": "code",
   "execution_count": 11,
   "metadata": {},
   "outputs": [],
   "source": [
    "r1 = df3_USA['isDataRelated'].sum()/df3_USA.shape[0]"
   ]
  },
  {
   "cell_type": "code",
   "execution_count": 13,
   "metadata": {},
   "outputs": [
    {
     "name": "stdout",
     "output_type": "stream",
     "text": [
      "21.67% of developers reported themselves as data scientists in 2021\n",
      "26.62% of developers reported themselves as data scientists in 2020\n",
      "26.17% of developers reported themselves as data scientists in 2019\n"
     ]
    }
   ],
   "source": [
    "print(\"{:.2%} of developers reported themselves as data scientists in 2021\".format(r3))\n",
    "print(\"{:.2%} of developers reported themselves as data scientists in 2020\".format(r2))\n",
    "print(\"{:.2%} of developers reported themselves as data scientists in 2019\".format(r1))"
   ]
  },
  {
   "cell_type": "code",
   "execution_count": 17,
   "metadata": {},
   "outputs": [
    {
     "data": {
      "image/png": "[encoded data removed]",
      "text/plain": [
       "<Figure size 432x288 with 1 Axes>"
      ]
     },
     "metadata": {
      "needs_background": "light"
     },
     "output_type": "display_data"
    }
   ],
   "source": [
    "fig = plt.figure()\n",
    "ax = fig.add_axes([0,0,1,1])\n",
    "yrs = ['2019', '2020', '2021']\n",
    "ratios = [r1,r2,r3]\n",
    "ax.bar(yrs,ratios, width = 0.5, color=['green', 'blue', 'cyan'])\n",
    "ax.set_title('Ratios of data-related positions in developers')\n",
    "plt.xlabel(\"year\")\n",
    "plt.ylabel(\"Ratio of data analysts\")\n",
    "plt.show()"
   ]
  },
  {
   "cell_type": "markdown",
   "metadata": {},
   "source": [
    "__It seems that in 2021 data science became less popular, at least in the USA. \n",
    "However, it should be noticed that more than 20% is still significant, especially under the pandemic.__"
   ]
  },
  {
   "cell_type": "markdown",
   "metadata": {},
   "source": [
    "In the analysis below, I focused only on the data from 2021 survey."
   ]
  },
  {
   "cell_type": "code",
   "execution_count": 14,
   "metadata": {},
   "outputs": [],
   "source": [
    "DataRelatedDF = df1_USA[df1_USA['isDataRelated']==1]"
   ]
  },
  {
   "cell_type": "code",
   "execution_count": 16,
   "metadata": {},
   "outputs": [
    {
     "name": "stderr",
     "output_type": "stream",
     "text": [
      "<ipython-input-16-0d75cbb73082>:2: SettingWithCopyWarning: \n",
      "A value is trying to be set on a copy of a slice from a DataFrame.\n",
      "Try using .loc[row_indexer,col_indexer] = value instead\n",
      "\n",
      "See the caveats in the documentation: https://pandas.pydata.org/pandas-docs/stable/user_guide/indexing.html#returning-a-view-versus-a-copy\n",
      "  DataRelatedDF['isDataScientist'] = DataRelatedDF['DevType'].apply(lambda row: 1 if 'Data scientist or machine learning specialist' in row else 0)\n",
      "<ipython-input-16-0d75cbb73082>:3: SettingWithCopyWarning: \n",
      "A value is trying to be set on a copy of a slice from a DataFrame.\n",
      "Try using .loc[row_indexer,col_indexer] = value instead\n",
      "\n",
      "See the caveats in the documentation: https://pandas.pydata.org/pandas-docs/stable/user_guide/indexing.html#returning-a-view-versus-a-copy\n",
      "  DataRelatedDF['isDataAnalyst'] = DataRelatedDF['DevType'].apply(lambda row: 1 if 'Data or business analyst' in row else 0)\n",
      "<ipython-input-16-0d75cbb73082>:4: SettingWithCopyWarning: \n",
      "A value is trying to be set on a copy of a slice from a DataFrame.\n",
      "Try using .loc[row_indexer,col_indexer] = value instead\n",
      "\n",
      "See the caveats in the documentation: https://pandas.pydata.org/pandas-docs/stable/user_guide/indexing.html#returning-a-view-versus-a-copy\n",
      "  DataRelatedDF['isDataEngineer'] = DataRelatedDF['DevType'].apply(lambda row: 1 if 'Engineer, data' in row else 0)\n"
     ]
    }
   ],
   "source": [
    "# Create dummies for DevTypes\n",
    "DataRelatedDF['isDataScientist'] = DataRelatedDF['DevType'].apply(lambda row: 1 if 'Data scientist or machine learning specialist' in row else 0)\n",
    "DataRelatedDF['isDataAnalyst'] = DataRelatedDF['DevType'].apply(lambda row: 1 if 'Data or business analyst' in row else 0)\n",
    "DataRelatedDF['isDataEngineer'] = DataRelatedDF['DevType'].apply(lambda row: 1 if 'Engineer, data' in row else 0)"
   ]
  },
  {
   "cell_type": "code",
   "execution_count": 18,
   "metadata": {},
   "outputs": [],
   "source": [
    "DS_cnt = DataRelatedDF['isDataScientist'].sum()\n",
    "DA_cnt = DataRelatedDF['isDataAnalyst'].sum()\n",
    "DE_cnt = DataRelatedDF['isDataEngineer'].sum()"
   ]
  },
  {
   "cell_type": "code",
   "execution_count": 19,
   "metadata": {},
   "outputs": [
    {
     "data": {
      "image/png": "[encoded data removed]",
      "text/plain": [
       "<Figure size 432x288 with 1 Axes>"
      ]
     },
     "metadata": {},
     "output_type": "display_data"
    }
   ],
   "source": [
    "labels = 'Data Scientist', 'Data Analyst', 'Data Engineer'\n",
    "sizes = [903, 871, 996]\n",
    "explode = (0.1, 0, 0)  \n",
    "\n",
    "fig1, ax1 = plt.subplots()\n",
    "ax1.pie(sizes, explode=explode, labels=labels, autopct='%1.1f%%',\n",
    "        shadow=True, startangle=90)\n",
    "ax1.set_title('Ratio of different devTypes in data industry')\n",
    "ax1.axis('equal')  \n",
    "\n",
    "plt.show()"
   ]
  },
  {
   "cell_type": "code",
   "execution_count": 21,
   "metadata": {},
   "outputs": [
    {
     "name": "stdout",
     "output_type": "stream",
     "text": [
      "903 developers reported themselves as data scientists in 2021\n",
      "871 developers reported themselves as data analysts in 2021\n",
      "996 developers reported themselves as data engineers in 2021\n"
     ]
    }
   ],
   "source": [
    "print(\"{} developers reported themselves as data scientists in 2021\".format(DS_cnt))\n",
    "print(\"{} developers reported themselves as data analysts in 2021\".format(DA_cnt))\n",
    "print(\"{} developers reported themselves as data engineers in 2021\".format(DE_cnt))"
   ]
  },
  {
   "cell_type": "code",
   "execution_count": null,
   "metadata": {},
   "outputs": [],
   "source": []
  },
  {
   "cell_type": "markdown",
   "metadata": {},
   "source": [
    "# Q2: What programming languages do data scientists use mostly?"
   ]
  },
  {
   "cell_type": "code",
   "execution_count": 22,
   "metadata": {},
   "outputs": [],
   "source": [
    "# In order to investigate languages used by data scientists, drop missing values in these two column\n",
    "DataRelatedDF = DataRelatedDF.dropna(subset=['LanguageHaveWorkedWith', 'LanguageWantToWorkWith'])"
   ]
  },
  {
   "cell_type": "code",
   "execution_count": 23,
   "metadata": {},
   "outputs": [],
   "source": [
    "from collections import defaultdict"
   ]
  },
  {
   "cell_type": "code",
   "execution_count": 24,
   "metadata": {},
   "outputs": [],
   "source": [
    "def total_count(df, col1, col2, look_for):\n",
    "    '''\n",
    "    INPUT:\n",
    "    df - the pandas dataframe you want to search\n",
    "    col1 - the column name you want to look through\n",
    "    col2 - the column you want to count values from\n",
    "    look_for - a list of strings you want to search for in each row of df[col]\n",
    "\n",
    "    OUTPUT:\n",
    "    new_df - a dataframe of each look_for with the count of how often it shows up\n",
    "    '''\n",
    "    new_df = defaultdict(int)\n",
    "    #loop through list of ed types\n",
    "    for val in look_for:\n",
    "        #loop through rows\n",
    "        for idx in range(df.shape[0]):\n",
    "            #if the ed type is in the row add 1\n",
    "            splits = set(df[col1][idx].split(';'))\n",
    "            if val in splits:\n",
    "                new_df[val] += int(df[col2][idx])\n",
    "    new_df = pd.DataFrame(pd.Series(new_df)).reset_index()\n",
    "    new_df.columns = [col1, col2]\n",
    "    new_df.sort_values('count', ascending=False, inplace=True)\n",
    "    return new_df"
   ]
  },
  {
   "cell_type": "code",
   "execution_count": 65,
   "metadata": {},
   "outputs": [],
   "source": [
    "def clean_and_plot(df, index_name, column_name, title, possible_vals, plot=True, threshold=0):\n",
    "    '''\n",
    "    INPUT \n",
    "        df - a dataframe holding the DevType column\n",
    "        title - string the title of your plot\n",
    "        axis - axis object\n",
    "        plot - bool providing whether or not you want a plot back\n",
    "        \n",
    "    OUTPUT\n",
    "        study_df - a dataframe with the count of how many individuals\n",
    "        Displays a plot of pretty things related to the DevType column.\n",
    "    '''\n",
    "    study = df[column_name].value_counts().reset_index()\n",
    "    study.rename(columns={'index': index_name, column_name: 'count'}, inplace=True)\n",
    "    #print(study)\n",
    "    study_df = total_count(study, index_name, 'count', possible_vals)\n",
    "    \n",
    "    study_df.set_index(index_name, inplace=True)\n",
    "    df_to_plot = (study_df/len(df))\n",
    "    # dropna is necessary here for visualization, since elements < threshold become NaN in df_to_plot\n",
    "    # without dropna, these columns with NaN will apear in the plot\n",
    "    df_to_plot = df_to_plot[df_to_plot>=threshold]#.dropna()\n",
    "    #print(df_to_plot)\n",
    "    if plot:\n",
    "        df_to_plot.plot(kind='bar', legend=None);\n",
    "        plt.title(title);\n",
    "        plt.show()\n",
    "    props_study_df = study_df/len(df)\n",
    "    return props_study_df"
   ]
  },
  {
   "cell_type": "code",
   "execution_count": 26,
   "metadata": {},
   "outputs": [],
   "source": [
    "# find out all languages appeared in our dataset and store in sets\n",
    "PastLanguages = set()\n",
    "for LanguageSet in DataRelatedDF['LanguageHaveWorkedWith']:\n",
    "    try:\n",
    "        PastLanguages = PastLanguages|set(LanguageSet.split(';'))\n",
    "    except:\n",
    "        continue\n",
    "\n",
    "DesiredLanguages = set()\n",
    "for LanguageSet in DataRelatedDF['LanguageWantToWorkWith']:\n",
    "    try:\n",
    "        DesiredLanguages = DesiredLanguages|set(LanguageSet.split(';'))\n",
    "    except:\n",
    "        continue"
   ]
  },
  {
   "cell_type": "code",
   "execution_count": 27,
   "metadata": {},
   "outputs": [
    {
     "name": "stdout",
     "output_type": "stream",
     "text": [
      "{'SQL', 'Node.js', 'PHP', 'Java', 'Scala', 'Groovy', 'Elixir', 'Crystal', 'Perl', 'Swift', 'Objective-C', 'Assembly', 'Matlab', 'JavaScript', 'Bash/Shell', 'R', 'HTML/CSS', 'C++', 'F#', 'Clojure', 'APL', 'Delphi', 'Dart', 'Ruby', 'C#', 'Haskell', 'VBA', 'Erlang', 'Kotlin', 'COBOL', 'LISP', 'TypeScript', 'PowerShell', 'Go', 'Julia', 'C', 'Rust', 'Python'} \n",
      " {'SQL', 'Node.js', 'PHP', 'Java', 'Scala', 'Groovy', 'Elixir', 'Crystal', 'Swift', 'Perl', 'Objective-C', 'Assembly', 'Matlab', 'JavaScript', 'Bash/Shell', 'R', 'HTML/CSS', 'C++', 'F#', 'Clojure', 'APL', 'Dart', 'Delphi', 'Ruby', 'C#', 'Haskell', 'VBA', 'Erlang', 'Kotlin', 'COBOL', 'LISP', 'TypeScript', 'PowerShell', 'Go', 'Julia', 'C', 'Rust', 'Python'}\n"
     ]
    }
   ],
   "source": [
    "print(PastLanguages, '\\n', DesiredLanguages)"
   ]
  },
  {
   "cell_type": "code",
   "execution_count": 64,
   "metadata": {},
   "outputs": [
    {
     "data": {
      "image/png": "[encoded data removed]",
      "text/plain": [
       "<Figure size 432x288 with 1 Axes>"
      ]
     },
     "metadata": {
      "needs_background": "light"
     },
     "output_type": "display_data"
    },
    {
     "data": {
      "image/png": "[encoded data removed]",
      "text/plain": [
       "<Figure size 432x288 with 1 Axes>"
      ]
     },
     "metadata": {
      "needs_background": "light"
     },
     "output_type": "display_data"
    },
    {
     "data": {
      "image/png": "[encoded data removed]",
      "text/plain": [
       "<Figure size 432x288 with 1 Axes>"
      ]
     },
     "metadata": {
      "needs_background": "light"
     },
     "output_type": "display_data"
    }
   ],
   "source": [
    "# Visualization of Languages data scientists report to have worked with, by devTypes\n",
    "possible_vals = list(PastLanguages)\n",
    "DataScientists = DataRelatedDF.query(\"isDataScientist==1\")\n",
    "props_DS = clean_and_plot(DataScientists, \n",
    "                          index_name='Language',column_name='LanguageHaveWorkedWith', title='Data Scientists',\n",
    "                          possible_vals = possible_vals, threshold=0.1)\n",
    "\n",
    "DataAnalysts = DataRelatedDF.query(\"isDataAnalyst==1\")\n",
    "props_DA = clean_and_plot(DataAnalysts, \n",
    "                          index_name='Language',column_name='LanguageHaveWorkedWith', title='Data Analysts',\n",
    "                          possible_vals = possible_vals, threshold=0.1)\n",
    "\n",
    "DataEngineers = DataRelatedDF.query(\"isDataEngineer==1\")\n",
    "props_DE = clean_and_plot(DataEngineers, \n",
    "                          index_name='Language',column_name='LanguageHaveWorkedWith', title='Data Engineers',\n",
    "                          possible_vals = possible_vals, threshold=0.1)"
   ]
  },
  {
   "cell_type": "code",
   "execution_count": 30,
   "metadata": {},
   "outputs": [
    {
     "data": {
      "image/png": "[encoded data removed]",
      "text/plain": [
       "<Figure size 432x288 with 1 Axes>"
      ]
     },
     "metadata": {
      "needs_background": "light"
     },
     "output_type": "display_data"
    }
   ],
   "source": [
    "# Visualization of Languages data scientists report to have worked with\n",
    "props_all = clean_and_plot(DataRelatedDF, \n",
    "                          index_name='Language',column_name='LanguageHaveWorkedWith', title='Language Have Worked With',\n",
    "                          possible_vals = possible_vals, threshold=0.1)"
   ]
  },
  {
   "cell_type": "markdown",
   "metadata": {},
   "source": [
    "__Focusing on the most popular languages among data scientists, SQL ranks top with over 70% of data scientists working with it, and Python ranks second with over 60%.\n",
    "Here is the interesting story, we can see that JavaScript and HTML/CSS rank third and fourth. It seems that more than half of data scientists also work with these front-end languages.__"
   ]
  },
  {
   "cell_type": "code",
   "execution_count": 34,
   "metadata": {},
   "outputs": [],
   "source": [
    "# Create dummies for languages\n",
    "for Language in PastLanguages:\n",
    "    DataRelatedDF[Language] = DataRelatedDF['LanguageHaveWorkedWith'].apply(lambda row: 1 if Language in row.split(';') else 0)"
   ]
  },
  {
   "cell_type": "code",
   "execution_count": 36,
   "metadata": {},
   "outputs": [
    {
     "data": {
      "text/html": [
       "<div>\n",
       "<style scoped>\n",
       "    .dataframe tbody tr th:only-of-type {\n",
       "        vertical-align: middle;\n",
       "    }\n",
       "\n",
       "    .dataframe tbody tr th {\n",
       "        vertical-align: top;\n",
       "    }\n",
       "\n",
       "    .dataframe thead th {\n",
       "        text-align: right;\n",
       "    }\n",
       "</style>\n",
       "<table border=\"1\" class=\"dataframe\">\n",
       "  <thead>\n",
       "    <tr style=\"text-align: right;\">\n",
       "      <th></th>\n",
       "      <th>SQL</th>\n",
       "      <th>Node.js</th>\n",
       "      <th>PHP</th>\n",
       "      <th>Java</th>\n",
       "      <th>Scala</th>\n",
       "      <th>Groovy</th>\n",
       "      <th>Elixir</th>\n",
       "      <th>Crystal</th>\n",
       "      <th>Perl</th>\n",
       "      <th>Swift</th>\n",
       "      <th>...</th>\n",
       "      <th>Kotlin</th>\n",
       "      <th>COBOL</th>\n",
       "      <th>LISP</th>\n",
       "      <th>TypeScript</th>\n",
       "      <th>PowerShell</th>\n",
       "      <th>Go</th>\n",
       "      <th>Julia</th>\n",
       "      <th>C</th>\n",
       "      <th>Rust</th>\n",
       "      <th>Python</th>\n",
       "    </tr>\n",
       "  </thead>\n",
       "  <tbody>\n",
       "    <tr>\n",
       "      <th>61</th>\n",
       "      <td>0</td>\n",
       "      <td>0</td>\n",
       "      <td>0</td>\n",
       "      <td>0</td>\n",
       "      <td>0</td>\n",
       "      <td>0</td>\n",
       "      <td>0</td>\n",
       "      <td>0</td>\n",
       "      <td>0</td>\n",
       "      <td>0</td>\n",
       "      <td>...</td>\n",
       "      <td>0</td>\n",
       "      <td>0</td>\n",
       "      <td>0</td>\n",
       "      <td>0</td>\n",
       "      <td>0</td>\n",
       "      <td>0</td>\n",
       "      <td>0</td>\n",
       "      <td>0</td>\n",
       "      <td>0</td>\n",
       "      <td>1</td>\n",
       "    </tr>\n",
       "    <tr>\n",
       "      <th>62</th>\n",
       "      <td>1</td>\n",
       "      <td>1</td>\n",
       "      <td>0</td>\n",
       "      <td>0</td>\n",
       "      <td>0</td>\n",
       "      <td>0</td>\n",
       "      <td>0</td>\n",
       "      <td>0</td>\n",
       "      <td>0</td>\n",
       "      <td>0</td>\n",
       "      <td>...</td>\n",
       "      <td>0</td>\n",
       "      <td>0</td>\n",
       "      <td>0</td>\n",
       "      <td>0</td>\n",
       "      <td>1</td>\n",
       "      <td>0</td>\n",
       "      <td>0</td>\n",
       "      <td>0</td>\n",
       "      <td>0</td>\n",
       "      <td>1</td>\n",
       "    </tr>\n",
       "    <tr>\n",
       "      <th>64</th>\n",
       "      <td>0</td>\n",
       "      <td>0</td>\n",
       "      <td>0</td>\n",
       "      <td>0</td>\n",
       "      <td>0</td>\n",
       "      <td>0</td>\n",
       "      <td>0</td>\n",
       "      <td>0</td>\n",
       "      <td>0</td>\n",
       "      <td>0</td>\n",
       "      <td>...</td>\n",
       "      <td>0</td>\n",
       "      <td>0</td>\n",
       "      <td>0</td>\n",
       "      <td>0</td>\n",
       "      <td>0</td>\n",
       "      <td>0</td>\n",
       "      <td>0</td>\n",
       "      <td>0</td>\n",
       "      <td>0</td>\n",
       "      <td>1</td>\n",
       "    </tr>\n",
       "    <tr>\n",
       "      <th>87</th>\n",
       "      <td>0</td>\n",
       "      <td>0</td>\n",
       "      <td>0</td>\n",
       "      <td>0</td>\n",
       "      <td>0</td>\n",
       "      <td>0</td>\n",
       "      <td>0</td>\n",
       "      <td>0</td>\n",
       "      <td>0</td>\n",
       "      <td>0</td>\n",
       "      <td>...</td>\n",
       "      <td>0</td>\n",
       "      <td>0</td>\n",
       "      <td>0</td>\n",
       "      <td>0</td>\n",
       "      <td>0</td>\n",
       "      <td>0</td>\n",
       "      <td>1</td>\n",
       "      <td>0</td>\n",
       "      <td>0</td>\n",
       "      <td>1</td>\n",
       "    </tr>\n",
       "    <tr>\n",
       "      <th>153</th>\n",
       "      <td>1</td>\n",
       "      <td>1</td>\n",
       "      <td>0</td>\n",
       "      <td>1</td>\n",
       "      <td>1</td>\n",
       "      <td>0</td>\n",
       "      <td>0</td>\n",
       "      <td>0</td>\n",
       "      <td>0</td>\n",
       "      <td>0</td>\n",
       "      <td>...</td>\n",
       "      <td>0</td>\n",
       "      <td>0</td>\n",
       "      <td>0</td>\n",
       "      <td>1</td>\n",
       "      <td>0</td>\n",
       "      <td>1</td>\n",
       "      <td>0</td>\n",
       "      <td>1</td>\n",
       "      <td>0</td>\n",
       "      <td>1</td>\n",
       "    </tr>\n",
       "  </tbody>\n",
       "</table>\n",
       "<p>5 rows × 38 columns</p>\n",
       "</div>"
      ],
      "text/plain": [
       "     SQL  Node.js  PHP  Java  Scala  Groovy  Elixir  Crystal  Perl  Swift  \\\n",
       "61     0        0    0     0      0       0       0        0     0      0   \n",
       "62     1        1    0     0      0       0       0        0     0      0   \n",
       "64     0        0    0     0      0       0       0        0     0      0   \n",
       "87     0        0    0     0      0       0       0        0     0      0   \n",
       "153    1        1    0     1      1       0       0        0     0      0   \n",
       "\n",
       "     ...  Kotlin  COBOL  LISP  TypeScript  PowerShell  Go  Julia  C  Rust  \\\n",
       "61   ...       0      0     0           0           0   0      0  0     0   \n",
       "62   ...       0      0     0           0           1   0      0  0     0   \n",
       "64   ...       0      0     0           0           0   0      0  0     0   \n",
       "87   ...       0      0     0           0           0   0      1  0     0   \n",
       "153  ...       0      0     0           1           0   1      0  1     0   \n",
       "\n",
       "     Python  \n",
       "61        1  \n",
       "62        1  \n",
       "64        1  \n",
       "87        1  \n",
       "153       1  \n",
       "\n",
       "[5 rows x 38 columns]"
      ]
     },
     "execution_count": 36,
     "metadata": {},
     "output_type": "execute_result"
    }
   ],
   "source": [
    "DataRelatedDF[PastLanguages].head()"
   ]
  },
  {
   "cell_type": "code",
   "execution_count": 37,
   "metadata": {},
   "outputs": [
    {
     "data": {
      "text/plain": [
       "SQL            1783\n",
       "Python         1650\n",
       "JavaScript     1518\n",
       "HTML/CSS       1342\n",
       "Bash/Shell     1110\n",
       "C#              772\n",
       "Node.js         755\n",
       "Java            665\n",
       "TypeScript      585\n",
       "C++             513\n",
       "PowerShell      492\n",
       "PHP             411\n",
       "C               400\n",
       "R               386\n",
       "Go              304\n",
       "VBA             262\n",
       "Ruby            230\n",
       "Rust            216\n",
       "Perl            158\n",
       "Scala           144\n",
       "Matlab          141\n",
       "Kotlin          120\n",
       "Swift           106\n",
       "Assembly        100\n",
       "Julia            94\n",
       "Groovy           94\n",
       "Clojure          92\n",
       "Objective-C      69\n",
       "LISP             67\n",
       "Dart             59\n",
       "Elixir           57\n",
       "Haskell          54\n",
       "F#               50\n",
       "Delphi           41\n",
       "Erlang           32\n",
       "Crystal          26\n",
       "COBOL            25\n",
       "APL              22\n",
       "dtype: int64"
      ]
     },
     "execution_count": 37,
     "metadata": {},
     "output_type": "execute_result"
    }
   ],
   "source": [
    "DataRelatedDF[PastLanguages].sum().sort_values(ascending=False)"
   ]
  },
  {
   "cell_type": "code",
   "execution_count": 50,
   "metadata": {},
   "outputs": [],
   "source": [
    "# add a new column of language_cnt\n",
    "DataRelatedDF['language_cnt'] = DataRelatedDF[PastLanguages].sum(axis=1)\n",
    "language_cnt = DataRelatedDF.groupby('language_cnt')['ConvertedCompYearly'].count()"
   ]
  },
  {
   "cell_type": "code",
   "execution_count": 51,
   "metadata": {},
   "outputs": [
    {
     "data": {
      "text/plain": [
       "language_cnt\n",
       "1      68\n",
       "2     183\n",
       "3     233\n",
       "4     291\n",
       "5     275\n",
       "6     259\n",
       "7     204\n",
       "8     140\n",
       "9     116\n",
       "10     78\n",
       "11     52\n",
       "12     41\n",
       "13     15\n",
       "14     17\n",
       "15     13\n",
       "16      6\n",
       "17      2\n",
       "18      3\n",
       "19      0\n",
       "21      1\n",
       "25      0\n",
       "27      0\n",
       "29      1\n",
       "30      1\n",
       "35      0\n",
       "38      2\n",
       "Name: ConvertedCompYearly, dtype: int64"
      ]
     },
     "execution_count": 51,
     "metadata": {},
     "output_type": "execute_result"
    }
   ],
   "source": [
    "language_cnt"
   ]
  },
  {
   "cell_type": "code",
   "execution_count": 52,
   "metadata": {},
   "outputs": [
    {
     "data": {
      "text/plain": [
       "(0.8745627186406797, 0.7581209395302348)"
      ]
     },
     "execution_count": 52,
     "metadata": {},
     "output_type": "execute_result"
    }
   ],
   "source": [
    "sum(language_cnt[2:])/sum(language_cnt), sum(language_cnt[3:])/sum(language_cnt)"
   ]
  },
  {
   "cell_type": "markdown",
   "metadata": {},
   "source": [
    "__87.6% of data scientists report to have worked with at least 3 languages, and 75.8% of them report to have worked with more than 4 languages.__"
   ]
  },
  {
   "cell_type": "code",
   "execution_count": null,
   "metadata": {},
   "outputs": [],
   "source": []
  },
  {
   "cell_type": "code",
   "execution_count": null,
   "metadata": {},
   "outputs": [],
   "source": []
  },
  {
   "cell_type": "markdown",
   "metadata": {},
   "source": [
    "# Q3: What and Why should data scientists learn besides Python and SQL?"
   ]
  },
  {
   "cell_type": "code",
   "execution_count": 53,
   "metadata": {},
   "outputs": [],
   "source": [
    "# in order to see the relation between language_cnt and ConvertedCompYearly, drop missing values in ConvertedCompYearly\n",
    "DataRelatedDF = DataRelatedDF.dropna(subset=['ConvertedCompYearly'])"
   ]
  },
  {
   "cell_type": "code",
   "execution_count": 54,
   "metadata": {},
   "outputs": [
    {
     "data": {
      "text/plain": [
       "language_cnt\n",
       "1     125000.0\n",
       "2     120000.0\n",
       "3     120000.0\n",
       "4     113362.0\n",
       "5     120000.0\n",
       "6     110000.0\n",
       "7     109500.0\n",
       "8     126500.0\n",
       "9     120000.0\n",
       "10    142000.0\n",
       "11    150000.0\n",
       "12    115000.0\n",
       "13    120000.0\n",
       "14    137000.0\n",
       "15    124000.0\n",
       "16    162500.0\n",
       "17    137500.0\n",
       "18    195000.0\n",
       "21    165000.0\n",
       "Name: ConvertedCompYearly, dtype: float64"
      ]
     },
     "execution_count": 54,
     "metadata": {},
     "output_type": "execute_result"
    }
   ],
   "source": [
    "DataRelatedDF.groupby('language_cnt')['ConvertedCompYearly'].median()[:19]"
   ]
  },
  {
   "cell_type": "markdown",
   "metadata": {},
   "source": [
    "__Without surprise, more language skills generally also lead to higher competition and higher income in the data industry.__"
   ]
  },
  {
   "cell_type": "code",
   "execution_count": 55,
   "metadata": {},
   "outputs": [
    {
     "data": {
      "image/png": "[encoded data removed]",
      "text/plain": [
       "<Figure size 432x288 with 1 Axes>"
      ]
     },
     "metadata": {
      "needs_background": "light"
     },
     "output_type": "display_data"
    },
    {
     "data": {
      "image/png": "[encoded data removed]",
      "text/plain": [
       "<Figure size 432x288 with 1 Axes>"
      ]
     },
     "metadata": {
      "needs_background": "light"
     },
     "output_type": "display_data"
    },
    {
     "data": {
      "image/png": "[encoded data removed]",
      "text/plain": [
       "<Figure size 432x288 with 1 Axes>"
      ]
     },
     "metadata": {
      "needs_background": "light"
     },
     "output_type": "display_data"
    }
   ],
   "source": [
    "# Visualization of Languages data scientists report to want to work with, by devTypes\n",
    "possible_vals = list(DesiredLanguages)\n",
    "DataScientists = DataRelatedDF.query(\"isDataScientist==1\")\n",
    "props_DS = clean_and_plot(DataScientists, \n",
    "                          index_name='Language',column_name='LanguageWantToWorkWith', title='Data Scientists',\n",
    "                          possible_vals = possible_vals, threshold=0.1)\n",
    "\n",
    "DataAnalysts = DataRelatedDF.query(\"isDataAnalyst==1\")\n",
    "props_DA = clean_and_plot(DataAnalysts, \n",
    "                          index_name='Language',column_name='LanguageWantToWorkWith', title='Data Analysts',\n",
    "                          possible_vals = possible_vals, threshold=0.1)\n",
    "\n",
    "DataEngineers = DataRelatedDF.query(\"isDataEngineer==1\")\n",
    "props_DE = clean_and_plot(DataEngineers, \n",
    "                          index_name='Language',column_name='LanguageWantToWorkWith', title='Data Engineers',\n",
    "                          possible_vals = possible_vals, threshold=0.1)"
   ]
  },
  {
   "cell_type": "code",
   "execution_count": 56,
   "metadata": {},
   "outputs": [
    {
     "data": {
      "image/png": "[encoded data removed]",
      "text/plain": [
       "<Figure size 432x288 with 1 Axes>"
      ]
     },
     "metadata": {
      "needs_background": "light"
     },
     "output_type": "display_data"
    }
   ],
   "source": [
    "props_all = clean_and_plot(DataRelatedDF, \n",
    "                          index_name='Language',column_name='LanguageWantToWorkWith', title='Data Industry',\n",
    "                          possible_vals = possible_vals, threshold=0.1)"
   ]
  },
  {
   "cell_type": "code",
   "execution_count": null,
   "metadata": {},
   "outputs": [],
   "source": []
  }
 ],
 "metadata": {
  "kernelspec": {
   "display_name": "Python 3",
   "language": "python",
   "name": "python3"
  },
  "language_info": {
   "codemirror_mode": {
    "name": "ipython",
    "version": 3
   },
   "file_extension": ".py",
   "mimetype": "text/x-python",
   "name": "python",
   "nbconvert_exporter": "python",
   "pygments_lexer": "ipython3",
   "version": "3.8.5"
  }
 },
 "nbformat": 4,
 "nbformat_minor": 4
}
