{
 "cells": [
  {
   "cell_type": "code",
   "execution_count": 1,
   "metadata": {},
   "outputs": [],
   "source": [
    "import numpy as np\n",
    "import pandas as pd\n",
    "import matplotlib.pyplot as plt\n",
    "import re\n",
    "%matplotlib inline\n"
   ]
  },
  {
   "cell_type": "code",
   "execution_count": 2,
   "metadata": {},
   "outputs": [],
   "source": [
    "# load survey between 2019 and 2021\n",
    "df1 = pd.read_csv(r'C:\\Users\\BlickWinkel\\Desktop\\code\\BW_Metaverse\\DataScience\\StackOverflowData\\developer_survey_2021/survey_results_public.csv')\n",
    "df2 = pd.read_csv(r'C:\\Users\\BlickWinkel\\Desktop\\code\\BW_Metaverse\\DataScience\\StackOverflowData\\developer_survey_2020/survey_results_public.csv')\n",
    "df3 = pd.read_csv(r'C:\\Users\\BlickWinkel\\Desktop\\code\\BW_Metaverse\\DataScience\\StackOverflowData\\developer_survey_2019/survey_results_public.csv')"
   ]
  },
  {
   "cell_type": "code",
   "execution_count": 3,
   "metadata": {},
   "outputs": [],
   "source": [
    "interestedColumns1 = ['ConvertedCompYearly','Country', \n",
    "                     'DevType','LanguageHaveWorkedWith','LanguageWantToWorkWith',\n",
    "                      'MiscTechHaveWorkedWith','MiscTechWantToWorkWith']"
   ]
  },
  {
   "cell_type": "code",
   "execution_count": 4,
   "metadata": {},
   "outputs": [],
   "source": [
    "df1 = df1[interestedColumns1]"
   ]
  },
  {
   "cell_type": "code",
   "execution_count": 13,
   "metadata": {},
   "outputs": [],
   "source": [
    "# For comparability, I focus on data only from the USA\n",
    "df1_USA = df1[df1['Country'] == 'United States of America']\n",
    "df2_USA = df2[df2['Country'] == 'United States']\n",
    "df3_USA = df3[df3['Country'] == 'United States']"
   ]
  },
  {
   "cell_type": "code",
   "execution_count": 14,
   "metadata": {},
   "outputs": [],
   "source": [
    "# Since devType will be grouped below, missing values in this column are dropped\n",
    "df1_USA = df1_USA.dropna(subset=['DevType'])\n",
    "df2_USA = df2_USA.dropna(subset=['DevType'])\n",
    "df3_USA = df3_USA.dropna(subset=['DevType'])"
   ]
  },
  {
   "cell_type": "code",
   "execution_count": 15,
   "metadata": {},
   "outputs": [],
   "source": [
    "# create a dummy variable for DevType\n",
    "dataReg = r\"data|machine|deep\"\n",
    "\n",
    "df1_USA['isDataRelated'] = df1_USA['DevType'].apply(lambda row: 1 if re.search(dataReg, row, re.I) else 0)\n",
    "df2_USA['isDataRelated'] = df2_USA['DevType'].apply(lambda row: 1 if re.search(dataReg, row, re.I) else 0)\n",
    "df3_USA['isDataRelated'] = df3_USA['DevType'].apply(lambda row: 1 if re.search(dataReg, row, re.I) else 0)"
   ]
  },
  {
   "cell_type": "markdown",
   "metadata": {},
   "source": [
    "# Q1: What proportions of developers work as data analysts?"
   ]
  },
  {
   "cell_type": "code",
   "execution_count": 17,
   "metadata": {},
   "outputs": [
    {
     "data": {
      "text/plain": [
       "0.2167398807656103"
      ]
     },
     "execution_count": 17,
     "metadata": {},
     "output_type": "execute_result"
    }
   ],
   "source": [
    "df1_USA['isDataRelated'].sum()/df1_USA.shape[0]"
   ]
  },
  {
   "cell_type": "code",
   "execution_count": 18,
   "metadata": {},
   "outputs": [
    {
     "data": {
      "text/plain": [
       "0.2662481892805408"
      ]
     },
     "execution_count": 18,
     "metadata": {},
     "output_type": "execute_result"
    }
   ],
   "source": [
    "df2_USA['isDataRelated'].sum()/df2_USA.shape[0]"
   ]
  },
  {
   "cell_type": "code",
   "execution_count": 19,
   "metadata": {},
   "outputs": [
    {
     "data": {
      "text/plain": [
       "0.2616740542212143"
      ]
     },
     "execution_count": 19,
     "metadata": {},
     "output_type": "execute_result"
    }
   ],
   "source": [
    "df3_USA['isDataRelated'].sum()/df3_USA.shape[0]"
   ]
  },
  {
   "cell_type": "code",
   "execution_count": 20,
   "metadata": {},
   "outputs": [],
   "source": [
    "DataRelatedDF = df1_USA[df1_USA['isDataRelated']==1]"
   ]
  },
  {
   "cell_type": "code",
   "execution_count": 31,
   "metadata": {
    "collapsed": true,
    "jupyter": {
     "outputs_hidden": true
    }
   },
   "outputs": [
    {
     "name": "stderr",
     "output_type": "stream",
     "text": [
      "<ipython-input-31-f5b888075690>:1: SettingWithCopyWarning: \n",
      "A value is trying to be set on a copy of a slice from a DataFrame.\n",
      "Try using .loc[row_indexer,col_indexer] = value instead\n",
      "\n",
      "See the caveats in the documentation: https://pandas.pydata.org/pandas-docs/stable/user_guide/indexing.html#returning-a-view-versus-a-copy\n",
      "  DataRelatedDF['isDataScientist'] = DataRelatedDF['DevType'].apply(lambda row: 1 if 'Data scientist or machine learning specialist' in row else 0)\n",
      "<ipython-input-31-f5b888075690>:2: SettingWithCopyWarning: \n",
      "A value is trying to be set on a copy of a slice from a DataFrame.\n",
      "Try using .loc[row_indexer,col_indexer] = value instead\n",
      "\n",
      "See the caveats in the documentation: https://pandas.pydata.org/pandas-docs/stable/user_guide/indexing.html#returning-a-view-versus-a-copy\n",
      "  DataRelatedDF['isDataAnalyst'] = DataRelatedDF['DevType'].apply(lambda row: 1 if 'Data or business analyst' in row else 0)\n",
      "<ipython-input-31-f5b888075690>:3: SettingWithCopyWarning: \n",
      "A value is trying to be set on a copy of a slice from a DataFrame.\n",
      "Try using .loc[row_indexer,col_indexer] = value instead\n",
      "\n",
      "See the caveats in the documentation: https://pandas.pydata.org/pandas-docs/stable/user_guide/indexing.html#returning-a-view-versus-a-copy\n",
      "  DataRelatedDF['isDataEngineer'] = DataRelatedDF['DevType'].apply(lambda row: 1 if 'Engineer, data' in row else 0)\n"
     ]
    }
   ],
   "source": [
    "DataRelatedDF['isDataScientist'] = DataRelatedDF['DevType'].apply(lambda row: 1 if 'Data scientist or machine learning specialist' in row else 0)\n",
    "DataRelatedDF['isDataAnalyst'] = DataRelatedDF['DevType'].apply(lambda row: 1 if 'Data or business analyst' in row else 0)\n",
    "DataRelatedDF['isDataEngineer'] = DataRelatedDF['DevType'].apply(lambda row: 1 if 'Engineer, data' in row else 0)"
   ]
  },
  {
   "cell_type": "code",
   "execution_count": 34,
   "metadata": {},
   "outputs": [
    {
     "data": {
      "text/plain": [
       "(903, 871, 996)"
      ]
     },
     "execution_count": 34,
     "metadata": {},
     "output_type": "execute_result"
    }
   ],
   "source": [
    "DS_cnt = DataRelatedDF['isDataScientist'].sum()\n",
    "DA_cnt = DataRelatedDF['isDataAnalyst'].sum()\n",
    "DE_cnt = DataRelatedDF['isDataEngineer'].sum()"
   ]
  },
  {
   "cell_type": "code",
   "execution_count": 45,
   "metadata": {},
   "outputs": [
    {
     "data": {
      "image/png": "[encoded data removed]",
      "text/plain": [
       "<Figure size 432x288 with 1 Axes>"
      ]
     },
     "metadata": {},
     "output_type": "display_data"
    }
   ],
   "source": [
    "import matplotlib.pyplot as plt\n",
    "\n",
    "# Pie chart, where the slices will be ordered and plotted counter-clockwise:\n",
    "labels = 'Data Scientist', 'Data Analyst', 'Data Engineer'\n",
    "sizes = [903, 871, 996]\n",
    "explode = (0.1, 0, 0)  # only \"explode\" the 2nd slice (i.e. 'Hogs')\n",
    "\n",
    "fig1, ax1 = plt.subplots()\n",
    "ax1.pie(sizes, explode=explode, labels=labels, autopct='%1.1f%%',\n",
    "        shadow=True, startangle=90)\n",
    "ax1.axis('equal')  # Equal aspect ratio ensures that pie is drawn as a circle.\n",
    "\n",
    "plt.show()"
   ]
  },
  {
   "cell_type": "code",
   "execution_count": 44,
   "metadata": {},
   "outputs": [
    {
     "data": {
      "text/plain": [
       "242"
      ]
     },
     "execution_count": 44,
     "metadata": {},
     "output_type": "execute_result"
    }
   ],
   "source": [
    "DataRelatedDF[(DataRelatedDF['isDataScientist'] == 1) & (DataRelatedDF['isDataAnalyst'] == 1)].shape[0]"
   ]
  },
  {
   "cell_type": "code",
   "execution_count": 41,
   "metadata": {},
   "outputs": [
    {
     "data": {
      "text/plain": [
       "280"
      ]
     },
     "execution_count": 41,
     "metadata": {},
     "output_type": "execute_result"
    }
   ],
   "source": [
    "DataRelatedDF[(DataRelatedDF['isDataScientist'] == 1) & (DataRelatedDF['isDataEngineer'] == 1)].shape[0]"
   ]
  },
  {
   "cell_type": "code",
   "execution_count": 42,
   "metadata": {},
   "outputs": [
    {
     "data": {
      "text/plain": [
       "252"
      ]
     },
     "execution_count": 42,
     "metadata": {},
     "output_type": "execute_result"
    }
   ],
   "source": [
    "DataRelatedDF[(DataRelatedDF['isDataAnalyst'] == 1) & (DataRelatedDF['isDataEngineer'] == 1)].shape[0]"
   ]
  },
  {
   "cell_type": "code",
   "execution_count": 43,
   "metadata": {},
   "outputs": [
    {
     "data": {
      "text/plain": [
       "105"
      ]
     },
     "execution_count": 43,
     "metadata": {},
     "output_type": "execute_result"
    }
   ],
   "source": [
    "DataRelatedDF[(DataRelatedDF['isDataScientist'] == 1) & (DataRelatedDF['isDataAnalyst'] == 1) & (DataRelatedDF['isDataEngineer'] == 1)].shape[0]"
   ]
  },
  {
   "cell_type": "markdown",
   "metadata": {},
   "source": [
    "# Q2: What programming languages do data analysts use mostly?"
   ]
  },
  {
   "cell_type": "code",
   "execution_count": 46,
   "metadata": {},
   "outputs": [],
   "source": [
    "DataRelatedDF = DataRelatedDF.dropna(subset=['LanguageHaveWorkedWith', 'LanguageWantToWorkWith'])"
   ]
  },
  {
   "cell_type": "code",
   "execution_count": 47,
   "metadata": {},
   "outputs": [],
   "source": [
    "from collections import defaultdict"
   ]
  },
  {
   "cell_type": "code",
   "execution_count": 48,
   "metadata": {},
   "outputs": [],
   "source": [
    "def total_count(df, col1, col2, look_for):\n",
    "    '''\n",
    "    INPUT:\n",
    "    df - the pandas dataframe you want to search\n",
    "    col1 - the column name you want to look through\n",
    "    col2 - the column you want to count values from\n",
    "    look_for - a list of strings you want to search for in each row of df[col]\n",
    "\n",
    "    OUTPUT:\n",
    "    new_df - a dataframe of each look_for with the count of how often it shows up\n",
    "    '''\n",
    "    new_df = defaultdict(int)\n",
    "    #loop through list of ed types\n",
    "    for val in look_for:\n",
    "        #loop through rows\n",
    "        for idx in range(df.shape[0]):\n",
    "            #if the ed type is in the row add 1\n",
    "            splits = set(df[col1][idx].split(';'))\n",
    "            if val in splits:\n",
    "                new_df[val] += int(df[col2][idx])\n",
    "    new_df = pd.DataFrame(pd.Series(new_df)).reset_index()\n",
    "    new_df.columns = [col1, col2]\n",
    "    new_df.sort_values('count', ascending=False, inplace=True)\n",
    "    return new_df"
   ]
  },
  {
   "cell_type": "code",
   "execution_count": 49,
   "metadata": {},
   "outputs": [],
   "source": [
    "def clean_and_plot(df, index_name, column_name, title, possible_vals, plot=True, threshold=0):\n",
    "    '''\n",
    "    INPUT \n",
    "        df - a dataframe holding the DevType column\n",
    "        title - string the title of your plot\n",
    "        axis - axis object\n",
    "        plot - bool providing whether or not you want a plot back\n",
    "        \n",
    "    OUTPUT\n",
    "        study_df - a dataframe with the count of how many individuals\n",
    "        Displays a plot of pretty things related to the DevType column.\n",
    "    '''\n",
    "    study = df[column_name].value_counts().reset_index()\n",
    "    study.rename(columns={'index': index_name, column_name: 'count'}, inplace=True)\n",
    "    #print(study)\n",
    "    study_df = total_count(study, index_name, 'count', possible_vals)\n",
    "    \n",
    "    study_df.set_index(index_name, inplace=True)\n",
    "    df_to_plot = (study_df/len(df))\n",
    "    df_to_plot = df_to_plot[df_to_plot>=threshold].dropna()\n",
    "    #print(df_to_plot)\n",
    "    if plot:\n",
    "        df_to_plot.plot(kind='bar', legend=None);\n",
    "        plt.title(title);\n",
    "        plt.show()\n",
    "    props_study_df = study_df/len(df)\n",
    "    return props_study_df"
   ]
  },
  {
   "cell_type": "code",
   "execution_count": 50,
   "metadata": {},
   "outputs": [],
   "source": [
    "PastLanguages = set()\n",
    "for LanguageSet in DataRelatedDF['LanguageHaveWorkedWith']:\n",
    "    try:\n",
    "        PastLanguages = PastLanguages|set(LanguageSet.split(';'))\n",
    "    except:\n",
    "        continue\n",
    "\n",
    "DesiredLanguages = set()\n",
    "for LanguageSet in DataRelatedDF['LanguageWantToWorkWith']:\n",
    "    try:\n",
    "        DesiredLanguages = DesiredLanguages|set(LanguageSet.split(';'))\n",
    "    except:\n",
    "        continue"
   ]
  },
  {
   "cell_type": "code",
   "execution_count": 51,
   "metadata": {},
   "outputs": [
    {
     "name": "stdout",
     "output_type": "stream",
     "text": [
      "{'C++', 'Crystal', 'Matlab', 'Clojure', 'Bash/Shell', 'Node.js', 'Groovy', 'Ruby', 'F#', 'Julia', 'Kotlin', 'LISP', 'Erlang', 'Assembly', 'Scala', 'R', 'COBOL', 'C', 'VBA', 'SQL', 'PowerShell', 'TypeScript', 'PHP', 'JavaScript', 'Java', 'Dart', 'APL', 'Go', 'Python', 'Delphi', 'Elixir', 'C#', 'Haskell', 'Objective-C', 'Swift', 'HTML/CSS', 'Rust', 'Perl'} \n",
      " {'C++', 'Crystal', 'Matlab', 'Clojure', 'Bash/Shell', 'Node.js', 'Groovy', 'Ruby', 'F#', 'Kotlin', 'LISP', 'Erlang', 'Assembly', 'Scala', 'R', 'COBOL', 'C', 'VBA', 'SQL', 'TypeScript', 'PowerShell', 'PHP', 'JavaScript', 'Java', 'Dart', 'APL', 'Go', 'Python', 'Delphi', 'Elixir', 'C#', 'Haskell', 'Objective-C', 'HTML/CSS', 'Swift', 'Julia', 'Rust', 'Perl'}\n"
     ]
    }
   ],
   "source": [
    "print(PastLanguages, '\\n', DesiredLanguages)"
   ]
  },
  {
   "cell_type": "code",
   "execution_count": 53,
   "metadata": {},
   "outputs": [
    {
     "data": {
      "image/png": "[encoded data removed]",
      "text/plain": [
       "<Figure size 432x288 with 1 Axes>"
      ]
     },
     "metadata": {
      "needs_background": "light"
     },
     "output_type": "display_data"
    },
    {
     "data": {
      "image/png": "[encoded data removed]",
      "text/plain": [
       "<Figure size 432x288 with 1 Axes>"
      ]
     },
     "metadata": {
      "needs_background": "light"
     },
     "output_type": "display_data"
    },
    {
     "data": {
      "image/png": "[encoded data removed]",
      "text/plain": [
       "<Figure size 432x288 with 1 Axes>"
      ]
     },
     "metadata": {
      "needs_background": "light"
     },
     "output_type": "display_data"
    }
   ],
   "source": [
    "possible_vals = list(PastLanguages)\n",
    "DataScientists = DataRelatedDF.query(\"isDataScientist==1\")\n",
    "props_DS = clean_and_plot(DataScientists, \n",
    "                          index_name='Language',column_name='LanguageHaveWorkedWith', title='Data Scientists',\n",
    "                          possible_vals = possible_vals, threshold=0.1)\n",
    "\n",
    "DataAnalysts = DataRelatedDF.query(\"isDataAnalyst==1\")\n",
    "props_DA = clean_and_plot(DataAnalysts, \n",
    "                          index_name='Language',column_name='LanguageHaveWorkedWith', title='Data Analysts',\n",
    "                          possible_vals = possible_vals, threshold=0.1)\n",
    "\n",
    "DataEngineers = DataRelatedDF.query(\"isDataEngineer==1\")\n",
    "props_DE = clean_and_plot(DataEngineers, \n",
    "                          index_name='Language',column_name='LanguageHaveWorkedWith', title='Data Engineers',\n",
    "                          possible_vals = possible_vals, threshold=0.1)"
   ]
  },
  {
   "cell_type": "code",
   "execution_count": 54,
   "metadata": {},
   "outputs": [],
   "source": [
    "languagesForDataAnalysis = set(props_DS.index[:10]) and set(props_DA.index[:10]) and set(props_DE.index[:10])"
   ]
  },
  {
   "cell_type": "code",
   "execution_count": 55,
   "metadata": {},
   "outputs": [
    {
     "name": "stderr",
     "output_type": "stream",
     "text": [
      "<ipython-input-55-74ed7ae053dd>:3: SettingWithCopyWarning: \n",
      "A value is trying to be set on a copy of a slice from a DataFrame.\n",
      "Try using .loc[row_indexer,col_indexer] = value instead\n",
      "\n",
      "See the caveats in the documentation: https://pandas.pydata.org/pandas-docs/stable/user_guide/indexing.html#returning-a-view-versus-a-copy\n",
      "  DataRelatedDF[Language] = DataRelatedDF['LanguageHaveWorkedWith'].apply(lambda row: 1 if Language in row.split(';') else 0)\n"
     ]
    }
   ],
   "source": [
    "for Language in PastLanguages:\n",
    "    DataRelatedDF[Language] = DataRelatedDF['LanguageHaveWorkedWith'].apply(lambda row: 1 if Language in row.split(';') else 0)"
   ]
  },
  {
   "cell_type": "code",
   "execution_count": 64,
   "metadata": {},
   "outputs": [
    {
     "data": {
      "text/html": [
       "<div>\n",
       "<style scoped>\n",
       "    .dataframe tbody tr th:only-of-type {\n",
       "        vertical-align: middle;\n",
       "    }\n",
       "\n",
       "    .dataframe tbody tr th {\n",
       "        vertical-align: top;\n",
       "    }\n",
       "\n",
       "    .dataframe thead th {\n",
       "        text-align: right;\n",
       "    }\n",
       "</style>\n",
       "<table border=\"1\" class=\"dataframe\">\n",
       "  <thead>\n",
       "    <tr style=\"text-align: right;\">\n",
       "      <th></th>\n",
       "      <th>C++</th>\n",
       "      <th>Crystal</th>\n",
       "      <th>Matlab</th>\n",
       "      <th>Clojure</th>\n",
       "      <th>Bash/Shell</th>\n",
       "      <th>Node.js</th>\n",
       "      <th>Groovy</th>\n",
       "      <th>Ruby</th>\n",
       "      <th>F#</th>\n",
       "      <th>Julia</th>\n",
       "      <th>...</th>\n",
       "      <th>Python</th>\n",
       "      <th>Delphi</th>\n",
       "      <th>Elixir</th>\n",
       "      <th>C#</th>\n",
       "      <th>Haskell</th>\n",
       "      <th>Objective-C</th>\n",
       "      <th>Swift</th>\n",
       "      <th>HTML/CSS</th>\n",
       "      <th>Rust</th>\n",
       "      <th>Perl</th>\n",
       "    </tr>\n",
       "  </thead>\n",
       "  <tbody>\n",
       "    <tr>\n",
       "      <th>61</th>\n",
       "      <td>0</td>\n",
       "      <td>0</td>\n",
       "      <td>0</td>\n",
       "      <td>0</td>\n",
       "      <td>0</td>\n",
       "      <td>0</td>\n",
       "      <td>0</td>\n",
       "      <td>0</td>\n",
       "      <td>0</td>\n",
       "      <td>0</td>\n",
       "      <td>...</td>\n",
       "      <td>1</td>\n",
       "      <td>0</td>\n",
       "      <td>0</td>\n",
       "      <td>0</td>\n",
       "      <td>0</td>\n",
       "      <td>0</td>\n",
       "      <td>0</td>\n",
       "      <td>0</td>\n",
       "      <td>0</td>\n",
       "      <td>0</td>\n",
       "    </tr>\n",
       "    <tr>\n",
       "      <th>62</th>\n",
       "      <td>0</td>\n",
       "      <td>0</td>\n",
       "      <td>0</td>\n",
       "      <td>0</td>\n",
       "      <td>0</td>\n",
       "      <td>1</td>\n",
       "      <td>0</td>\n",
       "      <td>0</td>\n",
       "      <td>0</td>\n",
       "      <td>0</td>\n",
       "      <td>...</td>\n",
       "      <td>1</td>\n",
       "      <td>0</td>\n",
       "      <td>0</td>\n",
       "      <td>1</td>\n",
       "      <td>0</td>\n",
       "      <td>0</td>\n",
       "      <td>0</td>\n",
       "      <td>1</td>\n",
       "      <td>0</td>\n",
       "      <td>0</td>\n",
       "    </tr>\n",
       "    <tr>\n",
       "      <th>64</th>\n",
       "      <td>0</td>\n",
       "      <td>0</td>\n",
       "      <td>0</td>\n",
       "      <td>0</td>\n",
       "      <td>0</td>\n",
       "      <td>0</td>\n",
       "      <td>0</td>\n",
       "      <td>0</td>\n",
       "      <td>0</td>\n",
       "      <td>0</td>\n",
       "      <td>...</td>\n",
       "      <td>1</td>\n",
       "      <td>0</td>\n",
       "      <td>0</td>\n",
       "      <td>0</td>\n",
       "      <td>0</td>\n",
       "      <td>0</td>\n",
       "      <td>0</td>\n",
       "      <td>1</td>\n",
       "      <td>0</td>\n",
       "      <td>0</td>\n",
       "    </tr>\n",
       "    <tr>\n",
       "      <th>87</th>\n",
       "      <td>0</td>\n",
       "      <td>0</td>\n",
       "      <td>1</td>\n",
       "      <td>0</td>\n",
       "      <td>1</td>\n",
       "      <td>0</td>\n",
       "      <td>0</td>\n",
       "      <td>0</td>\n",
       "      <td>0</td>\n",
       "      <td>1</td>\n",
       "      <td>...</td>\n",
       "      <td>1</td>\n",
       "      <td>0</td>\n",
       "      <td>0</td>\n",
       "      <td>1</td>\n",
       "      <td>0</td>\n",
       "      <td>0</td>\n",
       "      <td>0</td>\n",
       "      <td>1</td>\n",
       "      <td>0</td>\n",
       "      <td>0</td>\n",
       "    </tr>\n",
       "    <tr>\n",
       "      <th>153</th>\n",
       "      <td>1</td>\n",
       "      <td>0</td>\n",
       "      <td>1</td>\n",
       "      <td>0</td>\n",
       "      <td>1</td>\n",
       "      <td>1</td>\n",
       "      <td>0</td>\n",
       "      <td>0</td>\n",
       "      <td>0</td>\n",
       "      <td>0</td>\n",
       "      <td>...</td>\n",
       "      <td>1</td>\n",
       "      <td>0</td>\n",
       "      <td>0</td>\n",
       "      <td>0</td>\n",
       "      <td>0</td>\n",
       "      <td>0</td>\n",
       "      <td>0</td>\n",
       "      <td>1</td>\n",
       "      <td>0</td>\n",
       "      <td>0</td>\n",
       "    </tr>\n",
       "    <tr>\n",
       "      <th>...</th>\n",
       "      <td>...</td>\n",
       "      <td>...</td>\n",
       "      <td>...</td>\n",
       "      <td>...</td>\n",
       "      <td>...</td>\n",
       "      <td>...</td>\n",
       "      <td>...</td>\n",
       "      <td>...</td>\n",
       "      <td>...</td>\n",
       "      <td>...</td>\n",
       "      <td>...</td>\n",
       "      <td>...</td>\n",
       "      <td>...</td>\n",
       "      <td>...</td>\n",
       "      <td>...</td>\n",
       "      <td>...</td>\n",
       "      <td>...</td>\n",
       "      <td>...</td>\n",
       "      <td>...</td>\n",
       "      <td>...</td>\n",
       "      <td>...</td>\n",
       "    </tr>\n",
       "    <tr>\n",
       "      <th>83378</th>\n",
       "      <td>1</td>\n",
       "      <td>0</td>\n",
       "      <td>0</td>\n",
       "      <td>0</td>\n",
       "      <td>1</td>\n",
       "      <td>0</td>\n",
       "      <td>0</td>\n",
       "      <td>0</td>\n",
       "      <td>0</td>\n",
       "      <td>0</td>\n",
       "      <td>...</td>\n",
       "      <td>1</td>\n",
       "      <td>0</td>\n",
       "      <td>0</td>\n",
       "      <td>0</td>\n",
       "      <td>0</td>\n",
       "      <td>0</td>\n",
       "      <td>0</td>\n",
       "      <td>0</td>\n",
       "      <td>0</td>\n",
       "      <td>0</td>\n",
       "    </tr>\n",
       "    <tr>\n",
       "      <th>83389</th>\n",
       "      <td>0</td>\n",
       "      <td>0</td>\n",
       "      <td>0</td>\n",
       "      <td>0</td>\n",
       "      <td>0</td>\n",
       "      <td>0</td>\n",
       "      <td>0</td>\n",
       "      <td>0</td>\n",
       "      <td>0</td>\n",
       "      <td>0</td>\n",
       "      <td>...</td>\n",
       "      <td>1</td>\n",
       "      <td>0</td>\n",
       "      <td>0</td>\n",
       "      <td>1</td>\n",
       "      <td>0</td>\n",
       "      <td>0</td>\n",
       "      <td>0</td>\n",
       "      <td>0</td>\n",
       "      <td>0</td>\n",
       "      <td>0</td>\n",
       "    </tr>\n",
       "    <tr>\n",
       "      <th>83401</th>\n",
       "      <td>0</td>\n",
       "      <td>0</td>\n",
       "      <td>0</td>\n",
       "      <td>0</td>\n",
       "      <td>1</td>\n",
       "      <td>1</td>\n",
       "      <td>0</td>\n",
       "      <td>0</td>\n",
       "      <td>1</td>\n",
       "      <td>0</td>\n",
       "      <td>...</td>\n",
       "      <td>0</td>\n",
       "      <td>0</td>\n",
       "      <td>0</td>\n",
       "      <td>0</td>\n",
       "      <td>0</td>\n",
       "      <td>0</td>\n",
       "      <td>0</td>\n",
       "      <td>1</td>\n",
       "      <td>0</td>\n",
       "      <td>0</td>\n",
       "    </tr>\n",
       "    <tr>\n",
       "      <th>83412</th>\n",
       "      <td>0</td>\n",
       "      <td>0</td>\n",
       "      <td>0</td>\n",
       "      <td>1</td>\n",
       "      <td>1</td>\n",
       "      <td>1</td>\n",
       "      <td>0</td>\n",
       "      <td>0</td>\n",
       "      <td>0</td>\n",
       "      <td>0</td>\n",
       "      <td>...</td>\n",
       "      <td>0</td>\n",
       "      <td>0</td>\n",
       "      <td>0</td>\n",
       "      <td>0</td>\n",
       "      <td>0</td>\n",
       "      <td>0</td>\n",
       "      <td>0</td>\n",
       "      <td>1</td>\n",
       "      <td>0</td>\n",
       "      <td>0</td>\n",
       "    </tr>\n",
       "    <tr>\n",
       "      <th>83436</th>\n",
       "      <td>0</td>\n",
       "      <td>0</td>\n",
       "      <td>0</td>\n",
       "      <td>0</td>\n",
       "      <td>0</td>\n",
       "      <td>0</td>\n",
       "      <td>1</td>\n",
       "      <td>0</td>\n",
       "      <td>0</td>\n",
       "      <td>0</td>\n",
       "      <td>...</td>\n",
       "      <td>1</td>\n",
       "      <td>0</td>\n",
       "      <td>0</td>\n",
       "      <td>0</td>\n",
       "      <td>0</td>\n",
       "      <td>0</td>\n",
       "      <td>0</td>\n",
       "      <td>0</td>\n",
       "      <td>0</td>\n",
       "      <td>0</td>\n",
       "    </tr>\n",
       "  </tbody>\n",
       "</table>\n",
       "<p>2550 rows × 38 columns</p>\n",
       "</div>"
      ],
      "text/plain": [
       "       C++  Crystal  Matlab  Clojure  Bash/Shell  Node.js  Groovy  Ruby  F#  \\\n",
       "61       0        0       0        0           0        0       0     0   0   \n",
       "62       0        0       0        0           0        1       0     0   0   \n",
       "64       0        0       0        0           0        0       0     0   0   \n",
       "87       0        0       1        0           1        0       0     0   0   \n",
       "153      1        0       1        0           1        1       0     0   0   \n",
       "...    ...      ...     ...      ...         ...      ...     ...   ...  ..   \n",
       "83378    1        0       0        0           1        0       0     0   0   \n",
       "83389    0        0       0        0           0        0       0     0   0   \n",
       "83401    0        0       0        0           1        1       0     0   1   \n",
       "83412    0        0       0        1           1        1       0     0   0   \n",
       "83436    0        0       0        0           0        0       1     0   0   \n",
       "\n",
       "       Julia  ...  Python  Delphi  Elixir  C#  Haskell  Objective-C  Swift  \\\n",
       "61         0  ...       1       0       0   0        0            0      0   \n",
       "62         0  ...       1       0       0   1        0            0      0   \n",
       "64         0  ...       1       0       0   0        0            0      0   \n",
       "87         1  ...       1       0       0   1        0            0      0   \n",
       "153        0  ...       1       0       0   0        0            0      0   \n",
       "...      ...  ...     ...     ...     ...  ..      ...          ...    ...   \n",
       "83378      0  ...       1       0       0   0        0            0      0   \n",
       "83389      0  ...       1       0       0   1        0            0      0   \n",
       "83401      0  ...       0       0       0   0        0            0      0   \n",
       "83412      0  ...       0       0       0   0        0            0      0   \n",
       "83436      0  ...       1       0       0   0        0            0      0   \n",
       "\n",
       "       HTML/CSS  Rust  Perl  \n",
       "61            0     0     0  \n",
       "62            1     0     0  \n",
       "64            1     0     0  \n",
       "87            1     0     0  \n",
       "153           1     0     0  \n",
       "...         ...   ...   ...  \n",
       "83378         0     0     0  \n",
       "83389         0     0     0  \n",
       "83401         1     0     0  \n",
       "83412         1     0     0  \n",
       "83436         0     0     0  \n",
       "\n",
       "[2550 rows x 38 columns]"
      ]
     },
     "execution_count": 64,
     "metadata": {},
     "output_type": "execute_result"
    }
   ],
   "source": [
    "DataRelatedDF[PastLanguages]"
   ]
  },
  {
   "cell_type": "code",
   "execution_count": 59,
   "metadata": {},
   "outputs": [],
   "source": [
    "DataScientists = DataRelatedDF.query(\"isDataScientist==1\")\n",
    "DataAnalysts = DataRelatedDF.query(\"isDataAnalyst==1\")\n",
    "DataEngineers = DataRelatedDF.query(\"isDataEngineer==1\")"
   ]
  },
  {
   "cell_type": "code",
   "execution_count": 61,
   "metadata": {},
   "outputs": [],
   "source": [
    "import seaborn as sns"
   ]
  },
  {
   "cell_type": "code",
   "execution_count": 91,
   "metadata": {},
   "outputs": [
    {
     "data": {
      "image/png": "[encoded data removed]",
      "text/plain": [
       "<Figure size 432x288 with 2 Axes>"
      ]
     },
     "metadata": {
      "needs_background": "light"
     },
     "output_type": "display_data"
    }
   ],
   "source": [
    "sns.heatmap(DataScientists[languagesForDataAnalysis].corr(), annot=True, fmt=\".2f\");"
   ]
  },
  {
   "cell_type": "code",
   "execution_count": 66,
   "metadata": {},
   "outputs": [
    {
     "data": {
      "text/plain": [
       "SQL            1783\n",
       "Python         1650\n",
       "JavaScript     1518\n",
       "HTML/CSS       1342\n",
       "Bash/Shell     1110\n",
       "C#              772\n",
       "Node.js         755\n",
       "Java            665\n",
       "TypeScript      585\n",
       "C++             513\n",
       "PowerShell      492\n",
       "PHP             411\n",
       "C               400\n",
       "R               386\n",
       "Go              304\n",
       "VBA             262\n",
       "Ruby            230\n",
       "Rust            216\n",
       "Perl            158\n",
       "Scala           144\n",
       "Matlab          141\n",
       "Kotlin          120\n",
       "Swift           106\n",
       "Assembly        100\n",
       "Julia            94\n",
       "Groovy           94\n",
       "Clojure          92\n",
       "Objective-C      69\n",
       "LISP             67\n",
       "Dart             59\n",
       "Elixir           57\n",
       "Haskell          54\n",
       "F#               50\n",
       "Delphi           41\n",
       "Erlang           32\n",
       "Crystal          26\n",
       "COBOL            25\n",
       "APL              22\n",
       "dtype: int64"
      ]
     },
     "execution_count": 66,
     "metadata": {},
     "output_type": "execute_result"
    }
   ],
   "source": [
    "DataRelatedDF[PastLanguages].sum().sort_values(ascending=False)"
   ]
  },
  {
   "cell_type": "code",
   "execution_count": 122,
   "metadata": {},
   "outputs": [
    {
     "data": {
      "text/plain": [
       "61876    38\n",
       "63352    38\n",
       "29262    30\n",
       "46952    29\n",
       "60623    21\n",
       "         ..\n",
       "47783     1\n",
       "2397      1\n",
       "4208      1\n",
       "65665     1\n",
       "72670     1\n",
       "Length: 2001, dtype: int64"
      ]
     },
     "execution_count": 122,
     "metadata": {},
     "output_type": "execute_result"
    }
   ],
   "source": [
    "DataRelatedDF[PastLanguages].sum(axis=1).sort_values(ascending=False)"
   ]
  },
  {
   "cell_type": "markdown",
   "metadata": {},
   "source": [
    "# Q3: What should data analyst learn besides Python and SQL?"
   ]
  },
  {
   "cell_type": "code",
   "execution_count": 95,
   "metadata": {},
   "outputs": [
    {
     "name": "stderr",
     "output_type": "stream",
     "text": [
      "<ipython-input-95-114235d4242a>:1: SettingWithCopyWarning: \n",
      "A value is trying to be set on a copy of a slice from a DataFrame.\n",
      "Try using .loc[row_indexer,col_indexer] = value instead\n",
      "\n",
      "See the caveats in the documentation: https://pandas.pydata.org/pandas-docs/stable/user_guide/indexing.html#returning-a-view-versus-a-copy\n",
      "  DataRelatedDF['language_cnt'] = DataRelatedDF[PastLanguages].sum(axis=1)\n"
     ]
    }
   ],
   "source": [
    "DataRelatedDF['language_cnt'] = DataRelatedDF[PastLanguages].sum(axis=1)\n",
    "DataRelatedDF = DataRelatedDF.dropna(subset=['ConvertedCompYearly'])"
   ]
  },
  {
   "cell_type": "code",
   "execution_count": 96,
   "metadata": {},
   "outputs": [
    {
     "data": {
      "text/plain": [
       "language_cnt\n",
       "1      125000.0\n",
       "2      120000.0\n",
       "3      120000.0\n",
       "4      113362.0\n",
       "5      120000.0\n",
       "6      110000.0\n",
       "7      109500.0\n",
       "8      126500.0\n",
       "9      120000.0\n",
       "10     142000.0\n",
       "11     150000.0\n",
       "12     115000.0\n",
       "13     120000.0\n",
       "14     137000.0\n",
       "15     124000.0\n",
       "16     162500.0\n",
       "17     137500.0\n",
       "18     195000.0\n",
       "21     165000.0\n",
       "29    4500000.0\n",
       "30     404681.0\n",
       "38     525000.0\n",
       "Name: ConvertedCompYearly, dtype: float64"
      ]
     },
     "execution_count": 96,
     "metadata": {},
     "output_type": "execute_result"
    }
   ],
   "source": [
    "DataRelatedDF.groupby('language_cnt')['ConvertedCompYearly'].median()"
   ]
  },
  {
   "cell_type": "code",
   "execution_count": 127,
   "metadata": {},
   "outputs": [
    {
     "data": {
      "text/plain": [
       "language_cnt\n",
       "1      68\n",
       "2     183\n",
       "3     233\n",
       "4     291\n",
       "5     275\n",
       "6     259\n",
       "7     204\n",
       "8     140\n",
       "9     116\n",
       "10     78\n",
       "11     52\n",
       "12     41\n",
       "13     15\n",
       "14     17\n",
       "15     13\n",
       "16      6\n",
       "17      2\n",
       "18      3\n",
       "21      1\n",
       "29      1\n",
       "30      1\n",
       "38      2\n",
       "Name: ConvertedCompYearly, dtype: int64"
      ]
     },
     "execution_count": 127,
     "metadata": {},
     "output_type": "execute_result"
    }
   ],
   "source": [
    "DataRelatedDF.groupby('language_cnt')['ConvertedCompYearly'].count()"
   ]
  },
  {
   "cell_type": "code",
   "execution_count": 88,
   "metadata": {},
   "outputs": [
    {
     "data": {
      "image/png": "[encoded data removed]",
      "text/plain": [
       "<Figure size 432x288 with 1 Axes>"
      ]
     },
     "metadata": {
      "needs_background": "light"
     },
     "output_type": "display_data"
    },
    {
     "data": {
      "image/png": "[encoded data removed]",
      "text/plain": [
       "<Figure size 432x288 with 1 Axes>"
      ]
     },
     "metadata": {
      "needs_background": "light"
     },
     "output_type": "display_data"
    },
    {
     "data": {
      "image/png": "[encoded data removed]",
      "text/plain": [
       "<Figure size 432x288 with 1 Axes>"
      ]
     },
     "metadata": {
      "needs_background": "light"
     },
     "output_type": "display_data"
    }
   ],
   "source": [
    "possible_vals = list(DesiredLanguages)\n",
    "DataScientists = DataRelatedDF.query(\"isDataScientist==1\")\n",
    "props_DS = clean_and_plot(DataScientists, \n",
    "                          index_name='Language',column_name='LanguageWantToWorkWith', title='Data Scientists',\n",
    "                          possible_vals = possible_vals, threshold=0.1)\n",
    "\n",
    "DataAnalysts = DataRelatedDF.query(\"isDataAnalyst==1\")\n",
    "props_DA = clean_and_plot(DataAnalysts, \n",
    "                          index_name='Language',column_name='LanguageWantToWorkWith', title='Data Analysts',\n",
    "                          possible_vals = possible_vals, threshold=0.1)\n",
    "\n",
    "DataEngineers = DataRelatedDF.query(\"isDataEngineer==1\")\n",
    "props_DE = clean_and_plot(DataEngineers, \n",
    "                          index_name='Language',column_name='LanguageWantToWorkWith', title='Data Engineers',\n",
    "                          possible_vals = possible_vals, threshold=0.1)"
   ]
  },
  {
   "cell_type": "code",
   "execution_count": null,
   "metadata": {},
   "outputs": [],
   "source": []
  }
 ],
 "metadata": {
  "kernelspec": {
   "display_name": "Python 3",
   "language": "python",
   "name": "python3"
  },
  "language_info": {
   "codemirror_mode": {
    "name": "ipython",
    "version": 3
   },
   "file_extension": ".py",
   "mimetype": "text/x-python",
   "name": "python",
   "nbconvert_exporter": "python",
   "pygments_lexer": "ipython3",
   "version": "3.8.5"
  }
 },
 "nbformat": 4,
 "nbformat_minor": 4
}
