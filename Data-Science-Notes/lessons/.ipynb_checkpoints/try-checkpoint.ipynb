{
 "cells": [
  {
   "cell_type": "code",
   "execution_count": 1,
   "metadata": {},
   "outputs": [],
   "source": [
    "import numpy as np\n",
    "import pandas as pd\n",
    "import matplotlib.pyplot as plt\n",
    "import re\n",
    "%matplotlib inline\n"
   ]
  },
  {
   "cell_type": "code",
   "execution_count": 2,
   "metadata": {},
   "outputs": [],
   "source": [
    "df1 = pd.read_csv(r'C:\\Users\\BlickWinkel\\Desktop\\code\\BW_Metaverse\\DataScience\\StackOverflowData\\developer_survey_2021/survey_results_public.csv')\n",
    "df2 = pd.read_csv(r'C:\\Users\\BlickWinkel\\Desktop\\code\\BW_Metaverse\\DataScience\\StackOverflowData\\developer_survey_2020/survey_results_public.csv')\n",
    "df3 = pd.read_csv(r'C:\\Users\\BlickWinkel\\Desktop\\code\\BW_Metaverse\\DataScience\\StackOverflowData\\developer_survey_2019/survey_results_public.csv')"
   ]
  },
  {
   "cell_type": "code",
   "execution_count": 3,
   "metadata": {
    "collapsed": true,
    "jupyter": {
     "outputs_hidden": true
    }
   },
   "outputs": [
    {
     "data": {
      "text/plain": [
       "(Index(['ResponseId', 'MainBranch', 'Employment', 'Country', 'US_State',\n",
       "        'UK_Country', 'EdLevel', 'Age1stCode', 'LearnCode', 'YearsCode',\n",
       "        'YearsCodePro', 'DevType', 'OrgSize', 'Currency', 'CompTotal',\n",
       "        'CompFreq', 'LanguageHaveWorkedWith', 'LanguageWantToWorkWith',\n",
       "        'DatabaseHaveWorkedWith', 'DatabaseWantToWorkWith',\n",
       "        'PlatformHaveWorkedWith', 'PlatformWantToWorkWith',\n",
       "        'WebframeHaveWorkedWith', 'WebframeWantToWorkWith',\n",
       "        'MiscTechHaveWorkedWith', 'MiscTechWantToWorkWith',\n",
       "        'ToolsTechHaveWorkedWith', 'ToolsTechWantToWorkWith',\n",
       "        'NEWCollabToolsHaveWorkedWith', 'NEWCollabToolsWantToWorkWith', 'OpSys',\n",
       "        'NEWStuck', 'NEWSOSites', 'SOVisitFreq', 'SOAccount', 'SOPartFreq',\n",
       "        'SOComm', 'NEWOtherComms', 'Age', 'Gender', 'Trans', 'Sexuality',\n",
       "        'Ethnicity', 'Accessibility', 'MentalHealth', 'SurveyLength',\n",
       "        'SurveyEase', 'ConvertedCompYearly'],\n",
       "       dtype='object'),\n",
       " Index(['Respondent', 'MainBranch', 'Hobbyist', 'Age', 'Age1stCode', 'CompFreq',\n",
       "        'CompTotal', 'ConvertedComp', 'Country', 'CurrencyDesc',\n",
       "        'CurrencySymbol', 'DatabaseDesireNextYear', 'DatabaseWorkedWith',\n",
       "        'DevType', 'EdLevel', 'Employment', 'Ethnicity', 'Gender', 'JobFactors',\n",
       "        'JobSat', 'JobSeek', 'LanguageDesireNextYear', 'LanguageWorkedWith',\n",
       "        'MiscTechDesireNextYear', 'MiscTechWorkedWith',\n",
       "        'NEWCollabToolsDesireNextYear', 'NEWCollabToolsWorkedWith', 'NEWDevOps',\n",
       "        'NEWDevOpsImpt', 'NEWEdImpt', 'NEWJobHunt', 'NEWJobHuntResearch',\n",
       "        'NEWLearn', 'NEWOffTopic', 'NEWOnboardGood', 'NEWOtherComms',\n",
       "        'NEWOvertime', 'NEWPurchaseResearch', 'NEWPurpleLink', 'NEWSOSites',\n",
       "        'NEWStuck', 'OpSys', 'OrgSize', 'PlatformDesireNextYear',\n",
       "        'PlatformWorkedWith', 'PurchaseWhat', 'Sexuality', 'SOAccount',\n",
       "        'SOComm', 'SOPartFreq', 'SOVisitFreq', 'SurveyEase', 'SurveyLength',\n",
       "        'Trans', 'UndergradMajor', 'WebframeDesireNextYear',\n",
       "        'WebframeWorkedWith', 'WelcomeChange', 'WorkWeekHrs', 'YearsCode',\n",
       "        'YearsCodePro'],\n",
       "       dtype='object'))"
      ]
     },
     "execution_count": 3,
     "metadata": {},
     "output_type": "execute_result"
    }
   ],
   "source": [
    "df1.columns, df2.columns"
   ]
  },
  {
   "cell_type": "code",
   "execution_count": 3,
   "metadata": {},
   "outputs": [],
   "source": [
    "interestedColumns1 = ['ConvertedCompYearly','Country', \n",
    "                     'DevType','LanguageHaveWorkedWith','LanguageWantToWorkWith',\n",
    "                      'MiscTechHaveWorkedWith','MiscTechWantToWorkWith']\n",
    "\n",
    "interestedColumns2 = ['ConvertedComp','Country', \n",
    "                     'DevType','LanguageWorkedWith','LanguageDesireNextYear',\n",
    "                      'MiscTechWorkedWith','MiscTechDesireNextYear']"
   ]
  },
  {
   "cell_type": "code",
   "execution_count": 4,
   "metadata": {},
   "outputs": [],
   "source": [
    "new_columns = {'ConvertedComp':'ConvertedCompYearly',\n",
    "            'CurrencySymbol':'Currency',\n",
    "            'LanguageWorkedWith':'LanguageHaveWorkedWith',\n",
    "            'LanguageDesireNextYear':'LanguageWantToWorkWith',\n",
    "            'MiscTechWorkedWith':'MiscTechHaveWorkedWith',\n",
    "            'MiscTechDesireNextYear':'MiscTechWantToWorkWith'}"
   ]
  },
  {
   "cell_type": "code",
   "execution_count": 5,
   "metadata": {},
   "outputs": [],
   "source": [
    "df1 = df1[interestedColumns1]\n",
    "df2 = df2[interestedColumns2]\n",
    "df2.rename(columns=new_columns, inplace=True)\n",
    "df3 = df3[interestedColumns2]\n",
    "df3.rename(columns=new_columns, inplace=True)\n",
    "df1['year'] = '2021'\n",
    "df2['year'] = '2020'\n",
    "df3['year'] = '2019'"
   ]
  },
  {
   "cell_type": "code",
   "execution_count": 7,
   "metadata": {
    "collapsed": true,
    "jupyter": {
     "outputs_hidden": true
    }
   },
   "outputs": [
    {
     "data": {
      "text/html": [
       "<div>\n",
       "<style scoped>\n",
       "    .dataframe tbody tr th:only-of-type {\n",
       "        vertical-align: middle;\n",
       "    }\n",
       "\n",
       "    .dataframe tbody tr th {\n",
       "        vertical-align: top;\n",
       "    }\n",
       "\n",
       "    .dataframe thead th {\n",
       "        text-align: right;\n",
       "    }\n",
       "</style>\n",
       "<table border=\"1\" class=\"dataframe\">\n",
       "  <thead>\n",
       "    <tr style=\"text-align: right;\">\n",
       "      <th></th>\n",
       "      <th>CompFreq</th>\n",
       "      <th>CompTotal</th>\n",
       "      <th>Currency</th>\n",
       "      <th>DevType</th>\n",
       "      <th>LanguageHaveWorkedWith</th>\n",
       "      <th>LanguageWantToWorkWith</th>\n",
       "      <th>MiscTechHaveWorkedWith</th>\n",
       "      <th>MiscTechWantToWorkWith</th>\n",
       "      <th>year</th>\n",
       "    </tr>\n",
       "  </thead>\n",
       "  <tbody>\n",
       "    <tr>\n",
       "      <th>0</th>\n",
       "      <td>Monthly</td>\n",
       "      <td>4800.0</td>\n",
       "      <td>EUR European Euro</td>\n",
       "      <td>Developer, mobile</td>\n",
       "      <td>C++;HTML/CSS;JavaScript;Objective-C;PHP;Swift</td>\n",
       "      <td>Swift</td>\n",
       "      <td>NaN</td>\n",
       "      <td>NaN</td>\n",
       "      <td>2021</td>\n",
       "    </tr>\n",
       "    <tr>\n",
       "      <th>1</th>\n",
       "      <td>NaN</td>\n",
       "      <td>NaN</td>\n",
       "      <td>NaN</td>\n",
       "      <td>NaN</td>\n",
       "      <td>JavaScript;Python</td>\n",
       "      <td>NaN</td>\n",
       "      <td>Cordova</td>\n",
       "      <td>NaN</td>\n",
       "      <td>2021</td>\n",
       "    </tr>\n",
       "    <tr>\n",
       "      <th>2</th>\n",
       "      <td>NaN</td>\n",
       "      <td>NaN</td>\n",
       "      <td>NaN</td>\n",
       "      <td>NaN</td>\n",
       "      <td>Assembly;C;Python;R;Rust</td>\n",
       "      <td>Julia;Python;Rust</td>\n",
       "      <td>NumPy;Pandas;TensorFlow;Torch/PyTorch</td>\n",
       "      <td>Keras;NumPy;Pandas;TensorFlow;Torch/PyTorch</td>\n",
       "      <td>2021</td>\n",
       "    </tr>\n",
       "    <tr>\n",
       "      <th>3</th>\n",
       "      <td>Monthly</td>\n",
       "      <td>NaN</td>\n",
       "      <td>EUR European Euro</td>\n",
       "      <td>Developer, front-end</td>\n",
       "      <td>JavaScript;TypeScript</td>\n",
       "      <td>JavaScript;TypeScript</td>\n",
       "      <td>NaN</td>\n",
       "      <td>NaN</td>\n",
       "      <td>2021</td>\n",
       "    </tr>\n",
       "    <tr>\n",
       "      <th>4</th>\n",
       "      <td>NaN</td>\n",
       "      <td>NaN</td>\n",
       "      <td>GBP\\tPound sterling</td>\n",
       "      <td>Developer, desktop or enterprise applications;...</td>\n",
       "      <td>Bash/Shell;HTML/CSS;Python;SQL</td>\n",
       "      <td>Bash/Shell;HTML/CSS;Python;SQL</td>\n",
       "      <td>Apache Spark;Hadoop;NumPy;Pandas</td>\n",
       "      <td>Hadoop;NumPy;Pandas</td>\n",
       "      <td>2021</td>\n",
       "    </tr>\n",
       "  </tbody>\n",
       "</table>\n",
       "</div>"
      ],
      "text/plain": [
       "  CompFreq  CompTotal             Currency  \\\n",
       "0  Monthly     4800.0    EUR European Euro   \n",
       "1      NaN        NaN                  NaN   \n",
       "2      NaN        NaN                  NaN   \n",
       "3  Monthly        NaN    EUR European Euro   \n",
       "4      NaN        NaN  GBP\\tPound sterling   \n",
       "\n",
       "                                             DevType  \\\n",
       "0                                  Developer, mobile   \n",
       "1                                                NaN   \n",
       "2                                                NaN   \n",
       "3                               Developer, front-end   \n",
       "4  Developer, desktop or enterprise applications;...   \n",
       "\n",
       "                          LanguageHaveWorkedWith  \\\n",
       "0  C++;HTML/CSS;JavaScript;Objective-C;PHP;Swift   \n",
       "1                              JavaScript;Python   \n",
       "2                       Assembly;C;Python;R;Rust   \n",
       "3                          JavaScript;TypeScript   \n",
       "4                 Bash/Shell;HTML/CSS;Python;SQL   \n",
       "\n",
       "           LanguageWantToWorkWith                 MiscTechHaveWorkedWith  \\\n",
       "0                           Swift                                    NaN   \n",
       "1                             NaN                                Cordova   \n",
       "2               Julia;Python;Rust  NumPy;Pandas;TensorFlow;Torch/PyTorch   \n",
       "3           JavaScript;TypeScript                                    NaN   \n",
       "4  Bash/Shell;HTML/CSS;Python;SQL       Apache Spark;Hadoop;NumPy;Pandas   \n",
       "\n",
       "                        MiscTechWantToWorkWith  year  \n",
       "0                                          NaN  2021  \n",
       "1                                          NaN  2021  \n",
       "2  Keras;NumPy;Pandas;TensorFlow;Torch/PyTorch  2021  \n",
       "3                                          NaN  2021  \n",
       "4                          Hadoop;NumPy;Pandas  2021  "
      ]
     },
     "execution_count": 7,
     "metadata": {},
     "output_type": "execute_result"
    }
   ],
   "source": [
    "df1.head()"
   ]
  },
  {
   "cell_type": "code",
   "execution_count": 8,
   "metadata": {
    "collapsed": true,
    "jupyter": {
     "outputs_hidden": true
    }
   },
   "outputs": [
    {
     "data": {
      "text/html": [
       "<div>\n",
       "<style scoped>\n",
       "    .dataframe tbody tr th:only-of-type {\n",
       "        vertical-align: middle;\n",
       "    }\n",
       "\n",
       "    .dataframe tbody tr th {\n",
       "        vertical-align: top;\n",
       "    }\n",
       "\n",
       "    .dataframe thead th {\n",
       "        text-align: right;\n",
       "    }\n",
       "</style>\n",
       "<table border=\"1\" class=\"dataframe\">\n",
       "  <thead>\n",
       "    <tr style=\"text-align: right;\">\n",
       "      <th></th>\n",
       "      <th>CompFreq</th>\n",
       "      <th>CompTotal</th>\n",
       "      <th>Currency</th>\n",
       "      <th>DevType</th>\n",
       "      <th>LanguageHaveWorkedWith</th>\n",
       "      <th>LanguageWantToWorkWith</th>\n",
       "      <th>MiscTechHaveWorkedWith</th>\n",
       "      <th>MiscTechWantToWorkWith</th>\n",
       "      <th>year</th>\n",
       "    </tr>\n",
       "  </thead>\n",
       "  <tbody>\n",
       "    <tr>\n",
       "      <th>0</th>\n",
       "      <td>Monthly</td>\n",
       "      <td>NaN</td>\n",
       "      <td>EUR</td>\n",
       "      <td>Developer, desktop or enterprise applications;...</td>\n",
       "      <td>C#;HTML/CSS;JavaScript</td>\n",
       "      <td>C#;HTML/CSS;JavaScript</td>\n",
       "      <td>.NET;.NET Core</td>\n",
       "      <td>.NET Core;Xamarin</td>\n",
       "      <td>2020</td>\n",
       "    </tr>\n",
       "    <tr>\n",
       "      <th>1</th>\n",
       "      <td>NaN</td>\n",
       "      <td>NaN</td>\n",
       "      <td>GBP</td>\n",
       "      <td>Developer, full-stack;Developer, mobile</td>\n",
       "      <td>JavaScript;Swift</td>\n",
       "      <td>Python;Swift</td>\n",
       "      <td>React Native</td>\n",
       "      <td>React Native;TensorFlow;Unity 3D</td>\n",
       "      <td>2020</td>\n",
       "    </tr>\n",
       "    <tr>\n",
       "      <th>2</th>\n",
       "      <td>NaN</td>\n",
       "      <td>NaN</td>\n",
       "      <td>NaN</td>\n",
       "      <td>NaN</td>\n",
       "      <td>Objective-C;Python;Swift</td>\n",
       "      <td>Objective-C;Python;Swift</td>\n",
       "      <td>NaN</td>\n",
       "      <td>NaN</td>\n",
       "      <td>2020</td>\n",
       "    </tr>\n",
       "    <tr>\n",
       "      <th>3</th>\n",
       "      <td>NaN</td>\n",
       "      <td>NaN</td>\n",
       "      <td>ALL</td>\n",
       "      <td>NaN</td>\n",
       "      <td>NaN</td>\n",
       "      <td>NaN</td>\n",
       "      <td>NaN</td>\n",
       "      <td>NaN</td>\n",
       "      <td>2020</td>\n",
       "    </tr>\n",
       "    <tr>\n",
       "      <th>4</th>\n",
       "      <td>NaN</td>\n",
       "      <td>NaN</td>\n",
       "      <td>NaN</td>\n",
       "      <td>NaN</td>\n",
       "      <td>HTML/CSS;Ruby;SQL</td>\n",
       "      <td>Java;Ruby;Scala</td>\n",
       "      <td>Ansible</td>\n",
       "      <td>Ansible;Chef</td>\n",
       "      <td>2020</td>\n",
       "    </tr>\n",
       "  </tbody>\n",
       "</table>\n",
       "</div>"
      ],
      "text/plain": [
       "  CompFreq  CompTotal Currency  \\\n",
       "0  Monthly        NaN      EUR   \n",
       "1      NaN        NaN      GBP   \n",
       "2      NaN        NaN      NaN   \n",
       "3      NaN        NaN      ALL   \n",
       "4      NaN        NaN      NaN   \n",
       "\n",
       "                                             DevType  \\\n",
       "0  Developer, desktop or enterprise applications;...   \n",
       "1            Developer, full-stack;Developer, mobile   \n",
       "2                                                NaN   \n",
       "3                                                NaN   \n",
       "4                                                NaN   \n",
       "\n",
       "     LanguageHaveWorkedWith    LanguageWantToWorkWith MiscTechHaveWorkedWith  \\\n",
       "0    C#;HTML/CSS;JavaScript    C#;HTML/CSS;JavaScript         .NET;.NET Core   \n",
       "1          JavaScript;Swift              Python;Swift           React Native   \n",
       "2  Objective-C;Python;Swift  Objective-C;Python;Swift                    NaN   \n",
       "3                       NaN                       NaN                    NaN   \n",
       "4         HTML/CSS;Ruby;SQL           Java;Ruby;Scala                Ansible   \n",
       "\n",
       "             MiscTechWantToWorkWith  year  \n",
       "0                 .NET Core;Xamarin  2020  \n",
       "1  React Native;TensorFlow;Unity 3D  2020  \n",
       "2                               NaN  2020  \n",
       "3                               NaN  2020  \n",
       "4                      Ansible;Chef  2020  "
      ]
     },
     "execution_count": 8,
     "metadata": {},
     "output_type": "execute_result"
    }
   ],
   "source": [
    "df2.head()"
   ]
  },
  {
   "cell_type": "code",
   "execution_count": 8,
   "metadata": {},
   "outputs": [],
   "source": [
    "df = pd.concat([df1, df2, df3])"
   ]
  },
  {
   "cell_type": "code",
   "execution_count": 9,
   "metadata": {},
   "outputs": [],
   "source": [
    "df = df.dropna(subset=['DevType'])"
   ]
  },
  {
   "cell_type": "code",
   "execution_count": 11,
   "metadata": {},
   "outputs": [
    {
     "data": {
      "text/html": [
       "<div>\n",
       "<style scoped>\n",
       "    .dataframe tbody tr th:only-of-type {\n",
       "        vertical-align: middle;\n",
       "    }\n",
       "\n",
       "    .dataframe tbody tr th {\n",
       "        vertical-align: top;\n",
       "    }\n",
       "\n",
       "    .dataframe thead th {\n",
       "        text-align: right;\n",
       "    }\n",
       "</style>\n",
       "<table border=\"1\" class=\"dataframe\">\n",
       "  <thead>\n",
       "    <tr style=\"text-align: right;\">\n",
       "      <th></th>\n",
       "      <th>CompFreq</th>\n",
       "      <th>CompTotal</th>\n",
       "      <th>Currency</th>\n",
       "      <th>DevType</th>\n",
       "      <th>LanguageHaveWorkedWith</th>\n",
       "      <th>LanguageWantToWorkWith</th>\n",
       "      <th>MiscTechHaveWorkedWith</th>\n",
       "      <th>MiscTechWantToWorkWith</th>\n",
       "      <th>year</th>\n",
       "    </tr>\n",
       "  </thead>\n",
       "  <tbody>\n",
       "    <tr>\n",
       "      <th>0</th>\n",
       "      <td>Monthly</td>\n",
       "      <td>4800.0</td>\n",
       "      <td>EUR European Euro</td>\n",
       "      <td>Developer, mobile</td>\n",
       "      <td>C++;HTML/CSS;JavaScript;Objective-C;PHP;Swift</td>\n",
       "      <td>Swift</td>\n",
       "      <td>NaN</td>\n",
       "      <td>NaN</td>\n",
       "      <td>2021</td>\n",
       "    </tr>\n",
       "  </tbody>\n",
       "</table>\n",
       "</div>"
      ],
      "text/plain": [
       "  CompFreq  CompTotal           Currency            DevType  \\\n",
       "0  Monthly     4800.0  EUR European Euro  Developer, mobile   \n",
       "\n",
       "                          LanguageHaveWorkedWith LanguageWantToWorkWith  \\\n",
       "0  C++;HTML/CSS;JavaScript;Objective-C;PHP;Swift                  Swift   \n",
       "\n",
       "  MiscTechHaveWorkedWith MiscTechWantToWorkWith  year  \n",
       "0                    NaN                    NaN  2021  "
      ]
     },
     "execution_count": 11,
     "metadata": {},
     "output_type": "execute_result"
    }
   ],
   "source": [
    "df.head(1)"
   ]
  },
  {
   "cell_type": "code",
   "execution_count": 11,
   "metadata": {},
   "outputs": [],
   "source": [
    "dataReg = r\"data|machine|deep\"\n",
    "\n",
    "df['isDataRelated'] = df['DevType'].apply(lambda row: 1 if re.search(dataReg, row, re.I) else 0)"
   ]
  },
  {
   "cell_type": "code",
   "execution_count": 13,
   "metadata": {
    "collapsed": true,
    "jupyter": {
     "outputs_hidden": true
    }
   },
   "outputs": [
    {
     "data": {
      "text/html": [
       "<div>\n",
       "<style scoped>\n",
       "    .dataframe tbody tr th:only-of-type {\n",
       "        vertical-align: middle;\n",
       "    }\n",
       "\n",
       "    .dataframe tbody tr th {\n",
       "        vertical-align: top;\n",
       "    }\n",
       "\n",
       "    .dataframe thead th {\n",
       "        text-align: right;\n",
       "    }\n",
       "</style>\n",
       "<table border=\"1\" class=\"dataframe\">\n",
       "  <thead>\n",
       "    <tr style=\"text-align: right;\">\n",
       "      <th></th>\n",
       "      <th>DevType</th>\n",
       "      <th>isDataRelated</th>\n",
       "    </tr>\n",
       "  </thead>\n",
       "  <tbody>\n",
       "    <tr>\n",
       "      <th>0</th>\n",
       "      <td>Developer, mobile</td>\n",
       "      <td>0</td>\n",
       "    </tr>\n",
       "    <tr>\n",
       "      <th>3</th>\n",
       "      <td>Developer, front-end</td>\n",
       "      <td>0</td>\n",
       "    </tr>\n",
       "    <tr>\n",
       "      <th>4</th>\n",
       "      <td>Developer, desktop or enterprise applications;...</td>\n",
       "      <td>1</td>\n",
       "    </tr>\n",
       "    <tr>\n",
       "      <th>8</th>\n",
       "      <td>Developer, front-end</td>\n",
       "      <td>0</td>\n",
       "    </tr>\n",
       "    <tr>\n",
       "      <th>9</th>\n",
       "      <td>Data scientist or machine learning specialist</td>\n",
       "      <td>1</td>\n",
       "    </tr>\n",
       "    <tr>\n",
       "      <th>...</th>\n",
       "      <td>...</td>\n",
       "      <td>...</td>\n",
       "    </tr>\n",
       "    <tr>\n",
       "      <th>88871</th>\n",
       "      <td>Student</td>\n",
       "      <td>0</td>\n",
       "    </tr>\n",
       "    <tr>\n",
       "      <th>88872</th>\n",
       "      <td>Academic researcher;Designer;Developer, game o...</td>\n",
       "      <td>0</td>\n",
       "    </tr>\n",
       "    <tr>\n",
       "      <th>88875</th>\n",
       "      <td>Academic researcher</td>\n",
       "      <td>0</td>\n",
       "    </tr>\n",
       "    <tr>\n",
       "      <th>88876</th>\n",
       "      <td>Designer;Developer, front-end;Developer, full-...</td>\n",
       "      <td>0</td>\n",
       "    </tr>\n",
       "    <tr>\n",
       "      <th>88877</th>\n",
       "      <td>Developer, back-end;Developer, desktop or ente...</td>\n",
       "      <td>0</td>\n",
       "    </tr>\n",
       "  </tbody>\n",
       "</table>\n",
       "<p>197189 rows × 2 columns</p>\n",
       "</div>"
      ],
      "text/plain": [
       "                                                 DevType  isDataRelated\n",
       "0                                      Developer, mobile              0\n",
       "3                                   Developer, front-end              0\n",
       "4      Developer, desktop or enterprise applications;...              1\n",
       "8                                   Developer, front-end              0\n",
       "9          Data scientist or machine learning specialist              1\n",
       "...                                                  ...            ...\n",
       "88871                                            Student              0\n",
       "88872  Academic researcher;Designer;Developer, game o...              0\n",
       "88875                                Academic researcher              0\n",
       "88876  Designer;Developer, front-end;Developer, full-...              0\n",
       "88877  Developer, back-end;Developer, desktop or ente...              0\n",
       "\n",
       "[197189 rows x 2 columns]"
      ]
     },
     "execution_count": 13,
     "metadata": {},
     "output_type": "execute_result"
    }
   ],
   "source": [
    "df[['DevType','isDataRelated']]"
   ]
  },
  {
   "cell_type": "code",
   "execution_count": 10,
   "metadata": {},
   "outputs": [
    {
     "data": {
      "text/html": [
       "<div>\n",
       "<style scoped>\n",
       "    .dataframe tbody tr th:only-of-type {\n",
       "        vertical-align: middle;\n",
       "    }\n",
       "\n",
       "    .dataframe tbody tr th {\n",
       "        vertical-align: top;\n",
       "    }\n",
       "\n",
       "    .dataframe thead th {\n",
       "        text-align: right;\n",
       "    }\n",
       "</style>\n",
       "<table border=\"1\" class=\"dataframe\">\n",
       "  <thead>\n",
       "    <tr style=\"text-align: right;\">\n",
       "      <th></th>\n",
       "      <th>CompFreq</th>\n",
       "      <th>CompTotal</th>\n",
       "      <th>Currency</th>\n",
       "      <th>DevType</th>\n",
       "      <th>LanguageHaveWorkedWith</th>\n",
       "      <th>LanguageWantToWorkWith</th>\n",
       "      <th>MiscTechHaveWorkedWith</th>\n",
       "      <th>MiscTechWantToWorkWith</th>\n",
       "      <th>isDataRelated</th>\n",
       "    </tr>\n",
       "    <tr>\n",
       "      <th>year</th>\n",
       "      <th></th>\n",
       "      <th></th>\n",
       "      <th></th>\n",
       "      <th></th>\n",
       "      <th></th>\n",
       "      <th></th>\n",
       "      <th></th>\n",
       "      <th></th>\n",
       "      <th></th>\n",
       "    </tr>\n",
       "  </thead>\n",
       "  <tbody>\n",
       "    <tr>\n",
       "      <th>2019</th>\n",
       "      <td>15127</td>\n",
       "      <td>13426</td>\n",
       "      <td>17120</td>\n",
       "      <td>19752</td>\n",
       "      <td>19571</td>\n",
       "      <td>18797</td>\n",
       "      <td>14951</td>\n",
       "      <td>15697</td>\n",
       "      <td>19752</td>\n",
       "    </tr>\n",
       "    <tr>\n",
       "      <th>2020</th>\n",
       "      <td>9640</td>\n",
       "      <td>8313</td>\n",
       "      <td>10947</td>\n",
       "      <td>12228</td>\n",
       "      <td>11526</td>\n",
       "      <td>10858</td>\n",
       "      <td>9107</td>\n",
       "      <td>9271</td>\n",
       "      <td>12228</td>\n",
       "    </tr>\n",
       "    <tr>\n",
       "      <th>2021</th>\n",
       "      <td>10334</td>\n",
       "      <td>9346</td>\n",
       "      <td>12143</td>\n",
       "      <td>13010</td>\n",
       "      <td>12922</td>\n",
       "      <td>12052</td>\n",
       "      <td>9500</td>\n",
       "      <td>8144</td>\n",
       "      <td>13010</td>\n",
       "    </tr>\n",
       "  </tbody>\n",
       "</table>\n",
       "</div>"
      ],
      "text/plain": [
       "      CompFreq  CompTotal  Currency  DevType  LanguageHaveWorkedWith  \\\n",
       "year                                                                   \n",
       "2019     15127      13426     17120    19752                   19571   \n",
       "2020      9640       8313     10947    12228                   11526   \n",
       "2021     10334       9346     12143    13010                   12922   \n",
       "\n",
       "      LanguageWantToWorkWith  MiscTechHaveWorkedWith  MiscTechWantToWorkWith  \\\n",
       "year                                                                           \n",
       "2019                   18797                   14951                   15697   \n",
       "2020                   10858                    9107                    9271   \n",
       "2021                   12052                    9500                    8144   \n",
       "\n",
       "      isDataRelated  \n",
       "year                 \n",
       "2019          19752  \n",
       "2020          12228  \n",
       "2021          13010  "
      ]
     },
     "execution_count": 10,
     "metadata": {},
     "output_type": "execute_result"
    }
   ],
   "source": [
    "df[df['isDataRelated']==1].groupby('year').count()"
   ]
  },
  {
   "cell_type": "code",
   "execution_count": 11,
   "metadata": {},
   "outputs": [
    {
     "data": {
      "text/html": [
       "<div>\n",
       "<style scoped>\n",
       "    .dataframe tbody tr th:only-of-type {\n",
       "        vertical-align: middle;\n",
       "    }\n",
       "\n",
       "    .dataframe tbody tr th {\n",
       "        vertical-align: top;\n",
       "    }\n",
       "\n",
       "    .dataframe thead th {\n",
       "        text-align: right;\n",
       "    }\n",
       "</style>\n",
       "<table border=\"1\" class=\"dataframe\">\n",
       "  <thead>\n",
       "    <tr style=\"text-align: right;\">\n",
       "      <th></th>\n",
       "      <th>CompFreq</th>\n",
       "      <th>CompTotal</th>\n",
       "      <th>Currency</th>\n",
       "      <th>DevType</th>\n",
       "      <th>LanguageHaveWorkedWith</th>\n",
       "      <th>LanguageWantToWorkWith</th>\n",
       "      <th>MiscTechHaveWorkedWith</th>\n",
       "      <th>MiscTechWantToWorkWith</th>\n",
       "      <th>isDataRelated</th>\n",
       "    </tr>\n",
       "    <tr>\n",
       "      <th>year</th>\n",
       "      <th></th>\n",
       "      <th></th>\n",
       "      <th></th>\n",
       "      <th></th>\n",
       "      <th></th>\n",
       "      <th></th>\n",
       "      <th></th>\n",
       "      <th></th>\n",
       "      <th></th>\n",
       "    </tr>\n",
       "  </thead>\n",
       "  <tbody>\n",
       "    <tr>\n",
       "      <th>2019</th>\n",
       "      <td>62330</td>\n",
       "      <td>55197</td>\n",
       "      <td>69934</td>\n",
       "      <td>81335</td>\n",
       "      <td>80532</td>\n",
       "      <td>77391</td>\n",
       "      <td>55617</td>\n",
       "      <td>60136</td>\n",
       "      <td>81335</td>\n",
       "    </tr>\n",
       "    <tr>\n",
       "      <th>2020</th>\n",
       "      <td>39547</td>\n",
       "      <td>34435</td>\n",
       "      <td>44634</td>\n",
       "      <td>49370</td>\n",
       "      <td>46243</td>\n",
       "      <td>43710</td>\n",
       "      <td>33521</td>\n",
       "      <td>35125</td>\n",
       "      <td>49370</td>\n",
       "    </tr>\n",
       "    <tr>\n",
       "      <th>2021</th>\n",
       "      <td>51952</td>\n",
       "      <td>47073</td>\n",
       "      <td>60533</td>\n",
       "      <td>66484</td>\n",
       "      <td>65926</td>\n",
       "      <td>61449</td>\n",
       "      <td>37263</td>\n",
       "      <td>30254</td>\n",
       "      <td>66484</td>\n",
       "    </tr>\n",
       "  </tbody>\n",
       "</table>\n",
       "</div>"
      ],
      "text/plain": [
       "      CompFreq  CompTotal  Currency  DevType  LanguageHaveWorkedWith  \\\n",
       "year                                                                   \n",
       "2019     62330      55197     69934    81335                   80532   \n",
       "2020     39547      34435     44634    49370                   46243   \n",
       "2021     51952      47073     60533    66484                   65926   \n",
       "\n",
       "      LanguageWantToWorkWith  MiscTechHaveWorkedWith  MiscTechWantToWorkWith  \\\n",
       "year                                                                           \n",
       "2019                   77391                   55617                   60136   \n",
       "2020                   43710                   33521                   35125   \n",
       "2021                   61449                   37263                   30254   \n",
       "\n",
       "      isDataRelated  \n",
       "year                 \n",
       "2019          81335  \n",
       "2020          49370  \n",
       "2021          66484  "
      ]
     },
     "execution_count": 11,
     "metadata": {},
     "output_type": "execute_result"
    }
   ],
   "source": [
    "df.groupby('year').count()"
   ]
  },
  {
   "cell_type": "code",
   "execution_count": 12,
   "metadata": {},
   "outputs": [
    {
     "data": {
      "text/plain": [
       "0.24768077780028358"
      ]
     },
     "execution_count": 12,
     "metadata": {},
     "output_type": "execute_result"
    }
   ],
   "source": [
    "len(df.query(\"isDataRelated == 1 and year == '2020'\"))/len(df.query(\"year == '2020'\"))"
   ]
  },
  {
   "cell_type": "code",
   "execution_count": 13,
   "metadata": {},
   "outputs": [
    {
     "data": {
      "text/plain": [
       "0.19568618013356598"
      ]
     },
     "execution_count": 13,
     "metadata": {},
     "output_type": "execute_result"
    }
   ],
   "source": [
    "len(df.query(\"isDataRelated == 1 and year == '2021'\"))/len(df.query(\"year == '2021'\"))"
   ]
  },
  {
   "cell_type": "markdown",
   "metadata": {},
   "source": [
    "## Lauguages preferred by Data Analyst"
   ]
  },
  {
   "cell_type": "code",
   "execution_count": 12,
   "metadata": {},
   "outputs": [],
   "source": [
    "DataRelatedDF = df[df['isDataRelated']==1]"
   ]
  },
  {
   "cell_type": "code",
   "execution_count": 15,
   "metadata": {
    "collapsed": true,
    "jupyter": {
     "outputs_hidden": true
    }
   },
   "outputs": [
    {
     "data": {
      "text/html": [
       "<div>\n",
       "<style scoped>\n",
       "    .dataframe tbody tr th:only-of-type {\n",
       "        vertical-align: middle;\n",
       "    }\n",
       "\n",
       "    .dataframe tbody tr th {\n",
       "        vertical-align: top;\n",
       "    }\n",
       "\n",
       "    .dataframe thead th {\n",
       "        text-align: right;\n",
       "    }\n",
       "</style>\n",
       "<table border=\"1\" class=\"dataframe\">\n",
       "  <thead>\n",
       "    <tr style=\"text-align: right;\">\n",
       "      <th></th>\n",
       "      <th>index</th>\n",
       "      <th>DevType</th>\n",
       "    </tr>\n",
       "  </thead>\n",
       "  <tbody>\n",
       "    <tr>\n",
       "      <th>0</th>\n",
       "      <td>Data scientist or machine learning specialist</td>\n",
       "      <td>1554</td>\n",
       "    </tr>\n",
       "    <tr>\n",
       "      <th>1</th>\n",
       "      <td>Data or business analyst</td>\n",
       "      <td>1037</td>\n",
       "    </tr>\n",
       "    <tr>\n",
       "      <th>2</th>\n",
       "      <td>Engineer, data</td>\n",
       "      <td>858</td>\n",
       "    </tr>\n",
       "    <tr>\n",
       "      <th>3</th>\n",
       "      <td>Developer, back-end;Engineer, data</td>\n",
       "      <td>537</td>\n",
       "    </tr>\n",
       "    <tr>\n",
       "      <th>4</th>\n",
       "      <td>Data scientist or machine learning specialist;...</td>\n",
       "      <td>489</td>\n",
       "    </tr>\n",
       "    <tr>\n",
       "      <th>...</th>\n",
       "      <td>...</td>\n",
       "      <td>...</td>\n",
       "    </tr>\n",
       "    <tr>\n",
       "      <th>16759</th>\n",
       "      <td>Developer, desktop or enterprise applications;...</td>\n",
       "      <td>1</td>\n",
       "    </tr>\n",
       "    <tr>\n",
       "      <th>16760</th>\n",
       "      <td>Data or business analyst;Data scientist or mac...</td>\n",
       "      <td>1</td>\n",
       "    </tr>\n",
       "    <tr>\n",
       "      <th>16761</th>\n",
       "      <td>Developer, front-end;Database administrator;De...</td>\n",
       "      <td>1</td>\n",
       "    </tr>\n",
       "    <tr>\n",
       "      <th>16762</th>\n",
       "      <td>Developer, back-end;Developer, full-stack;Engi...</td>\n",
       "      <td>1</td>\n",
       "    </tr>\n",
       "    <tr>\n",
       "      <th>16763</th>\n",
       "      <td>Developer, mobile;Developer, front-end;Develop...</td>\n",
       "      <td>1</td>\n",
       "    </tr>\n",
       "  </tbody>\n",
       "</table>\n",
       "<p>16764 rows × 2 columns</p>\n",
       "</div>"
      ],
      "text/plain": [
       "                                                   index  DevType\n",
       "0          Data scientist or machine learning specialist     1554\n",
       "1                               Data or business analyst     1037\n",
       "2                                         Engineer, data      858\n",
       "3                     Developer, back-end;Engineer, data      537\n",
       "4      Data scientist or machine learning specialist;...      489\n",
       "...                                                  ...      ...\n",
       "16759  Developer, desktop or enterprise applications;...        1\n",
       "16760  Data or business analyst;Data scientist or mac...        1\n",
       "16761  Developer, front-end;Database administrator;De...        1\n",
       "16762  Developer, back-end;Developer, full-stack;Engi...        1\n",
       "16763  Developer, mobile;Developer, front-end;Develop...        1\n",
       "\n",
       "[16764 rows x 2 columns]"
      ]
     },
     "execution_count": 15,
     "metadata": {},
     "output_type": "execute_result"
    }
   ],
   "source": [
    "DataRelatedDF['DevType'].value_counts().reset_index()"
   ]
  },
  {
   "cell_type": "code",
   "execution_count": 13,
   "metadata": {},
   "outputs": [],
   "source": [
    "DevTypes = set()\n",
    "for DevTypeSet in DataRelatedDF['DevType']:\n",
    "    DevTypes = DevTypes|set(DevTypeSet.split(';'))"
   ]
  },
  {
   "cell_type": "code",
   "execution_count": 11,
   "metadata": {
    "collapsed": true,
    "jupyter": {
     "outputs_hidden": true
    }
   },
   "outputs": [
    {
     "data": {
      "text/plain": [
       "{'Academic researcher',\n",
       " 'Data or business analyst',\n",
       " 'Data scientist or machine learning specialist',\n",
       " 'Database administrator',\n",
       " 'Designer',\n",
       " 'DevOps specialist',\n",
       " 'Developer, QA or test',\n",
       " 'Developer, back-end',\n",
       " 'Developer, desktop or enterprise applications',\n",
       " 'Developer, embedded applications or devices',\n",
       " 'Developer, front-end',\n",
       " 'Developer, full-stack',\n",
       " 'Developer, game or graphics',\n",
       " 'Developer, mobile',\n",
       " 'Educator',\n",
       " 'Engineer, data',\n",
       " 'Engineer, site reliability',\n",
       " 'Engineering manager',\n",
       " 'Marketing or sales professional',\n",
       " 'Other (please specify):',\n",
       " 'Product manager',\n",
       " 'Scientist',\n",
       " 'Senior Executive (C-Suite, VP, etc.)',\n",
       " 'Senior executive/VP',\n",
       " 'Student',\n",
       " 'System administrator'}"
      ]
     },
     "execution_count": 11,
     "metadata": {},
     "output_type": "execute_result"
    }
   ],
   "source": [
    "DevTypes"
   ]
  },
  {
   "cell_type": "code",
   "execution_count": 75,
   "metadata": {},
   "outputs": [],
   "source": [
    "from collections import defaultdict"
   ]
  },
  {
   "cell_type": "code",
   "execution_count": 73,
   "metadata": {},
   "outputs": [],
   "source": [
    "def total_count(df, col1, col2, look_for):\n",
    "    '''\n",
    "    INPUT:\n",
    "    df - the pandas dataframe you want to search\n",
    "    col1 - the column name you want to look through\n",
    "    col2 - the column you want to count values from\n",
    "    look_for - a list of strings you want to search for in each row of df[col]\n",
    "\n",
    "    OUTPUT:\n",
    "    new_df - a dataframe of each look_for with the count of how often it shows up\n",
    "    '''\n",
    "    new_df = defaultdict(int)\n",
    "    #loop through list of ed types\n",
    "    for val in look_for:\n",
    "        #loop through rows\n",
    "        for idx in range(df.shape[0]):\n",
    "            #if the ed type is in the row add 1\n",
    "            splits = set(df[col1][idx].split(';'))\n",
    "            if val in splits:\n",
    "                new_df[val] += int(df[col2][idx])\n",
    "    new_df = pd.DataFrame(pd.Series(new_df)).reset_index()\n",
    "    new_df.columns = [col1, col2]\n",
    "    new_df.sort_values('count', ascending=False, inplace=True)\n",
    "    return new_df"
   ]
  },
  {
   "cell_type": "code",
   "execution_count": 71,
   "metadata": {},
   "outputs": [],
   "source": [
    "def clean_and_plot(df, index_name, column_name, title, possible_vals, plot=True, threshold=0):\n",
    "    '''\n",
    "    INPUT \n",
    "        df - a dataframe holding the DevType column\n",
    "        title - string the title of your plot\n",
    "        axis - axis object\n",
    "        plot - bool providing whether or not you want a plot back\n",
    "        \n",
    "    OUTPUT\n",
    "        study_df - a dataframe with the count of how many individuals\n",
    "        Displays a plot of pretty things related to the DevType column.\n",
    "    '''\n",
    "    study = df[column_name].value_counts().reset_index()\n",
    "    study.rename(columns={'index': index_name, column_name: 'count'}, inplace=True)\n",
    "    #print(study)\n",
    "    study_df = total_count(study, index_name, 'count', possible_vals)\n",
    "    \n",
    "    study_df.set_index(index_name, inplace=True)\n",
    "    df_to_plot = (study_df/len(df))\n",
    "    df_to_plot = df_to_plot[df_to_plot>=threshold].dropna()\n",
    "    #print(df_to_plot)\n",
    "    if plot:\n",
    "        df_to_plot.plot(kind='bar', legend=None);\n",
    "        plt.title(title);\n",
    "        plt.show()\n",
    "    props_study_df = study_df/len(df)\n",
    "    return props_study_df\n",
    "    "
   ]
  },
  {
   "cell_type": "code",
   "execution_count": 184,
   "metadata": {
    "collapsed": true,
    "jupyter": {
     "outputs_hidden": true
    }
   },
   "outputs": [
    {
     "data": {
      "text/plain": [
       "\u001b[1;31mInit signature:\u001b[0m \u001b[0mpd\u001b[0m\u001b[1;33m.\u001b[0m\u001b[0mDataFrame\u001b[0m\u001b[1;33m.\u001b[0m\u001b[0mplot\u001b[0m\u001b[1;33m(\u001b[0m\u001b[0mdata\u001b[0m\u001b[1;33m)\u001b[0m\u001b[1;33m\u001b[0m\u001b[1;33m\u001b[0m\u001b[0m\n",
       "\u001b[1;31mDocstring:\u001b[0m     \n",
       "Make plots of Series or DataFrame.\n",
       "\n",
       "Uses the backend specified by the\n",
       "option ``plotting.backend``. By default, matplotlib is used.\n",
       "\n",
       "Parameters\n",
       "----------\n",
       "data : Series or DataFrame\n",
       "    The object for which the method is called.\n",
       "x : label or position, default None\n",
       "    Only used if data is a DataFrame.\n",
       "y : label, position or list of label, positions, default None\n",
       "    Allows plotting of one column versus another. Only used if data is a\n",
       "    DataFrame.\n",
       "kind : str\n",
       "    The kind of plot to produce:\n",
       "\n",
       "    - 'line' : line plot (default)\n",
       "    - 'bar' : vertical bar plot\n",
       "    - 'barh' : horizontal bar plot\n",
       "    - 'hist' : histogram\n",
       "    - 'box' : boxplot\n",
       "    - 'kde' : Kernel Density Estimation plot\n",
       "    - 'density' : same as 'kde'\n",
       "    - 'area' : area plot\n",
       "    - 'pie' : pie plot\n",
       "    - 'scatter' : scatter plot\n",
       "    - 'hexbin' : hexbin plot.\n",
       "ax : matplotlib axes object, default None\n",
       "    An axes of the current figure.\n",
       "subplots : bool, default False\n",
       "    Make separate subplots for each column.\n",
       "sharex : bool, default True if ax is None else False\n",
       "    In case ``subplots=True``, share x axis and set some x axis labels\n",
       "    to invisible; defaults to True if ax is None otherwise False if\n",
       "    an ax is passed in; Be aware, that passing in both an ax and\n",
       "    ``sharex=True`` will alter all x axis labels for all axis in a figure.\n",
       "sharey : bool, default False\n",
       "    In case ``subplots=True``, share y axis and set some y axis labels to invisible.\n",
       "layout : tuple, optional\n",
       "    (rows, columns) for the layout of subplots.\n",
       "figsize : a tuple (width, height) in inches\n",
       "    Size of a figure object.\n",
       "use_index : bool, default True\n",
       "    Use index as ticks for x axis.\n",
       "title : str or list\n",
       "    Title to use for the plot. If a string is passed, print the string\n",
       "    at the top of the figure. If a list is passed and `subplots` is\n",
       "    True, print each item in the list above the corresponding subplot.\n",
       "grid : bool, default None (matlab style default)\n",
       "    Axis grid lines.\n",
       "legend : bool or {'reverse'}\n",
       "    Place legend on axis subplots.\n",
       "style : list or dict\n",
       "    The matplotlib line style per column.\n",
       "logx : bool or 'sym', default False\n",
       "    Use log scaling or symlog scaling on x axis.\n",
       "    .. versionchanged:: 0.25.0\n",
       "\n",
       "logy : bool or 'sym' default False\n",
       "    Use log scaling or symlog scaling on y axis.\n",
       "    .. versionchanged:: 0.25.0\n",
       "\n",
       "loglog : bool or 'sym', default False\n",
       "    Use log scaling or symlog scaling on both x and y axes.\n",
       "    .. versionchanged:: 0.25.0\n",
       "\n",
       "xticks : sequence\n",
       "    Values to use for the xticks.\n",
       "yticks : sequence\n",
       "    Values to use for the yticks.\n",
       "xlim : 2-tuple/list\n",
       "    Set the x limits of the current axes.\n",
       "ylim : 2-tuple/list\n",
       "    Set the y limits of the current axes.\n",
       "xlabel : label, optional\n",
       "    Name to use for the xlabel on x-axis. Default uses index name as xlabel.\n",
       "\n",
       "    .. versionadded:: 1.1.0\n",
       "\n",
       "ylabel : label, optional\n",
       "    Name to use for the ylabel on y-axis. Default will show no ylabel.\n",
       "\n",
       "    .. versionadded:: 1.1.0\n",
       "\n",
       "rot : int, default None\n",
       "    Rotation for ticks (xticks for vertical, yticks for horizontal\n",
       "    plots).\n",
       "fontsize : int, default None\n",
       "    Font size for xticks and yticks.\n",
       "colormap : str or matplotlib colormap object, default None\n",
       "    Colormap to select colors from. If string, load colormap with that\n",
       "    name from matplotlib.\n",
       "colorbar : bool, optional\n",
       "    If True, plot colorbar (only relevant for 'scatter' and 'hexbin'\n",
       "    plots).\n",
       "position : float\n",
       "    Specify relative alignments for bar plot layout.\n",
       "    From 0 (left/bottom-end) to 1 (right/top-end). Default is 0.5\n",
       "    (center).\n",
       "table : bool, Series or DataFrame, default False\n",
       "    If True, draw a table using the data in the DataFrame and the data\n",
       "    will be transposed to meet matplotlib's default layout.\n",
       "    If a Series or DataFrame is passed, use passed data to draw a\n",
       "    table.\n",
       "yerr : DataFrame, Series, array-like, dict and str\n",
       "    See :ref:`Plotting with Error Bars <visualization.errorbars>` for\n",
       "    detail.\n",
       "xerr : DataFrame, Series, array-like, dict and str\n",
       "    Equivalent to yerr.\n",
       "stacked : bool, default False in line and bar plots, and True in area plot\n",
       "    If True, create stacked plot.\n",
       "sort_columns : bool, default False\n",
       "    Sort column names to determine plot ordering.\n",
       "secondary_y : bool or sequence, default False\n",
       "    Whether to plot on the secondary y-axis if a list/tuple, which\n",
       "    columns to plot on secondary y-axis.\n",
       "mark_right : bool, default True\n",
       "    When using a secondary_y axis, automatically mark the column\n",
       "    labels with \"(right)\" in the legend.\n",
       "include_bool : bool, default is False\n",
       "    If True, boolean values can be plotted.\n",
       "backend : str, default None\n",
       "    Backend to use instead of the backend specified in the option\n",
       "    ``plotting.backend``. For instance, 'matplotlib'. Alternatively, to\n",
       "    specify the ``plotting.backend`` for the whole session, set\n",
       "    ``pd.options.plotting.backend``.\n",
       "\n",
       "    .. versionadded:: 1.0.0\n",
       "\n",
       "**kwargs\n",
       "    Options to pass to matplotlib plotting method.\n",
       "\n",
       "Returns\n",
       "-------\n",
       ":class:`matplotlib.axes.Axes` or numpy.ndarray of them\n",
       "    If the backend is not the default matplotlib one, the return value\n",
       "    will be the object returned by the backend.\n",
       "\n",
       "Notes\n",
       "-----\n",
       "- See matplotlib documentation online for more on this subject\n",
       "- If `kind` = 'bar' or 'barh', you can specify relative alignments\n",
       "  for bar plot layout by `position` keyword.\n",
       "  From 0 (left/bottom-end) to 1 (right/top-end). Default is 0.5\n",
       "  (center)\n",
       "\u001b[1;31mFile:\u001b[0m           d:\\users\\blickwinkel\\anaconda3\\lib\\site-packages\\pandas\\plotting\\_core.py\n",
       "\u001b[1;31mType:\u001b[0m           type\n",
       "\u001b[1;31mSubclasses:\u001b[0m     \n"
      ]
     },
     "metadata": {},
     "output_type": "display_data"
    }
   ],
   "source": [
    "pd.DataFrame.plot?"
   ]
  },
  {
   "cell_type": "code",
   "execution_count": 16,
   "metadata": {
    "collapsed": true,
    "jupyter": {
     "outputs_hidden": true
    }
   },
   "outputs": [
    {
     "data": {
      "image/png": "[encoded data removed]",
      "text/plain": [
       "<Figure size 432x288 with 1 Axes>"
      ]
     },
     "metadata": {
      "needs_background": "light"
     },
     "output_type": "display_data"
    },
    {
     "data": {
      "image/png": "[encoded data removed]",
      "text/plain": [
       "<Figure size 432x288 with 1 Axes>"
      ]
     },
     "metadata": {
      "needs_background": "light"
     },
     "output_type": "display_data"
    },
    {
     "data": {
      "image/png": "[encoded data removed]",
      "text/plain": [
       "<Figure size 432x288 with 1 Axes>"
      ]
     },
     "metadata": {
      "needs_background": "light"
     },
     "output_type": "display_data"
    }
   ],
   "source": [
    "possible_vals = ['Data or business analyst', 'Data scientist or machine learning specialist', \n",
    "                 'Engineer, data']\n",
    "props_df_2019 = clean_and_plot(DataRelatedDF[DataRelatedDF['year']=='2019'], \n",
    "                               title='2019', index_name='DataDevType', possible_vals = possible_vals, column_name='DevType')\n",
    "props_df_2020 = clean_and_plot(DataRelatedDF[DataRelatedDF['year']=='2020'], \n",
    "                               title='2020', index_name='DataDevType', possible_vals = possible_vals, column_name='DevType')\n",
    "props_df_2021 = clean_and_plot(DataRelatedDF[DataRelatedDF['year']=='2021'], \n",
    "                               title='2021', index_name='DataDevType', possible_vals = possible_vals, column_name='DevType')"
   ]
  },
  {
   "cell_type": "code",
   "execution_count": 14,
   "metadata": {},
   "outputs": [],
   "source": [
    "PastLanguages = set()\n",
    "for LanguageSet in DataRelatedDF['LanguageHaveWorkedWith']:\n",
    "    try:\n",
    "        PastLanguages = PastLanguages|set(LanguageSet.split(';'))\n",
    "    except:\n",
    "        continue\n",
    "\n",
    "DesiredLanguages = set()\n",
    "for LanguageSet in DataRelatedDF['LanguageWantToWorkWith']:\n",
    "    try:\n",
    "        DesiredLanguages = DesiredLanguages|set(LanguageSet.split(';'))\n",
    "    except:\n",
    "        continue"
   ]
  },
  {
   "cell_type": "code",
   "execution_count": 23,
   "metadata": {
    "collapsed": true,
    "jupyter": {
     "outputs_hidden": true
    }
   },
   "outputs": [
    {
     "data": {
      "text/plain": [
       "({'APL',\n",
       "  'Assembly',\n",
       "  'Bash/Shell',\n",
       "  'Bash/Shell/PowerShell',\n",
       "  'C',\n",
       "  'C#',\n",
       "  'C++',\n",
       "  'COBOL',\n",
       "  'Clojure',\n",
       "  'Crystal',\n",
       "  'Dart',\n",
       "  'Delphi',\n",
       "  'Elixir',\n",
       "  'Erlang',\n",
       "  'F#',\n",
       "  'Go',\n",
       "  'Groovy',\n",
       "  'HTML/CSS',\n",
       "  'Haskell',\n",
       "  'Java',\n",
       "  'JavaScript',\n",
       "  'Julia',\n",
       "  'Kotlin',\n",
       "  'LISP',\n",
       "  'Matlab',\n",
       "  'Node.js',\n",
       "  'Objective-C',\n",
       "  'Other(s):',\n",
       "  'PHP',\n",
       "  'Perl',\n",
       "  'PowerShell',\n",
       "  'Python',\n",
       "  'R',\n",
       "  'Ruby',\n",
       "  'Rust',\n",
       "  'SQL',\n",
       "  'Scala',\n",
       "  'Swift',\n",
       "  'TypeScript',\n",
       "  'VBA',\n",
       "  'WebAssembly'},\n",
       " {'APL',\n",
       "  'Assembly',\n",
       "  'Bash/Shell',\n",
       "  'Bash/Shell/PowerShell',\n",
       "  'C',\n",
       "  'C#',\n",
       "  'C++',\n",
       "  'COBOL',\n",
       "  'Clojure',\n",
       "  'Crystal',\n",
       "  'Dart',\n",
       "  'Delphi',\n",
       "  'Elixir',\n",
       "  'Erlang',\n",
       "  'F#',\n",
       "  'Go',\n",
       "  'Groovy',\n",
       "  'HTML/CSS',\n",
       "  'Haskell',\n",
       "  'Java',\n",
       "  'JavaScript',\n",
       "  'Julia',\n",
       "  'Kotlin',\n",
       "  'LISP',\n",
       "  'Matlab',\n",
       "  'Node.js',\n",
       "  'Objective-C',\n",
       "  'Other(s):',\n",
       "  'PHP',\n",
       "  'Perl',\n",
       "  'PowerShell',\n",
       "  'Python',\n",
       "  'R',\n",
       "  'Ruby',\n",
       "  'Rust',\n",
       "  'SQL',\n",
       "  'Scala',\n",
       "  'Swift',\n",
       "  'TypeScript',\n",
       "  'VBA',\n",
       "  'WebAssembly'})"
      ]
     },
     "execution_count": 23,
     "metadata": {},
     "output_type": "execute_result"
    }
   ],
   "source": [
    "PastLanguages, DesiredLanguages"
   ]
  },
  {
   "cell_type": "code",
   "execution_count": 19,
   "metadata": {},
   "outputs": [
    {
     "data": {
      "image/png": "[encoded data removed]",
      "text/plain": [
       "<Figure size 432x288 with 1 Axes>"
      ]
     },
     "metadata": {
      "needs_background": "light"
     },
     "output_type": "display_data"
    },
    {
     "data": {
      "image/png": "[encoded data removed]",
      "text/plain": [
       "<Figure size 432x288 with 1 Axes>"
      ]
     },
     "metadata": {
      "needs_background": "light"
     },
     "output_type": "display_data"
    },
    {
     "data": {
      "image/png": "[encoded data removed]",
      "text/plain": [
       "<Figure size 432x288 with 1 Axes>"
      ]
     },
     "metadata": {
      "needs_background": "light"
     },
     "output_type": "display_data"
    }
   ],
   "source": [
    "possible_vals = list(PastLanguages)\n",
    "props_df_2019 = clean_and_plot(DataRelatedDF[DataRelatedDF['year']=='2019'], \n",
    "                               index_name='Language',column_name='LanguageHaveWorkedWith', title='2019',\n",
    "                               possible_vals = possible_vals, threshold=0.1)\n",
    "props_df_2020 = clean_and_plot(DataRelatedDF[DataRelatedDF['year']=='2020'], \n",
    "                               index_name='Language',column_name='LanguageHaveWorkedWith', title='2020',\n",
    "                               possible_vals = possible_vals, threshold=0.1)\n",
    "props_df_2021 = clean_and_plot(DataRelatedDF[DataRelatedDF['year']=='2021'], \n",
    "                               index_name='Language',column_name='LanguageHaveWorkedWith', title='2021',\n",
    "                               possible_vals = possible_vals, threshold=0.1)"
   ]
  },
  {
   "cell_type": "code",
   "execution_count": 20,
   "metadata": {},
   "outputs": [
    {
     "data": {
      "image/png": "[encoded data removed]",
      "text/plain": [
       "<Figure size 432x288 with 1 Axes>"
      ]
     },
     "metadata": {
      "needs_background": "light"
     },
     "output_type": "display_data"
    },
    {
     "data": {
      "image/png": "[encoded data removed]",
      "text/plain": [
       "<Figure size 432x288 with 1 Axes>"
      ]
     },
     "metadata": {
      "needs_background": "light"
     },
     "output_type": "display_data"
    },
    {
     "data": {
      "image/png": "[encoded data removed]",
      "text/plain": [
       "<Figure size 432x288 with 1 Axes>"
      ]
     },
     "metadata": {
      "needs_background": "light"
     },
     "output_type": "display_data"
    }
   ],
   "source": [
    "possible_vals = list(DesiredLanguages)\n",
    "props_df_2019 = clean_and_plot(DataRelatedDF[DataRelatedDF['year']=='2019'], \n",
    "                               index_name='Language',column_name='LanguageWantToWorkWith', title='2019',\n",
    "                               possible_vals = possible_vals, threshold=0.1)\n",
    "props_df_2020 = clean_and_plot(DataRelatedDF[DataRelatedDF['year']=='2020'], \n",
    "                               index_name='Language',column_name='LanguageWantToWorkWith', title='2020',\n",
    "                               possible_vals = possible_vals, threshold=0.1)\n",
    "props_df_2021 = clean_and_plot(DataRelatedDF[DataRelatedDF['year']=='2021'], \n",
    "                               index_name='Language',column_name='LanguageWantToWorkWith', title='2021',\n",
    "                               possible_vals = possible_vals, threshold=0.1)"
   ]
  },
  {
   "cell_type": "code",
   "execution_count": 15,
   "metadata": {},
   "outputs": [],
   "source": [
    "PastFrameworks = set()\n",
    "for FrameworkSet in DataRelatedDF['MiscTechHaveWorkedWith']:\n",
    "    try:\n",
    "        PastFrameworks = PastFrameworks|set(FrameworkSet.split(';'))\n",
    "    except:\n",
    "        continue\n",
    "\n",
    "DesiredFrameworks = set()\n",
    "for FrameworkSet in DataRelatedDF['MiscTechWantToWorkWith']:\n",
    "    try:\n",
    "        DesiredFrameworks = DesiredFrameworks|set(FrameworkSet.split(';'))\n",
    "    except:\n",
    "        continue"
   ]
  },
  {
   "cell_type": "code",
   "execution_count": 34,
   "metadata": {
    "collapsed": true,
    "jupyter": {
     "outputs_hidden": true
    }
   },
   "outputs": [
    {
     "data": {
      "text/plain": [
       "({'.NET',\n",
       "  '.NET Core',\n",
       "  '.NET Core / .NET 5',\n",
       "  '.NET Framework',\n",
       "  'Ansible',\n",
       "  'Apache Spark',\n",
       "  'Chef',\n",
       "  'Cordova',\n",
       "  'CryEngine',\n",
       "  'Flutter',\n",
       "  'Hadoop',\n",
       "  'Keras',\n",
       "  'Node.js',\n",
       "  'NumPy',\n",
       "  'Other(s):',\n",
       "  'Pandas',\n",
       "  'Puppet',\n",
       "  'Qt',\n",
       "  'React Native',\n",
       "  'TensorFlow',\n",
       "  'Teraform',\n",
       "  'Torch/PyTorch',\n",
       "  'Unity 3D',\n",
       "  'Unreal Engine',\n",
       "  'Xamarin'},\n",
       " {'.NET',\n",
       "  '.NET Core',\n",
       "  '.NET Core / .NET 5',\n",
       "  '.NET Framework',\n",
       "  'Ansible',\n",
       "  'Apache Spark',\n",
       "  'Chef',\n",
       "  'Cordova',\n",
       "  'CryEngine',\n",
       "  'Flutter',\n",
       "  'Hadoop',\n",
       "  'Keras',\n",
       "  'Node.js',\n",
       "  'NumPy',\n",
       "  'Other(s):',\n",
       "  'Pandas',\n",
       "  'Puppet',\n",
       "  'Qt',\n",
       "  'React Native',\n",
       "  'TensorFlow',\n",
       "  'Teraform',\n",
       "  'Torch/PyTorch',\n",
       "  'Unity 3D',\n",
       "  'Unreal Engine',\n",
       "  'Xamarin'})"
      ]
     },
     "execution_count": 34,
     "metadata": {},
     "output_type": "execute_result"
    }
   ],
   "source": [
    "PastFrameworks, DesiredFrameworks"
   ]
  },
  {
   "cell_type": "code",
   "execution_count": 23,
   "metadata": {},
   "outputs": [
    {
     "data": {
      "image/png": "[encoded data removed]",
      "text/plain": [
       "<Figure size 432x288 with 1 Axes>"
      ]
     },
     "metadata": {
      "needs_background": "light"
     },
     "output_type": "display_data"
    },
    {
     "data": {
      "image/png": "[encoded data removed]",
      "text/plain": [
       "<Figure size 432x288 with 1 Axes>"
      ]
     },
     "metadata": {
      "needs_background": "light"
     },
     "output_type": "display_data"
    },
    {
     "data": {
      "image/png": "[encoded data removed]",
      "text/plain": [
       "<Figure size 432x288 with 1 Axes>"
      ]
     },
     "metadata": {
      "needs_background": "light"
     },
     "output_type": "display_data"
    }
   ],
   "source": [
    "possible_vals = list(PastFrameworks)\n",
    "props_df_2019 = clean_and_plot(DataRelatedDF[DataRelatedDF['year']=='2019'], \n",
    "                               index_name='FrameWork',column_name='MiscTechHaveWorkedWith', title='2019',\n",
    "                               possible_vals = possible_vals, threshold=0.05)\n",
    "props_df_2020 = clean_and_plot(DataRelatedDF[DataRelatedDF['year']=='2020'], \n",
    "                               index_name='FrameWork',column_name='MiscTechHaveWorkedWith', title='2020',\n",
    "                               possible_vals = possible_vals, threshold=0.05)\n",
    "props_df_2021 = clean_and_plot(DataRelatedDF[DataRelatedDF['year']=='2021'], \n",
    "                               index_name='FrameWork',column_name='MiscTechHaveWorkedWith', title='2021',\n",
    "                               possible_vals = possible_vals, threshold=0.05)"
   ]
  },
  {
   "cell_type": "code",
   "execution_count": 24,
   "metadata": {},
   "outputs": [
    {
     "data": {
      "image/png": "[encoded data removed]",
      "text/plain": [
       "<Figure size 432x288 with 1 Axes>"
      ]
     },
     "metadata": {
      "needs_background": "light"
     },
     "output_type": "display_data"
    },
    {
     "data": {
      "image/png": "[encoded data removed]",
      "text/plain": [
       "<Figure size 432x288 with 1 Axes>"
      ]
     },
     "metadata": {
      "needs_background": "light"
     },
     "output_type": "display_data"
    },
    {
     "data": {
      "image/png": "[encoded data removed]",
      "text/plain": [
       "<Figure size 432x288 with 1 Axes>"
      ]
     },
     "metadata": {
      "needs_background": "light"
     },
     "output_type": "display_data"
    }
   ],
   "source": [
    "possible_vals = list(DesiredFrameworks)\n",
    "props_df_2019 = clean_and_plot(DataRelatedDF[DataRelatedDF['year']=='2019'], \n",
    "                               index_name='FrameWork',column_name='MiscTechWantToWorkWith', title='2019',\n",
    "                               possible_vals = possible_vals, threshold=0.05)\n",
    "props_df_2020 = clean_and_plot(DataRelatedDF[DataRelatedDF['year']=='2020'], \n",
    "                               index_name='FrameWork',column_name='MiscTechWantToWorkWith', title='2020',\n",
    "                               possible_vals = possible_vals, threshold=0.05)\n",
    "props_df_2021 = clean_and_plot(DataRelatedDF[DataRelatedDF['year']=='2021'], \n",
    "                               index_name='FrameWork',column_name='MiscTechWantToWorkWith', title='2021',\n",
    "                               possible_vals = possible_vals, threshold=0.05)"
   ]
  },
  {
   "cell_type": "markdown",
   "metadata": {},
   "source": [
    "## Only consider 2021"
   ]
  },
  {
   "cell_type": "raw",
   "metadata": {},
   "source": [
    "'''\n",
    "Data scientist or machine learning specialist\t0.347817\n",
    "Data or business analyst\t0.338879\n",
    "Engineer, data\t0.313304\n",
    "'''"
   ]
  },
  {
   "cell_type": "code",
   "execution_count": 68,
   "metadata": {},
   "outputs": [],
   "source": [
    "DataRelatedDF_2021 = DataRelatedDF[DataRelatedDF['year']=='2021']"
   ]
  },
  {
   "cell_type": "code",
   "execution_count": 69,
   "metadata": {
    "collapsed": true,
    "jupyter": {
     "outputs_hidden": true
    }
   },
   "outputs": [
    {
     "name": "stderr",
     "output_type": "stream",
     "text": [
      "<ipython-input-69-95beea7c84b0>:1: SettingWithCopyWarning: \n",
      "A value is trying to be set on a copy of a slice from a DataFrame.\n",
      "Try using .loc[row_indexer,col_indexer] = value instead\n",
      "\n",
      "See the caveats in the documentation: https://pandas.pydata.org/pandas-docs/stable/user_guide/indexing.html#returning-a-view-versus-a-copy\n",
      "  DataRelatedDF_2021['isDataScientist'] = DataRelatedDF_2021['DevType'].apply(lambda row: 1 if 'Data scientist or machine learning specialist' in row else 0)\n",
      "<ipython-input-69-95beea7c84b0>:2: SettingWithCopyWarning: \n",
      "A value is trying to be set on a copy of a slice from a DataFrame.\n",
      "Try using .loc[row_indexer,col_indexer] = value instead\n",
      "\n",
      "See the caveats in the documentation: https://pandas.pydata.org/pandas-docs/stable/user_guide/indexing.html#returning-a-view-versus-a-copy\n",
      "  DataRelatedDF_2021['isDataAnalyst'] = DataRelatedDF_2021['DevType'].apply(lambda row: 1 if 'Data or business analyst' in row else 0)\n",
      "<ipython-input-69-95beea7c84b0>:3: SettingWithCopyWarning: \n",
      "A value is trying to be set on a copy of a slice from a DataFrame.\n",
      "Try using .loc[row_indexer,col_indexer] = value instead\n",
      "\n",
      "See the caveats in the documentation: https://pandas.pydata.org/pandas-docs/stable/user_guide/indexing.html#returning-a-view-versus-a-copy\n",
      "  DataRelatedDF_2021['isDataEngineer'] = DataRelatedDF_2021['DevType'].apply(lambda row: 1 if 'Engineer, data' in row else 0)\n"
     ]
    }
   ],
   "source": [
    "DataRelatedDF_2021['isDataScientist'] = DataRelatedDF_2021['DevType'].apply(lambda row: 1 if 'Data scientist or machine learning specialist' in row else 0)\n",
    "DataRelatedDF_2021['isDataAnalyst'] = DataRelatedDF_2021['DevType'].apply(lambda row: 1 if 'Data or business analyst' in row else 0)\n",
    "DataRelatedDF_2021['isDataEngineer'] = DataRelatedDF_2021['DevType'].apply(lambda row: 1 if 'Engineer, data' in row else 0)"
   ]
  },
  {
   "cell_type": "code",
   "execution_count": 90,
   "metadata": {
    "collapsed": true,
    "jupyter": {
     "outputs_hidden": true
    }
   },
   "outputs": [
    {
     "data": {
      "text/html": [
       "<div>\n",
       "<style scoped>\n",
       "    .dataframe tbody tr th:only-of-type {\n",
       "        vertical-align: middle;\n",
       "    }\n",
       "\n",
       "    .dataframe tbody tr th {\n",
       "        vertical-align: top;\n",
       "    }\n",
       "\n",
       "    .dataframe thead th {\n",
       "        text-align: right;\n",
       "    }\n",
       "</style>\n",
       "<table border=\"1\" class=\"dataframe\">\n",
       "  <thead>\n",
       "    <tr style=\"text-align: right;\">\n",
       "      <th></th>\n",
       "      <th>ConvertedCompYearly</th>\n",
       "      <th>Currency</th>\n",
       "      <th>DevType</th>\n",
       "      <th>LanguageHaveWorkedWith</th>\n",
       "      <th>LanguageWantToWorkWith</th>\n",
       "      <th>MiscTechHaveWorkedWith</th>\n",
       "      <th>MiscTechWantToWorkWith</th>\n",
       "      <th>year</th>\n",
       "      <th>isDataRelated</th>\n",
       "      <th>isDataScientist</th>\n",
       "      <th>isDataAnalyst</th>\n",
       "      <th>isDataEngineer</th>\n",
       "    </tr>\n",
       "  </thead>\n",
       "  <tbody>\n",
       "    <tr>\n",
       "      <th>4</th>\n",
       "      <td>NaN</td>\n",
       "      <td>GBP\\tPound sterling</td>\n",
       "      <td>Developer, desktop or enterprise applications;...</td>\n",
       "      <td>Bash/Shell;HTML/CSS;Python;SQL</td>\n",
       "      <td>Bash/Shell;HTML/CSS;Python;SQL</td>\n",
       "      <td>Apache Spark;Hadoop;NumPy;Pandas</td>\n",
       "      <td>Hadoop;NumPy;Pandas</td>\n",
       "      <td>2021</td>\n",
       "      <td>1</td>\n",
       "      <td>0</td>\n",
       "      <td>0</td>\n",
       "      <td>1</td>\n",
       "    </tr>\n",
       "    <tr>\n",
       "      <th>9</th>\n",
       "      <td>51552.0</td>\n",
       "      <td>SEK\\tSwedish krona</td>\n",
       "      <td>Data scientist or machine learning specialist</td>\n",
       "      <td>C++;Python</td>\n",
       "      <td>Haskell;Python</td>\n",
       "      <td>Keras;NumPy;Pandas;TensorFlow;Torch/PyTorch</td>\n",
       "      <td>Keras;NumPy;TensorFlow;Torch/PyTorch</td>\n",
       "      <td>2021</td>\n",
       "      <td>1</td>\n",
       "      <td>1</td>\n",
       "      <td>0</td>\n",
       "      <td>0</td>\n",
       "    </tr>\n",
       "    <tr>\n",
       "      <th>13</th>\n",
       "      <td>NaN</td>\n",
       "      <td>NaN</td>\n",
       "      <td>Data scientist or machine learning specialist</td>\n",
       "      <td>C;C++;JavaScript;Python;R;SQL</td>\n",
       "      <td>NaN</td>\n",
       "      <td>Apache Spark;Pandas;TensorFlow</td>\n",
       "      <td>NaN</td>\n",
       "      <td>2021</td>\n",
       "      <td>1</td>\n",
       "      <td>1</td>\n",
       "      <td>0</td>\n",
       "      <td>0</td>\n",
       "    </tr>\n",
       "    <tr>\n",
       "      <th>23</th>\n",
       "      <td>38915.0</td>\n",
       "      <td>EUR European Euro</td>\n",
       "      <td>Engineer, data;Data scientist or machine learn...</td>\n",
       "      <td>JavaScript;Python</td>\n",
       "      <td>Python;SQL</td>\n",
       "      <td>Apache Spark;Keras;NumPy;Pandas;TensorFlow;Tor...</td>\n",
       "      <td>Apache Spark;Keras;NumPy;Pandas;TensorFlow;Tor...</td>\n",
       "      <td>2021</td>\n",
       "      <td>1</td>\n",
       "      <td>1</td>\n",
       "      <td>0</td>\n",
       "      <td>1</td>\n",
       "    </tr>\n",
       "    <tr>\n",
       "      <th>25</th>\n",
       "      <td>NaN</td>\n",
       "      <td>EUR European Euro</td>\n",
       "      <td>Academic researcher;Database administrator;Sci...</td>\n",
       "      <td>HTML/CSS;Julia;Python;R;SQL</td>\n",
       "      <td>HTML/CSS;Julia;Python;R;SQL</td>\n",
       "      <td>NumPy;Pandas;TensorFlow</td>\n",
       "      <td>NumPy;Pandas;TensorFlow</td>\n",
       "      <td>2021</td>\n",
       "      <td>1</td>\n",
       "      <td>0</td>\n",
       "      <td>0</td>\n",
       "      <td>0</td>\n",
       "    </tr>\n",
       "  </tbody>\n",
       "</table>\n",
       "</div>"
      ],
      "text/plain": [
       "    ConvertedCompYearly             Currency  \\\n",
       "4                   NaN  GBP\\tPound sterling   \n",
       "9               51552.0   SEK\\tSwedish krona   \n",
       "13                  NaN                  NaN   \n",
       "23              38915.0    EUR European Euro   \n",
       "25                  NaN    EUR European Euro   \n",
       "\n",
       "                                              DevType  \\\n",
       "4   Developer, desktop or enterprise applications;...   \n",
       "9       Data scientist or machine learning specialist   \n",
       "13      Data scientist or machine learning specialist   \n",
       "23  Engineer, data;Data scientist or machine learn...   \n",
       "25  Academic researcher;Database administrator;Sci...   \n",
       "\n",
       "            LanguageHaveWorkedWith          LanguageWantToWorkWith  \\\n",
       "4   Bash/Shell;HTML/CSS;Python;SQL  Bash/Shell;HTML/CSS;Python;SQL   \n",
       "9                       C++;Python                  Haskell;Python   \n",
       "13   C;C++;JavaScript;Python;R;SQL                             NaN   \n",
       "23               JavaScript;Python                      Python;SQL   \n",
       "25     HTML/CSS;Julia;Python;R;SQL     HTML/CSS;Julia;Python;R;SQL   \n",
       "\n",
       "                               MiscTechHaveWorkedWith  \\\n",
       "4                    Apache Spark;Hadoop;NumPy;Pandas   \n",
       "9         Keras;NumPy;Pandas;TensorFlow;Torch/PyTorch   \n",
       "13                     Apache Spark;Pandas;TensorFlow   \n",
       "23  Apache Spark;Keras;NumPy;Pandas;TensorFlow;Tor...   \n",
       "25                            NumPy;Pandas;TensorFlow   \n",
       "\n",
       "                               MiscTechWantToWorkWith  year  isDataRelated  \\\n",
       "4                                 Hadoop;NumPy;Pandas  2021              1   \n",
       "9                Keras;NumPy;TensorFlow;Torch/PyTorch  2021              1   \n",
       "13                                                NaN  2021              1   \n",
       "23  Apache Spark;Keras;NumPy;Pandas;TensorFlow;Tor...  2021              1   \n",
       "25                            NumPy;Pandas;TensorFlow  2021              1   \n",
       "\n",
       "    isDataScientist  isDataAnalyst  isDataEngineer  \n",
       "4                 0              0               1  \n",
       "9                 1              0               0  \n",
       "13                1              0               0  \n",
       "23                1              0               1  \n",
       "25                0              0               0  "
      ]
     },
     "execution_count": 90,
     "metadata": {},
     "output_type": "execute_result"
    }
   ],
   "source": [
    "DataRelatedDF_2021.head()"
   ]
  },
  {
   "cell_type": "markdown",
   "metadata": {},
   "source": [
    "## PastLanguages"
   ]
  },
  {
   "cell_type": "code",
   "execution_count": 76,
   "metadata": {},
   "outputs": [
    {
     "data": {
      "image/png": "[encoded data removed]",
      "text/plain": [
       "<Figure size 432x288 with 1 Axes>"
      ]
     },
     "metadata": {
      "needs_background": "light"
     },
     "output_type": "display_data"
    },
    {
     "data": {
      "image/png": "[encoded data removed]",
      "text/plain": [
       "<Figure size 432x288 with 1 Axes>"
      ]
     },
     "metadata": {
      "needs_background": "light"
     },
     "output_type": "display_data"
    },
    {
     "data": {
      "image/png": "[encoded data removed]",
      "text/plain": [
       "<Figure size 432x288 with 1 Axes>"
      ]
     },
     "metadata": {
      "needs_background": "light"
     },
     "output_type": "display_data"
    }
   ],
   "source": [
    "possible_vals = list(PastLanguages)\n",
    "DataScientists = DataRelatedDF_2021.query(\"isDataScientist==1 and isDataAnalyst==0 and isDataEngineer==0\")\n",
    "props_DS = clean_and_plot(DataScientists, \n",
    "                          index_name='Language',column_name='LanguageHaveWorkedWith', title='DataScientists',\n",
    "                          possible_vals = possible_vals, threshold=0.1)\n",
    "\n",
    "DataAnalysts = DataRelatedDF_2021.query(\"isDataScientist==0 and isDataAnalyst==1 and isDataEngineer==0\")\n",
    "props_DA = clean_and_plot(DataAnalysts, \n",
    "                          index_name='Language',column_name='LanguageHaveWorkedWith', title='DataAnalysts',\n",
    "                          possible_vals = possible_vals, threshold=0.1)\n",
    "\n",
    "DataEngineers = DataRelatedDF_2021.query(\"isDataScientist==0 and isDataAnalyst==0 and isDataEngineer==1\")\n",
    "props_DE = clean_and_plot(DataEngineers, \n",
    "                          index_name='Language',column_name='LanguageHaveWorkedWith', title='DataEngineers',\n",
    "                          possible_vals = possible_vals, threshold=0.1)"
   ]
  },
  {
   "cell_type": "code",
   "execution_count": 83,
   "metadata": {},
   "outputs": [
    {
     "data": {
      "text/plain": [
       "{'Bash/Shell',\n",
       " 'C#',\n",
       " 'C++',\n",
       " 'HTML/CSS',\n",
       " 'Java',\n",
       " 'JavaScript',\n",
       " 'Node.js',\n",
       " 'Python',\n",
       " 'SQL',\n",
       " 'TypeScript'}"
      ]
     },
     "execution_count": 83,
     "metadata": {},
     "output_type": "execute_result"
    }
   ],
   "source": [
    "set(props_DS.index[:10]) and set(props_DA.index[:10]) and set(props_DE.index[:10])"
   ]
  },
  {
   "cell_type": "markdown",
   "metadata": {},
   "source": [
    "## DesiredLanguages"
   ]
  },
  {
   "cell_type": "code",
   "execution_count": 29,
   "metadata": {},
   "outputs": [
    {
     "data": {
      "image/png": "[encoded data removed]",
      "text/plain": [
       "<Figure size 432x288 with 1 Axes>"
      ]
     },
     "metadata": {
      "needs_background": "light"
     },
     "output_type": "display_data"
    },
    {
     "data": {
      "image/png": "[encoded data removed]",
      "text/plain": [
       "<Figure size 432x288 with 1 Axes>"
      ]
     },
     "metadata": {
      "needs_background": "light"
     },
     "output_type": "display_data"
    },
    {
     "data": {
      "image/png": "[encoded data removed]",
      "text/plain": [
       "<Figure size 432x288 with 1 Axes>"
      ]
     },
     "metadata": {
      "needs_background": "light"
     },
     "output_type": "display_data"
    }
   ],
   "source": [
    "possible_vals = list(DesiredLanguages)\n",
    "props_df = clean_and_plot(DataScientists, \n",
    "                          index_name='Language',column_name='LanguageWantToWorkWith', title='DataScientists',\n",
    "                          possible_vals = possible_vals, threshold=0.1)\n",
    "\n",
    "props_df = clean_and_plot(DataAnalysts, \n",
    "                          index_name='Language',column_name='LanguageWantToWorkWith', title='DataAnalysts',\n",
    "                          possible_vals = possible_vals, threshold=0.1)\n",
    "\n",
    "props_df = clean_and_plot(DataEngineers, \n",
    "                          index_name='Language',column_name='LanguageWantToWorkWith', title='DataEngineers',\n",
    "                          possible_vals = possible_vals, threshold=0.1)"
   ]
  },
  {
   "cell_type": "markdown",
   "metadata": {},
   "source": [
    "## PastFrameworks"
   ]
  },
  {
   "cell_type": "code",
   "execution_count": 31,
   "metadata": {
    "collapsed": true,
    "jupyter": {
     "outputs_hidden": true
    }
   },
   "outputs": [
    {
     "data": {
      "image/png": "[encoded data removed]",
      "text/plain": [
       "<Figure size 432x288 with 1 Axes>"
      ]
     },
     "metadata": {
      "needs_background": "light"
     },
     "output_type": "display_data"
    },
    {
     "data": {
      "image/png": "[encoded data removed]",
      "text/plain": [
       "<Figure size 432x288 with 1 Axes>"
      ]
     },
     "metadata": {
      "needs_background": "light"
     },
     "output_type": "display_data"
    },
    {
     "data": {
      "image/png": "[encoded data removed]",
      "text/plain": [
       "<Figure size 432x288 with 1 Axes>"
      ]
     },
     "metadata": {
      "needs_background": "light"
     },
     "output_type": "display_data"
    }
   ],
   "source": [
    "possible_vals = list(PastFrameworks)\n",
    "props_df = clean_and_plot(DataScientists, \n",
    "                          index_name='Framework',column_name='MiscTechHaveWorkedWith', title='DataScientists',\n",
    "                          possible_vals = possible_vals, threshold=0.05)\n",
    "props_df = clean_and_plot(DataAnalysts, \n",
    "                          index_name='Framework',column_name='MiscTechHaveWorkedWith', title='DataAnalysts',\n",
    "                          possible_vals = possible_vals, threshold=0.05)\n",
    "props_df = clean_and_plot(DataEngineers, \n",
    "                          index_name='Framework',column_name='MiscTechHaveWorkedWith', title='DataEngineers',\n",
    "                          possible_vals = possible_vals, threshold=0.05)"
   ]
  },
  {
   "cell_type": "markdown",
   "metadata": {},
   "source": [
    "## DesiredFrameworks"
   ]
  },
  {
   "cell_type": "code",
   "execution_count": 32,
   "metadata": {
    "collapsed": true,
    "jupyter": {
     "outputs_hidden": true
    }
   },
   "outputs": [
    {
     "data": {
      "image/png": "[encoded data removed]",
      "text/plain": [
       "<Figure size 432x288 with 1 Axes>"
      ]
     },
     "metadata": {
      "needs_background": "light"
     },
     "output_type": "display_data"
    },
    {
     "data": {
      "image/png": "[encoded data removed]",
      "text/plain": [
       "<Figure size 432x288 with 1 Axes>"
      ]
     },
     "metadata": {
      "needs_background": "light"
     },
     "output_type": "display_data"
    },
    {
     "data": {
      "image/png": "[encoded data removed]",
      "text/plain": [
       "<Figure size 432x288 with 1 Axes>"
      ]
     },
     "metadata": {
      "needs_background": "light"
     },
     "output_type": "display_data"
    }
   ],
   "source": [
    "possible_vals = list(DesiredFrameworks)\n",
    "props_df = clean_and_plot(DataScientists, \n",
    "                          index_name='Framework',column_name='MiscTechWantToWorkWith', title='DataScientists',\n",
    "                          possible_vals = possible_vals, threshold=0.05)\n",
    "props_df = clean_and_plot(DataAnalysts, \n",
    "                          index_name='Framework',column_name='MiscTechWantToWorkWith', title='DataAnalysts',\n",
    "                          possible_vals = possible_vals, threshold=0.05)\n",
    "props_df = clean_and_plot(DataEngineers, \n",
    "                          index_name='Framework',column_name='MiscTechWantToWorkWith', title='DataEngineers',\n",
    "                          possible_vals = possible_vals, threshold=0.05)"
   ]
  },
  {
   "cell_type": "markdown",
   "metadata": {},
   "source": [
    "## Effects of languages on ConvertedCompYearly"
   ]
  },
  {
   "cell_type": "code",
   "execution_count": null,
   "metadata": {},
   "outputs": [],
   "source": []
  },
  {
   "cell_type": "code",
   "execution_count": 84,
   "metadata": {},
   "outputs": [],
   "source": [
    "languagesForDataAnalysis = set(props_DS.index[:10]) and set(props_DA.index[:10]) and set(props_DE.index[:10])"
   ]
  },
  {
   "cell_type": "code",
   "execution_count": null,
   "metadata": {},
   "outputs": [],
   "source": []
  },
  {
   "cell_type": "markdown",
   "metadata": {},
   "source": [
    "## Consider correlations"
   ]
  },
  {
   "cell_type": "code",
   "execution_count": 248,
   "metadata": {
    "jupyter": {
     "source_hidden": true
    }
   },
   "outputs": [],
   "source": [
    "DevTypes = {'Academic researcher',\n",
    " 'Data or business analyst',\n",
    " 'Data scientist or machine learning specialist',\n",
    " 'Database administrator',\n",
    " 'Designer',\n",
    " 'DevOps specialist',\n",
    " 'Developer, QA or test',\n",
    " 'Developer, back-end',\n",
    " 'Developer, desktop or enterprise applications',\n",
    " 'Developer, embedded applications or devices',\n",
    " 'Developer, front-end',\n",
    " 'Developer, full-stack',\n",
    " 'Developer, game or graphics',\n",
    " 'Developer, mobile',\n",
    " 'Engineer, data',\n",
    " 'Engineer, site reliability',\n",
    " 'Engineering manager',\n",
    " 'Marketing or sales professional',\n",
    " 'Product manager',\n",
    " 'Scientist',\n",
    " 'System administrator'}"
   ]
  },
  {
   "cell_type": "code",
   "execution_count": 79,
   "metadata": {},
   "outputs": [
    {
     "name": "stderr",
     "output_type": "stream",
     "text": [
      "<ipython-input-79-4eace57b877f>:2: SettingWithCopyWarning: \n",
      "A value is trying to be set on a copy of a slice from a DataFrame.\n",
      "Try using .loc[row_indexer,col_indexer] = value instead\n",
      "\n",
      "See the caveats in the documentation: https://pandas.pydata.org/pandas-docs/stable/user_guide/indexing.html#returning-a-view-versus-a-copy\n",
      "  DataRelatedDF_2021[DevType] = DataRelatedDF_2021['DevType'].apply(lambda row: 1 if DevType in row else 0)\n"
     ]
    }
   ],
   "source": [
    "for DevType in DevTypes:\n",
    "    DataRelatedDF_2021[DevType] = DataRelatedDF_2021['DevType'].apply(lambda row: 1 if DevType in row else 0)"
   ]
  },
  {
   "cell_type": "code",
   "execution_count": 34,
   "metadata": {
    "collapsed": true,
    "jupyter": {
     "outputs_hidden": true
    }
   },
   "outputs": [
    {
     "data": {
      "text/plain": [
       "Data or business analyst                         1.000000\n",
       "Marketing or sales professional                  0.107460\n",
       "Product manager                                  0.105257\n",
       "Designer                                         0.067267\n",
       "Senior Executive (C-Suite, VP, etc.)             0.061296\n",
       "Developer, QA or test                            0.046711\n",
       "Other (please specify):                          0.045645\n",
       "Developer, desktop or enterprise applications    0.042501\n",
       "Educator                                         0.041172\n",
       "Engineering manager                              0.029467\n",
       "Developer, game or graphics                      0.010319\n",
       "Developer, front-end                             0.001882\n",
       "Student                                          0.000849\n",
       "Academic researcher                             -0.002572\n",
       "Developer, mobile                               -0.006109\n",
       "Engineer, site reliability                      -0.014098\n",
       "Developer, embedded applications or devices     -0.016713\n",
       "Scientist                                       -0.018672\n",
       "DevOps specialist                               -0.031522\n",
       "System administrator                            -0.037611\n",
       "Developer, full-stack                           -0.041689\n",
       "Data scientist or machine learning specialist   -0.047699\n",
       "Developer, back-end                             -0.067127\n",
       "Engineer, data                                  -0.076869\n",
       "Database administrator                          -0.108931\n",
       "Senior executive/VP                                   NaN\n",
       "Name: Data or business analyst, dtype: float64"
      ]
     },
     "execution_count": 34,
     "metadata": {},
     "output_type": "execute_result"
    }
   ],
   "source": [
    "DataRelatedDF_2021[list(DevTypes)].corr()['Data or business analyst'].sort_values(ascending=False)"
   ]
  },
  {
   "cell_type": "code",
   "execution_count": 35,
   "metadata": {
    "collapsed": true,
    "jupyter": {
     "outputs_hidden": true
    }
   },
   "outputs": [
    {
     "data": {
      "text/plain": [
       "Data scientist or machine learning specialist    1.000000\n",
       "Scientist                                        0.270003\n",
       "Academic researcher                              0.268220\n",
       "Student                                          0.071226\n",
       "Educator                                         0.068825\n",
       "Developer, game or graphics                      0.024016\n",
       "Other (please specify):                          0.002098\n",
       "Marketing or sales professional                 -0.001142\n",
       "Senior Executive (C-Suite, VP, etc.)            -0.013645\n",
       "Developer, embedded applications or devices     -0.017099\n",
       "Engineering manager                             -0.025990\n",
       "Data or business analyst                        -0.047699\n",
       "Product manager                                 -0.049574\n",
       "Engineer, site reliability                      -0.077753\n",
       "Engineer, data                                  -0.090644\n",
       "Developer, QA or test                           -0.099400\n",
       "DevOps specialist                               -0.117720\n",
       "Developer, mobile                               -0.121256\n",
       "Designer                                        -0.135098\n",
       "Developer, desktop or enterprise applications   -0.150312\n",
       "Developer, front-end                            -0.225982\n",
       "System administrator                            -0.227179\n",
       "Developer, back-end                             -0.229118\n",
       "Developer, full-stack                           -0.245127\n",
       "Database administrator                          -0.396958\n",
       "Senior executive/VP                                   NaN\n",
       "Name: Data scientist or machine learning specialist, dtype: float64"
      ]
     },
     "execution_count": 35,
     "metadata": {},
     "output_type": "execute_result"
    }
   ],
   "source": [
    "DataRelatedDF_2021[list(DevTypes)].corr()['Data scientist or machine learning specialist'].sort_values(ascending=False)"
   ]
  },
  {
   "cell_type": "code",
   "execution_count": 36,
   "metadata": {
    "collapsed": true,
    "jupyter": {
     "outputs_hidden": true
    }
   },
   "outputs": [
    {
     "data": {
      "text/plain": [
       "Engineer, data                                   1.000000\n",
       "Engineer, site reliability                       0.156755\n",
       "Engineering manager                              0.116749\n",
       "Scientist                                        0.056198\n",
       "Developer, back-end                              0.048052\n",
       "Developer, embedded applications or devices      0.044703\n",
       "Marketing or sales professional                  0.028910\n",
       "DevOps specialist                                0.027715\n",
       "Developer, game or graphics                      0.027540\n",
       "Developer, QA or test                            0.022811\n",
       "Educator                                         0.019113\n",
       "Senior Executive (C-Suite, VP, etc.)             0.011478\n",
       "Other (please specify):                          0.010431\n",
       "Student                                          0.003591\n",
       "Product manager                                 -0.002533\n",
       "Academic researcher                             -0.021226\n",
       "Developer, desktop or enterprise applications   -0.038895\n",
       "Designer                                        -0.040170\n",
       "Developer, mobile                               -0.053370\n",
       "System administrator                            -0.065604\n",
       "Data or business analyst                        -0.076869\n",
       "Developer, front-end                            -0.078951\n",
       "Data scientist or machine learning specialist   -0.090644\n",
       "Developer, full-stack                           -0.090700\n",
       "Database administrator                          -0.253803\n",
       "Senior executive/VP                                   NaN\n",
       "Name: Engineer, data, dtype: float64"
      ]
     },
     "execution_count": 36,
     "metadata": {},
     "output_type": "execute_result"
    }
   ],
   "source": [
    "DataRelatedDF_2021[list(DevTypes)].corr()['Engineer, data'].sort_values(ascending=False)"
   ]
  },
  {
   "cell_type": "code",
   "execution_count": 19,
   "metadata": {},
   "outputs": [],
   "source": [
    "DataRelatedDF_2021_dropna = DataRelatedDF_2021.dropna(subset=['LanguageHaveWorkedWith'])"
   ]
  },
  {
   "cell_type": "code",
   "execution_count": 20,
   "metadata": {},
   "outputs": [
    {
     "name": "stderr",
     "output_type": "stream",
     "text": [
      "<ipython-input-20-946f6ff95e7f>:2: SettingWithCopyWarning: \n",
      "A value is trying to be set on a copy of a slice from a DataFrame.\n",
      "Try using .loc[row_indexer,col_indexer] = value instead\n",
      "\n",
      "See the caveats in the documentation: https://pandas.pydata.org/pandas-docs/stable/user_guide/indexing.html#returning-a-view-versus-a-copy\n",
      "  DataRelatedDF_2021_dropna[Language] = DataRelatedDF_2021_dropna['LanguageHaveWorkedWith'].apply(lambda row: 1 if Language in row.split(';') else 0)\n"
     ]
    }
   ],
   "source": [
    "for Language in PastLanguages:\n",
    "    DataRelatedDF_2021_dropna[Language] = DataRelatedDF_2021_dropna['LanguageHaveWorkedWith'].apply(lambda row: 1 if Language in row.split(';') else 0)"
   ]
  },
  {
   "cell_type": "code",
   "execution_count": 131,
   "metadata": {},
   "outputs": [
    {
     "data": {
      "text/plain": [
       "Index(['ConvertedCompYearly', 'Currency', 'DevType', 'LanguageHaveWorkedWith',\n",
       "       'LanguageWantToWorkWith', 'MiscTechHaveWorkedWith',\n",
       "       'MiscTechWantToWorkWith', 'year', 'isDataRelated', 'isDataScientist',\n",
       "       'isDataAnalyst', 'isDataEngineer'],\n",
       "      dtype='object')"
      ]
     },
     "execution_count": 131,
     "metadata": {},
     "output_type": "execute_result"
    }
   ],
   "source": [
    "DataRelatedDF_2021.columns"
   ]
  },
  {
   "cell_type": "code",
   "execution_count": 46,
   "metadata": {},
   "outputs": [
    {
     "name": "stderr",
     "output_type": "stream",
     "text": [
      "D:\\Users\\BlickWinkel\\Anaconda3\\lib\\site-packages\\pandas\\core\\frame.py:4296: SettingWithCopyWarning: \n",
      "A value is trying to be set on a copy of a slice from a DataFrame\n",
      "\n",
      "See the caveats in the documentation: https://pandas.pydata.org/pandas-docs/stable/user_guide/indexing.html#returning-a-view-versus-a-copy\n",
      "  return super().rename(\n"
     ]
    }
   ],
   "source": [
    "DataRelatedDF_2021_dropna.rename(columns={'Node.js':'NodeJS','HTML/CSS':'HTMLCSS'},inplace=True)"
   ]
  },
  {
   "cell_type": "code",
   "execution_count": 47,
   "metadata": {},
   "outputs": [],
   "source": [
    "DataScientists_2021 = DataRelatedDF_2021_dropna.query(\"isDataScientist == 1\")\n",
    "DataAnalysts_2021 = DataRelatedDF_2021_dropna.query(\"isDataAnalyst == 1\")\n",
    "DataEngineers_2021 = DataRelatedDF_2021_dropna.query(\"isDataEngineer == 1\")"
   ]
  },
  {
   "cell_type": "code",
   "execution_count": 27,
   "metadata": {
    "collapsed": true,
    "jupyter": {
     "outputs_hidden": true
    }
   },
   "outputs": [
    {
     "data": {
      "text/plain": [
       "9                          Sweden\n",
       "13                           Peru\n",
       "23                         France\n",
       "58             Russian Federation\n",
       "62       United States of America\n",
       "                   ...           \n",
       "83382                   Australia\n",
       "83384                  Bangladesh\n",
       "83392                      Brazil\n",
       "83431                    Pakistan\n",
       "83436    United States of America\n",
       "Name: Country, Length: 4241, dtype: object"
      ]
     },
     "execution_count": 27,
     "metadata": {},
     "output_type": "execute_result"
    }
   ],
   "source": [
    "DataScientists_2021['Country']"
   ]
  },
  {
   "cell_type": "code",
   "execution_count": 48,
   "metadata": {},
   "outputs": [],
   "source": [
    "DataScientists_2021_USA = DataScientists_2021[DataScientists_2021['Country'] == 'United States of America']\n",
    "DataAnalysts_2021_USA = DataAnalysts_2021[DataAnalysts_2021['Country'] == 'United States of America']\n",
    "DataEngineers_2021_USA = DataEngineers_2021[DataEngineers_2021['Country'] == 'United States of America']"
   ]
  },
  {
   "cell_type": "code",
   "execution_count": 29,
   "metadata": {
    "collapsed": true,
    "jupyter": {
     "outputs_hidden": true
    }
   },
   "outputs": [
    {
     "data": {
      "text/html": [
       "<div>\n",
       "<style scoped>\n",
       "    .dataframe tbody tr th:only-of-type {\n",
       "        vertical-align: middle;\n",
       "    }\n",
       "\n",
       "    .dataframe tbody tr th {\n",
       "        vertical-align: top;\n",
       "    }\n",
       "\n",
       "    .dataframe thead th {\n",
       "        text-align: right;\n",
       "    }\n",
       "</style>\n",
       "<table border=\"1\" class=\"dataframe\">\n",
       "  <thead>\n",
       "    <tr style=\"text-align: right;\">\n",
       "      <th></th>\n",
       "      <th>ConvertedCompYearly</th>\n",
       "      <th>Country</th>\n",
       "      <th>DevType</th>\n",
       "      <th>LanguageHaveWorkedWith</th>\n",
       "      <th>LanguageWantToWorkWith</th>\n",
       "      <th>MiscTechHaveWorkedWith</th>\n",
       "      <th>MiscTechWantToWorkWith</th>\n",
       "      <th>year</th>\n",
       "      <th>isDataRelated</th>\n",
       "      <th>isDataScientist</th>\n",
       "      <th>...</th>\n",
       "      <th>C</th>\n",
       "      <th>Perl</th>\n",
       "      <th>PowerShell</th>\n",
       "      <th>Kotlin</th>\n",
       "      <th>VBA</th>\n",
       "      <th>Julia</th>\n",
       "      <th>Node.js</th>\n",
       "      <th>Groovy</th>\n",
       "      <th>Objective-C</th>\n",
       "      <th>Swift</th>\n",
       "    </tr>\n",
       "  </thead>\n",
       "  <tbody>\n",
       "    <tr>\n",
       "      <th>62</th>\n",
       "      <td>130000.0</td>\n",
       "      <td>United States of America</td>\n",
       "      <td>Developer, front-end;Developer, desktop or ent...</td>\n",
       "      <td>C#;HTML/CSS;JavaScript;Node.js;PowerShell;Pyth...</td>\n",
       "      <td>HTML/CSS;JavaScript;Node.js;Python;SQL</td>\n",
       "      <td>NaN</td>\n",
       "      <td>NaN</td>\n",
       "      <td>2021</td>\n",
       "      <td>1</td>\n",
       "      <td>1</td>\n",
       "      <td>...</td>\n",
       "      <td>0</td>\n",
       "      <td>0</td>\n",
       "      <td>1</td>\n",
       "      <td>0</td>\n",
       "      <td>1</td>\n",
       "      <td>0</td>\n",
       "      <td>1</td>\n",
       "      <td>0</td>\n",
       "      <td>0</td>\n",
       "      <td>0</td>\n",
       "    </tr>\n",
       "    <tr>\n",
       "      <th>87</th>\n",
       "      <td>100000.0</td>\n",
       "      <td>United States of America</td>\n",
       "      <td>Engineer, data;Data scientist or machine learn...</td>\n",
       "      <td>Bash/Shell;C#;HTML/CSS;Julia;Matlab;Python</td>\n",
       "      <td>Bash/Shell;C#;C++;Julia;Matlab;Python</td>\n",
       "      <td>NumPy;Pandas</td>\n",
       "      <td>NumPy;Pandas</td>\n",
       "      <td>2021</td>\n",
       "      <td>1</td>\n",
       "      <td>1</td>\n",
       "      <td>...</td>\n",
       "      <td>0</td>\n",
       "      <td>0</td>\n",
       "      <td>0</td>\n",
       "      <td>0</td>\n",
       "      <td>0</td>\n",
       "      <td>1</td>\n",
       "      <td>0</td>\n",
       "      <td>0</td>\n",
       "      <td>0</td>\n",
       "      <td>0</td>\n",
       "    </tr>\n",
       "    <tr>\n",
       "      <th>190</th>\n",
       "      <td>70000.0</td>\n",
       "      <td>United States of America</td>\n",
       "      <td>Developer, front-end;Data scientist or machine...</td>\n",
       "      <td>C;C++;JavaScript;Objective-C;Python;Swift;Type...</td>\n",
       "      <td>C++;JavaScript;Python;TypeScript</td>\n",
       "      <td>NumPy;React Native;Torch/PyTorch</td>\n",
       "      <td>NumPy;React Native;Torch/PyTorch</td>\n",
       "      <td>2021</td>\n",
       "      <td>1</td>\n",
       "      <td>1</td>\n",
       "      <td>...</td>\n",
       "      <td>1</td>\n",
       "      <td>0</td>\n",
       "      <td>0</td>\n",
       "      <td>0</td>\n",
       "      <td>0</td>\n",
       "      <td>0</td>\n",
       "      <td>0</td>\n",
       "      <td>0</td>\n",
       "      <td>1</td>\n",
       "      <td>1</td>\n",
       "    </tr>\n",
       "    <tr>\n",
       "      <th>420</th>\n",
       "      <td>NaN</td>\n",
       "      <td>United States of America</td>\n",
       "      <td>Developer, desktop or enterprise applications;...</td>\n",
       "      <td>Bash/Shell;Java;JavaScript;Python;SQL</td>\n",
       "      <td>Bash/Shell;Java;JavaScript;Julia;Kotlin;Node.j...</td>\n",
       "      <td>Keras;NumPy;Pandas;TensorFlow</td>\n",
       "      <td>Hadoop;Keras;NumPy;Pandas;TensorFlow</td>\n",
       "      <td>2021</td>\n",
       "      <td>1</td>\n",
       "      <td>1</td>\n",
       "      <td>...</td>\n",
       "      <td>0</td>\n",
       "      <td>0</td>\n",
       "      <td>0</td>\n",
       "      <td>0</td>\n",
       "      <td>0</td>\n",
       "      <td>0</td>\n",
       "      <td>0</td>\n",
       "      <td>0</td>\n",
       "      <td>0</td>\n",
       "      <td>0</td>\n",
       "    </tr>\n",
       "    <tr>\n",
       "      <th>432</th>\n",
       "      <td>90000.0</td>\n",
       "      <td>United States of America</td>\n",
       "      <td>Data scientist or machine learning specialist;...</td>\n",
       "      <td>Bash/Shell;Perl;R;SQL</td>\n",
       "      <td>R;SQL</td>\n",
       "      <td>NaN</td>\n",
       "      <td>NaN</td>\n",
       "      <td>2021</td>\n",
       "      <td>1</td>\n",
       "      <td>1</td>\n",
       "      <td>...</td>\n",
       "      <td>0</td>\n",
       "      <td>1</td>\n",
       "      <td>0</td>\n",
       "      <td>0</td>\n",
       "      <td>0</td>\n",
       "      <td>0</td>\n",
       "      <td>0</td>\n",
       "      <td>0</td>\n",
       "      <td>0</td>\n",
       "      <td>0</td>\n",
       "    </tr>\n",
       "    <tr>\n",
       "      <th>...</th>\n",
       "      <td>...</td>\n",
       "      <td>...</td>\n",
       "      <td>...</td>\n",
       "      <td>...</td>\n",
       "      <td>...</td>\n",
       "      <td>...</td>\n",
       "      <td>...</td>\n",
       "      <td>...</td>\n",
       "      <td>...</td>\n",
       "      <td>...</td>\n",
       "      <td>...</td>\n",
       "      <td>...</td>\n",
       "      <td>...</td>\n",
       "      <td>...</td>\n",
       "      <td>...</td>\n",
       "      <td>...</td>\n",
       "      <td>...</td>\n",
       "      <td>...</td>\n",
       "      <td>...</td>\n",
       "      <td>...</td>\n",
       "      <td>...</td>\n",
       "    </tr>\n",
       "    <tr>\n",
       "      <th>83185</th>\n",
       "      <td>150000.0</td>\n",
       "      <td>United States of America</td>\n",
       "      <td>Data scientist or machine learning specialist;...</td>\n",
       "      <td>Bash/Shell;HTML/CSS;JavaScript;Python;R</td>\n",
       "      <td>Bash/Shell;Haskell;HTML/CSS;JavaScript;Julia;R...</td>\n",
       "      <td>NumPy;Pandas</td>\n",
       "      <td>NaN</td>\n",
       "      <td>2021</td>\n",
       "      <td>1</td>\n",
       "      <td>1</td>\n",
       "      <td>...</td>\n",
       "      <td>0</td>\n",
       "      <td>0</td>\n",
       "      <td>0</td>\n",
       "      <td>0</td>\n",
       "      <td>0</td>\n",
       "      <td>0</td>\n",
       "      <td>0</td>\n",
       "      <td>0</td>\n",
       "      <td>0</td>\n",
       "      <td>0</td>\n",
       "    </tr>\n",
       "    <tr>\n",
       "      <th>83190</th>\n",
       "      <td>NaN</td>\n",
       "      <td>United States of America</td>\n",
       "      <td>Data scientist or machine learning specialist;...</td>\n",
       "      <td>C;C#;C++;HTML/CSS;Java</td>\n",
       "      <td>C;C#;C++;HTML/CSS;Java</td>\n",
       "      <td>Apache Spark;Cordova;Flutter;Keras</td>\n",
       "      <td>.NET Framework;.NET Core / .NET 5</td>\n",
       "      <td>2021</td>\n",
       "      <td>1</td>\n",
       "      <td>1</td>\n",
       "      <td>...</td>\n",
       "      <td>1</td>\n",
       "      <td>0</td>\n",
       "      <td>0</td>\n",
       "      <td>0</td>\n",
       "      <td>0</td>\n",
       "      <td>0</td>\n",
       "      <td>0</td>\n",
       "      <td>0</td>\n",
       "      <td>0</td>\n",
       "      <td>0</td>\n",
       "    </tr>\n",
       "    <tr>\n",
       "      <th>83364</th>\n",
       "      <td>NaN</td>\n",
       "      <td>United States of America</td>\n",
       "      <td>Data scientist or machine learning specialist;...</td>\n",
       "      <td>R;SQL</td>\n",
       "      <td>R</td>\n",
       "      <td>NaN</td>\n",
       "      <td>NaN</td>\n",
       "      <td>2021</td>\n",
       "      <td>1</td>\n",
       "      <td>1</td>\n",
       "      <td>...</td>\n",
       "      <td>0</td>\n",
       "      <td>0</td>\n",
       "      <td>0</td>\n",
       "      <td>0</td>\n",
       "      <td>0</td>\n",
       "      <td>0</td>\n",
       "      <td>0</td>\n",
       "      <td>0</td>\n",
       "      <td>0</td>\n",
       "      <td>0</td>\n",
       "    </tr>\n",
       "    <tr>\n",
       "      <th>83378</th>\n",
       "      <td>112000.0</td>\n",
       "      <td>United States of America</td>\n",
       "      <td>Developer, desktop or enterprise applications;...</td>\n",
       "      <td>Bash/Shell;C++;Python</td>\n",
       "      <td>Bash/Shell;C++;JavaScript;Julia;Python</td>\n",
       "      <td>NumPy;Pandas;Qt</td>\n",
       "      <td>Keras;NumPy;Pandas;Qt;TensorFlow</td>\n",
       "      <td>2021</td>\n",
       "      <td>1</td>\n",
       "      <td>1</td>\n",
       "      <td>...</td>\n",
       "      <td>0</td>\n",
       "      <td>0</td>\n",
       "      <td>0</td>\n",
       "      <td>0</td>\n",
       "      <td>0</td>\n",
       "      <td>0</td>\n",
       "      <td>0</td>\n",
       "      <td>0</td>\n",
       "      <td>0</td>\n",
       "      <td>0</td>\n",
       "    </tr>\n",
       "    <tr>\n",
       "      <th>83436</th>\n",
       "      <td>90000.0</td>\n",
       "      <td>United States of America</td>\n",
       "      <td>Data scientist or machine learning specialist;...</td>\n",
       "      <td>Groovy;Java;Python</td>\n",
       "      <td>Java;Python</td>\n",
       "      <td>Hadoop;Keras;NumPy;Pandas</td>\n",
       "      <td>Apache Spark;Hadoop;Keras;NumPy;Pandas;TensorFlow</td>\n",
       "      <td>2021</td>\n",
       "      <td>1</td>\n",
       "      <td>1</td>\n",
       "      <td>...</td>\n",
       "      <td>0</td>\n",
       "      <td>0</td>\n",
       "      <td>0</td>\n",
       "      <td>0</td>\n",
       "      <td>0</td>\n",
       "      <td>0</td>\n",
       "      <td>0</td>\n",
       "      <td>1</td>\n",
       "      <td>0</td>\n",
       "      <td>0</td>\n",
       "    </tr>\n",
       "  </tbody>\n",
       "</table>\n",
       "<p>900 rows × 53 columns</p>\n",
       "</div>"
      ],
      "text/plain": [
       "       ConvertedCompYearly                   Country  \\\n",
       "62                130000.0  United States of America   \n",
       "87                100000.0  United States of America   \n",
       "190                70000.0  United States of America   \n",
       "420                    NaN  United States of America   \n",
       "432                90000.0  United States of America   \n",
       "...                    ...                       ...   \n",
       "83185             150000.0  United States of America   \n",
       "83190                  NaN  United States of America   \n",
       "83364                  NaN  United States of America   \n",
       "83378             112000.0  United States of America   \n",
       "83436              90000.0  United States of America   \n",
       "\n",
       "                                                 DevType  \\\n",
       "62     Developer, front-end;Developer, desktop or ent...   \n",
       "87     Engineer, data;Data scientist or machine learn...   \n",
       "190    Developer, front-end;Data scientist or machine...   \n",
       "420    Developer, desktop or enterprise applications;...   \n",
       "432    Data scientist or machine learning specialist;...   \n",
       "...                                                  ...   \n",
       "83185  Data scientist or machine learning specialist;...   \n",
       "83190  Data scientist or machine learning specialist;...   \n",
       "83364  Data scientist or machine learning specialist;...   \n",
       "83378  Developer, desktop or enterprise applications;...   \n",
       "83436  Data scientist or machine learning specialist;...   \n",
       "\n",
       "                                  LanguageHaveWorkedWith  \\\n",
       "62     C#;HTML/CSS;JavaScript;Node.js;PowerShell;Pyth...   \n",
       "87            Bash/Shell;C#;HTML/CSS;Julia;Matlab;Python   \n",
       "190    C;C++;JavaScript;Objective-C;Python;Swift;Type...   \n",
       "420                Bash/Shell;Java;JavaScript;Python;SQL   \n",
       "432                                Bash/Shell;Perl;R;SQL   \n",
       "...                                                  ...   \n",
       "83185            Bash/Shell;HTML/CSS;JavaScript;Python;R   \n",
       "83190                             C;C#;C++;HTML/CSS;Java   \n",
       "83364                                              R;SQL   \n",
       "83378                              Bash/Shell;C++;Python   \n",
       "83436                                 Groovy;Java;Python   \n",
       "\n",
       "                                  LanguageWantToWorkWith  \\\n",
       "62                HTML/CSS;JavaScript;Node.js;Python;SQL   \n",
       "87                 Bash/Shell;C#;C++;Julia;Matlab;Python   \n",
       "190                     C++;JavaScript;Python;TypeScript   \n",
       "420    Bash/Shell;Java;JavaScript;Julia;Kotlin;Node.j...   \n",
       "432                                                R;SQL   \n",
       "...                                                  ...   \n",
       "83185  Bash/Shell;Haskell;HTML/CSS;JavaScript;Julia;R...   \n",
       "83190                             C;C#;C++;HTML/CSS;Java   \n",
       "83364                                                  R   \n",
       "83378             Bash/Shell;C++;JavaScript;Julia;Python   \n",
       "83436                                        Java;Python   \n",
       "\n",
       "                   MiscTechHaveWorkedWith  \\\n",
       "62                                    NaN   \n",
       "87                           NumPy;Pandas   \n",
       "190      NumPy;React Native;Torch/PyTorch   \n",
       "420         Keras;NumPy;Pandas;TensorFlow   \n",
       "432                                   NaN   \n",
       "...                                   ...   \n",
       "83185                        NumPy;Pandas   \n",
       "83190  Apache Spark;Cordova;Flutter;Keras   \n",
       "83364                                 NaN   \n",
       "83378                     NumPy;Pandas;Qt   \n",
       "83436           Hadoop;Keras;NumPy;Pandas   \n",
       "\n",
       "                                  MiscTechWantToWorkWith  year  isDataRelated  \\\n",
       "62                                                   NaN  2021              1   \n",
       "87                                          NumPy;Pandas  2021              1   \n",
       "190                     NumPy;React Native;Torch/PyTorch  2021              1   \n",
       "420                 Hadoop;Keras;NumPy;Pandas;TensorFlow  2021              1   \n",
       "432                                                  NaN  2021              1   \n",
       "...                                                  ...   ...            ...   \n",
       "83185                                                NaN  2021              1   \n",
       "83190                  .NET Framework;.NET Core / .NET 5  2021              1   \n",
       "83364                                                NaN  2021              1   \n",
       "83378                   Keras;NumPy;Pandas;Qt;TensorFlow  2021              1   \n",
       "83436  Apache Spark;Hadoop;Keras;NumPy;Pandas;TensorFlow  2021              1   \n",
       "\n",
       "       isDataScientist  ...  C  Perl  PowerShell  Kotlin  VBA  Julia  Node.js  \\\n",
       "62                   1  ...  0     0           1       0    1      0        1   \n",
       "87                   1  ...  0     0           0       0    0      1        0   \n",
       "190                  1  ...  1     0           0       0    0      0        0   \n",
       "420                  1  ...  0     0           0       0    0      0        0   \n",
       "432                  1  ...  0     1           0       0    0      0        0   \n",
       "...                ...  ... ..   ...         ...     ...  ...    ...      ...   \n",
       "83185                1  ...  0     0           0       0    0      0        0   \n",
       "83190                1  ...  1     0           0       0    0      0        0   \n",
       "83364                1  ...  0     0           0       0    0      0        0   \n",
       "83378                1  ...  0     0           0       0    0      0        0   \n",
       "83436                1  ...  0     0           0       0    0      0        0   \n",
       "\n",
       "       Groovy  Objective-C  Swift  \n",
       "62          0            0      0  \n",
       "87          0            0      0  \n",
       "190         0            1      1  \n",
       "420         0            0      0  \n",
       "432         0            0      0  \n",
       "...       ...          ...    ...  \n",
       "83185       0            0      0  \n",
       "83190       0            0      0  \n",
       "83364       0            0      0  \n",
       "83378       0            0      0  \n",
       "83436       1            0      0  \n",
       "\n",
       "[900 rows x 53 columns]"
      ]
     },
     "execution_count": 29,
     "metadata": {},
     "output_type": "execute_result"
    }
   ],
   "source": [
    "DataScientists_2021_USA"
   ]
  },
  {
   "cell_type": "code",
   "execution_count": 62,
   "metadata": {},
   "outputs": [
    {
     "data": {
      "text/plain": [
       "280849.0544959128"
      ]
     },
     "execution_count": 62,
     "metadata": {},
     "output_type": "execute_result"
    }
   ],
   "source": [
    "DataScientists_2021_USA.query(\"(JavaScript == 1 or TypeScript == 1 or NodeJS == 1 or HTMLCSS == 1)\").mean()['ConvertedCompYearly']"
   ]
  },
  {
   "cell_type": "code",
   "execution_count": 63,
   "metadata": {},
   "outputs": [
    {
     "data": {
      "text/plain": [
       "237303.40619621341"
      ]
     },
     "execution_count": 63,
     "metadata": {},
     "output_type": "execute_result"
    }
   ],
   "source": [
    "DataScientists_2021_USA.query(\"Python == 1\").mean()['ConvertedCompYearly']"
   ]
  },
  {
   "cell_type": "code",
   "execution_count": 64,
   "metadata": {},
   "outputs": [
    {
     "data": {
      "text/plain": [
       "230165.66666666666"
      ]
     },
     "execution_count": 64,
     "metadata": {},
     "output_type": "execute_result"
    }
   ],
   "source": [
    "DataAnalysts_2021_USA.query(\"(JavaScript == 1 or TypeScript == 1 or NodeJS == 1 or HTMLCSS == 1)\").mean()['ConvertedCompYearly']"
   ]
  },
  {
   "cell_type": "code",
   "execution_count": 65,
   "metadata": {},
   "outputs": [
    {
     "data": {
      "text/plain": [
       "210332.44845360826"
      ]
     },
     "execution_count": 65,
     "metadata": {},
     "output_type": "execute_result"
    }
   ],
   "source": [
    "DataAnalysts_2021_USA.query(\"Python == 1\").mean()['ConvertedCompYearly']"
   ]
  },
  {
   "cell_type": "code",
   "execution_count": 66,
   "metadata": {},
   "outputs": [
    {
     "data": {
      "text/plain": [
       "188525.1220472441"
      ]
     },
     "execution_count": 66,
     "metadata": {},
     "output_type": "execute_result"
    }
   ],
   "source": [
    "DataEngineers_2021_USA.query(\"(JavaScript == 1 or TypeScript == 1 or NodeJS == 1 or HTMLCSS == 1)\").mean()['ConvertedCompYearly']"
   ]
  },
  {
   "cell_type": "code",
   "execution_count": 67,
   "metadata": {},
   "outputs": [
    {
     "data": {
      "text/plain": [
       "216363.01721170396"
      ]
     },
     "execution_count": 67,
     "metadata": {},
     "output_type": "execute_result"
    }
   ],
   "source": [
    "DataEngineers_2021_USA.query(\"Python == 1\").mean()['ConvertedCompYearly']"
   ]
  },
  {
   "cell_type": "code",
   "execution_count": 70,
   "metadata": {},
   "outputs": [
    {
     "data": {
      "text/plain": [
       "(12922, 79)"
      ]
     },
     "execution_count": 70,
     "metadata": {},
     "output_type": "execute_result"
    }
   ],
   "source": [
    "DataRelatedDF_2021_dropna.shape"
   ]
  },
  {
   "cell_type": "code",
   "execution_count": 55,
   "metadata": {},
   "outputs": [
    {
     "name": "stderr",
     "output_type": "stream",
     "text": [
      "D:\\Users\\BlickWinkel\\Anaconda3\\lib\\site-packages\\pandas\\core\\frame.py:4296: SettingWithCopyWarning: \n",
      "A value is trying to be set on a copy of a slice from a DataFrame\n",
      "\n",
      "See the caveats in the documentation: https://pandas.pydata.org/pandas-docs/stable/user_guide/indexing.html#returning-a-view-versus-a-copy\n",
      "  return super().rename(\n"
     ]
    }
   ],
   "source": [
    "DataRelatedDF_2021_dropna.rename(columns={'Node.js':'NodeJS','HTML/CSS':'HTMLCSS'},inplace=True)"
   ]
  },
  {
   "cell_type": "code",
   "execution_count": 41,
   "metadata": {},
   "outputs": [
    {
     "data": {
      "text/plain": [
       "(8053, 79)"
      ]
     },
     "execution_count": 41,
     "metadata": {},
     "output_type": "execute_result"
    }
   ],
   "source": [
    "DataRelatedDF_2021_dropna.query(\"Python == 1\").shape"
   ]
  },
  {
   "cell_type": "markdown",
   "metadata": {},
   "source": [
    "# Try a regression"
   ]
  },
  {
   "cell_type": "code",
   "execution_count": 43,
   "metadata": {},
   "outputs": [],
   "source": [
    "from sklearn.linear_model import LinearRegression\n",
    "from sklearn.model_selection import train_test_split\n",
    "from sklearn.metrics import r2_score, mean_squared_error"
   ]
  },
  {
   "cell_type": "code",
   "execution_count": null,
   "metadata": {},
   "outputs": [],
   "source": []
  },
  {
   "cell_type": "code",
   "execution_count": 87,
   "metadata": {},
   "outputs": [],
   "source": [
    "def clean_fit_linear_mod(df, response_col, cat_cols=[], dummy_na=False, test_size=.3, rand_state=42):\n",
    "    '''\n",
    "    INPUT:\n",
    "    df - a dataframe holding all the variables of interest\n",
    "    response_col - a string holding the name of the column \n",
    "    cat_cols - list of strings that are associated with names of the categorical columns\n",
    "    dummy_na - Bool holding whether you want to dummy NA vals of categorical columns or not\n",
    "    test_size - a float between [0,1] about what proportion of data should be in the test dataset\n",
    "    rand_state - an int that is provided as the random state for splitting the data into training and test \n",
    "    \n",
    "    OUTPUT:\n",
    "    test_score - float - r2 score on the test data\n",
    "    train_score - float - r2 score on the test data\n",
    "    lm_model - model object from sklearn\n",
    "    X_train, X_test, y_train, y_test - output from sklearn train test split used for optimal model\n",
    "    \n",
    "    Your function should:\n",
    "    1. Drop the rows with missing response values\n",
    "    2. Drop columns with NaN for all the values\n",
    "    3. Use create_dummy_df to dummy categorical columns\n",
    "    4. Fill the mean of the column for any missing values \n",
    "    5. Split your data into an X matrix and a response vector y\n",
    "    6. Create training and test sets of data\n",
    "    7. Instantiate a LinearRegression model with normalized data\n",
    "    8. Fit your model to the training data\n",
    "    9. Predict the response for the training data and the test data\n",
    "    10. Obtain an rsquared value for both the training and test data\n",
    "    '''\n",
    "\n",
    "    #Drop the rows with missing responses\n",
    "    df = df.dropna(subset=[response_col], axis=0)\n",
    "    \n",
    "    #Drop columns with NaN for all the values\n",
    "    df = df.dropna(how='all',axis=1)\n",
    "    \n",
    "    #Use create_dummy_df to dummy categorical columns\n",
    "    #df = create_dummy_df(df, cat_cols, dummy_na)\n",
    "    \n",
    "    # Fill the mean\n",
    "    df = df.apply(lambda col: col.fillna(col.mean()), axis=0)\n",
    "\n",
    "    #Split into explanatory and response variables\n",
    "    X = df.drop(response_col, axis=1)\n",
    "    y = df[response_col]\n",
    "\n",
    "    #Split into train and test\n",
    "    X_train, X_test, y_train, y_test = train_test_split(X, y, test_size = .30, random_state=42) \n",
    "\n",
    "    lm_model = LinearRegression(normalize=True) # Instantiate\n",
    "    lm_model.fit(X_train, y_train) #Fit\n",
    "\n",
    "    #Predict and score the model\n",
    "    y_test_preds = lm_model.predict(X_test)\n",
    "    y_train_preds = lm_model.predict(X_train) \n",
    "    \n",
    "    test_score = r2_score(y_test, y_test_preds)\n",
    "    train_score = r2_score(y_train, y_train_preds)\n",
    "    \n",
    "    return test_score, train_score, lm_model, X_train, X_test, y_train, y_test, y_test_preds"
   ]
  },
  {
   "cell_type": "code",
   "execution_count": 55,
   "metadata": {
    "collapsed": true,
    "jupyter": {
     "outputs_hidden": true
    }
   },
   "outputs": [
    {
     "data": {
      "text/plain": [
       "\u001b[1;31mInit signature:\u001b[0m\n",
       "\u001b[0mLinearRegression\u001b[0m\u001b[1;33m(\u001b[0m\u001b[1;33m\n",
       "\u001b[0m    \u001b[1;33m*\u001b[0m\u001b[1;33m,\u001b[0m\u001b[1;33m\n",
       "\u001b[0m    \u001b[0mfit_intercept\u001b[0m\u001b[1;33m=\u001b[0m\u001b[1;32mTrue\u001b[0m\u001b[1;33m,\u001b[0m\u001b[1;33m\n",
       "\u001b[0m    \u001b[0mnormalize\u001b[0m\u001b[1;33m=\u001b[0m\u001b[1;32mFalse\u001b[0m\u001b[1;33m,\u001b[0m\u001b[1;33m\n",
       "\u001b[0m    \u001b[0mcopy_X\u001b[0m\u001b[1;33m=\u001b[0m\u001b[1;32mTrue\u001b[0m\u001b[1;33m,\u001b[0m\u001b[1;33m\n",
       "\u001b[0m    \u001b[0mn_jobs\u001b[0m\u001b[1;33m=\u001b[0m\u001b[1;32mNone\u001b[0m\u001b[1;33m,\u001b[0m\u001b[1;33m\n",
       "\u001b[0m\u001b[1;33m)\u001b[0m\u001b[1;33m\u001b[0m\u001b[1;33m\u001b[0m\u001b[0m\n",
       "\u001b[1;31mDocstring:\u001b[0m     \n",
       "Ordinary least squares Linear Regression.\n",
       "\n",
       "LinearRegression fits a linear model with coefficients w = (w1, ..., wp)\n",
       "to minimize the residual sum of squares between the observed targets in\n",
       "the dataset, and the targets predicted by the linear approximation.\n",
       "\n",
       "Parameters\n",
       "----------\n",
       "fit_intercept : bool, default=True\n",
       "    Whether to calculate the intercept for this model. If set\n",
       "    to False, no intercept will be used in calculations\n",
       "    (i.e. data is expected to be centered).\n",
       "\n",
       "normalize : bool, default=False\n",
       "    This parameter is ignored when ``fit_intercept`` is set to False.\n",
       "    If True, the regressors X will be normalized before regression by\n",
       "    subtracting the mean and dividing by the l2-norm.\n",
       "    If you wish to standardize, please use\n",
       "    :class:`sklearn.preprocessing.StandardScaler` before calling ``fit`` on\n",
       "    an estimator with ``normalize=False``.\n",
       "\n",
       "copy_X : bool, default=True\n",
       "    If True, X will be copied; else, it may be overwritten.\n",
       "\n",
       "n_jobs : int, default=None\n",
       "    The number of jobs to use for the computation. This will only provide\n",
       "    speedup for n_targets > 1 and sufficient large problems.\n",
       "    ``None`` means 1 unless in a :obj:`joblib.parallel_backend` context.\n",
       "    ``-1`` means using all processors. See :term:`Glossary <n_jobs>`\n",
       "    for more details.\n",
       "\n",
       "Attributes\n",
       "----------\n",
       "coef_ : array of shape (n_features, ) or (n_targets, n_features)\n",
       "    Estimated coefficients for the linear regression problem.\n",
       "    If multiple targets are passed during the fit (y 2D), this\n",
       "    is a 2D array of shape (n_targets, n_features), while if only\n",
       "    one target is passed, this is a 1D array of length n_features.\n",
       "\n",
       "rank_ : int\n",
       "    Rank of matrix `X`. Only available when `X` is dense.\n",
       "\n",
       "singular_ : array of shape (min(X, y),)\n",
       "    Singular values of `X`. Only available when `X` is dense.\n",
       "\n",
       "intercept_ : float or array of shape (n_targets,)\n",
       "    Independent term in the linear model. Set to 0.0 if\n",
       "    `fit_intercept = False`.\n",
       "\n",
       "See Also\n",
       "--------\n",
       "sklearn.linear_model.Ridge : Ridge regression addresses some of the\n",
       "    problems of Ordinary Least Squares by imposing a penalty on the\n",
       "    size of the coefficients with l2 regularization.\n",
       "sklearn.linear_model.Lasso : The Lasso is a linear model that estimates\n",
       "    sparse coefficients with l1 regularization.\n",
       "sklearn.linear_model.ElasticNet : Elastic-Net is a linear regression\n",
       "    model trained with both l1 and l2 -norm regularization of the\n",
       "    coefficients.\n",
       "\n",
       "Notes\n",
       "-----\n",
       "From the implementation point of view, this is just plain Ordinary\n",
       "Least Squares (scipy.linalg.lstsq) wrapped as a predictor object.\n",
       "\n",
       "Examples\n",
       "--------\n",
       ">>> import numpy as np\n",
       ">>> from sklearn.linear_model import LinearRegression\n",
       ">>> X = np.array([[1, 1], [1, 2], [2, 2], [2, 3]])\n",
       ">>> # y = 1 * x_0 + 2 * x_1 + 3\n",
       ">>> y = np.dot(X, np.array([1, 2])) + 3\n",
       ">>> reg = LinearRegression().fit(X, y)\n",
       ">>> reg.score(X, y)\n",
       "1.0\n",
       ">>> reg.coef_\n",
       "array([1., 2.])\n",
       ">>> reg.intercept_\n",
       "3.0000...\n",
       ">>> reg.predict(np.array([[3, 5]]))\n",
       "array([16.])\n",
       "\u001b[1;31mFile:\u001b[0m           d:\\users\\blickwinkel\\anaconda3\\lib\\site-packages\\sklearn\\linear_model\\_base.py\n",
       "\u001b[1;31mType:\u001b[0m           ABCMeta\n",
       "\u001b[1;31mSubclasses:\u001b[0m     \n"
      ]
     },
     "metadata": {},
     "output_type": "display_data"
    }
   ],
   "source": [
    "LinearRegression?"
   ]
  },
  {
   "cell_type": "code",
   "execution_count": 114,
   "metadata": {
    "collapsed": true,
    "jupyter": {
     "outputs_hidden": true
    }
   },
   "outputs": [
    {
     "data": {
      "text/plain": [
       "['Swift',\n",
       " 'WebAssembly',\n",
       " 'Node.js',\n",
       " 'C++',\n",
       " 'Assembly',\n",
       " 'Java',\n",
       " 'F#',\n",
       " 'COBOL',\n",
       " 'VBA',\n",
       " 'Go',\n",
       " 'Perl',\n",
       " 'Kotlin',\n",
       " 'Other(s):',\n",
       " 'Julia',\n",
       " 'SQL',\n",
       " 'LISP',\n",
       " 'Elixir',\n",
       " 'Rust',\n",
       " 'Ruby',\n",
       " 'R',\n",
       " 'Clojure',\n",
       " 'Delphi',\n",
       " 'HTML/CSS',\n",
       " 'Crystal',\n",
       " 'TypeScript',\n",
       " 'Haskell',\n",
       " 'C',\n",
       " 'PowerShell',\n",
       " 'Scala',\n",
       " 'Erlang',\n",
       " 'Dart',\n",
       " 'Objective-C',\n",
       " 'JavaScript',\n",
       " 'APL',\n",
       " 'C#',\n",
       " 'PHP',\n",
       " 'Matlab',\n",
       " 'Python',\n",
       " 'Bash/Shell/PowerShell',\n",
       " 'Bash/Shell',\n",
       " 'Groovy']"
      ]
     },
     "execution_count": 114,
     "metadata": {},
     "output_type": "execute_result"
    }
   ],
   "source": [
    "list(PastLanguages)"
   ]
  },
  {
   "cell_type": "code",
   "execution_count": 38,
   "metadata": {},
   "outputs": [],
   "source": [
    "DataScientists_2021_reg = DataScientists_2021_USA[list(PastLanguages) + ['ConvertedCompYearly']]"
   ]
  },
  {
   "cell_type": "code",
   "execution_count": 39,
   "metadata": {},
   "outputs": [
    {
     "data": {
      "text/html": [
       "<div>\n",
       "<style scoped>\n",
       "    .dataframe tbody tr th:only-of-type {\n",
       "        vertical-align: middle;\n",
       "    }\n",
       "\n",
       "    .dataframe tbody tr th {\n",
       "        vertical-align: top;\n",
       "    }\n",
       "\n",
       "    .dataframe thead th {\n",
       "        text-align: right;\n",
       "    }\n",
       "</style>\n",
       "<table border=\"1\" class=\"dataframe\">\n",
       "  <thead>\n",
       "    <tr style=\"text-align: right;\">\n",
       "      <th></th>\n",
       "      <th>Clojure</th>\n",
       "      <th>C++</th>\n",
       "      <th>Elixir</th>\n",
       "      <th>Assembly</th>\n",
       "      <th>Haskell</th>\n",
       "      <th>Crystal</th>\n",
       "      <th>HTML/CSS</th>\n",
       "      <th>Go</th>\n",
       "      <th>COBOL</th>\n",
       "      <th>Ruby</th>\n",
       "      <th>...</th>\n",
       "      <th>Perl</th>\n",
       "      <th>PowerShell</th>\n",
       "      <th>Kotlin</th>\n",
       "      <th>VBA</th>\n",
       "      <th>Julia</th>\n",
       "      <th>Node.js</th>\n",
       "      <th>Groovy</th>\n",
       "      <th>Objective-C</th>\n",
       "      <th>Swift</th>\n",
       "      <th>ConvertedCompYearly</th>\n",
       "    </tr>\n",
       "  </thead>\n",
       "  <tbody>\n",
       "    <tr>\n",
       "      <th>62</th>\n",
       "      <td>0</td>\n",
       "      <td>0</td>\n",
       "      <td>0</td>\n",
       "      <td>0</td>\n",
       "      <td>0</td>\n",
       "      <td>0</td>\n",
       "      <td>1</td>\n",
       "      <td>0</td>\n",
       "      <td>0</td>\n",
       "      <td>0</td>\n",
       "      <td>...</td>\n",
       "      <td>0</td>\n",
       "      <td>1</td>\n",
       "      <td>0</td>\n",
       "      <td>1</td>\n",
       "      <td>0</td>\n",
       "      <td>1</td>\n",
       "      <td>0</td>\n",
       "      <td>0</td>\n",
       "      <td>0</td>\n",
       "      <td>130000.0</td>\n",
       "    </tr>\n",
       "    <tr>\n",
       "      <th>87</th>\n",
       "      <td>0</td>\n",
       "      <td>0</td>\n",
       "      <td>0</td>\n",
       "      <td>0</td>\n",
       "      <td>0</td>\n",
       "      <td>0</td>\n",
       "      <td>1</td>\n",
       "      <td>0</td>\n",
       "      <td>0</td>\n",
       "      <td>0</td>\n",
       "      <td>...</td>\n",
       "      <td>0</td>\n",
       "      <td>0</td>\n",
       "      <td>0</td>\n",
       "      <td>0</td>\n",
       "      <td>1</td>\n",
       "      <td>0</td>\n",
       "      <td>0</td>\n",
       "      <td>0</td>\n",
       "      <td>0</td>\n",
       "      <td>100000.0</td>\n",
       "    </tr>\n",
       "    <tr>\n",
       "      <th>190</th>\n",
       "      <td>0</td>\n",
       "      <td>1</td>\n",
       "      <td>0</td>\n",
       "      <td>0</td>\n",
       "      <td>0</td>\n",
       "      <td>0</td>\n",
       "      <td>0</td>\n",
       "      <td>0</td>\n",
       "      <td>0</td>\n",
       "      <td>0</td>\n",
       "      <td>...</td>\n",
       "      <td>0</td>\n",
       "      <td>0</td>\n",
       "      <td>0</td>\n",
       "      <td>0</td>\n",
       "      <td>0</td>\n",
       "      <td>0</td>\n",
       "      <td>0</td>\n",
       "      <td>1</td>\n",
       "      <td>1</td>\n",
       "      <td>70000.0</td>\n",
       "    </tr>\n",
       "    <tr>\n",
       "      <th>420</th>\n",
       "      <td>0</td>\n",
       "      <td>0</td>\n",
       "      <td>0</td>\n",
       "      <td>0</td>\n",
       "      <td>0</td>\n",
       "      <td>0</td>\n",
       "      <td>0</td>\n",
       "      <td>0</td>\n",
       "      <td>0</td>\n",
       "      <td>0</td>\n",
       "      <td>...</td>\n",
       "      <td>0</td>\n",
       "      <td>0</td>\n",
       "      <td>0</td>\n",
       "      <td>0</td>\n",
       "      <td>0</td>\n",
       "      <td>0</td>\n",
       "      <td>0</td>\n",
       "      <td>0</td>\n",
       "      <td>0</td>\n",
       "      <td>NaN</td>\n",
       "    </tr>\n",
       "    <tr>\n",
       "      <th>432</th>\n",
       "      <td>0</td>\n",
       "      <td>0</td>\n",
       "      <td>0</td>\n",
       "      <td>0</td>\n",
       "      <td>0</td>\n",
       "      <td>0</td>\n",
       "      <td>0</td>\n",
       "      <td>0</td>\n",
       "      <td>0</td>\n",
       "      <td>0</td>\n",
       "      <td>...</td>\n",
       "      <td>1</td>\n",
       "      <td>0</td>\n",
       "      <td>0</td>\n",
       "      <td>0</td>\n",
       "      <td>0</td>\n",
       "      <td>0</td>\n",
       "      <td>0</td>\n",
       "      <td>0</td>\n",
       "      <td>0</td>\n",
       "      <td>90000.0</td>\n",
       "    </tr>\n",
       "    <tr>\n",
       "      <th>...</th>\n",
       "      <td>...</td>\n",
       "      <td>...</td>\n",
       "      <td>...</td>\n",
       "      <td>...</td>\n",
       "      <td>...</td>\n",
       "      <td>...</td>\n",
       "      <td>...</td>\n",
       "      <td>...</td>\n",
       "      <td>...</td>\n",
       "      <td>...</td>\n",
       "      <td>...</td>\n",
       "      <td>...</td>\n",
       "      <td>...</td>\n",
       "      <td>...</td>\n",
       "      <td>...</td>\n",
       "      <td>...</td>\n",
       "      <td>...</td>\n",
       "      <td>...</td>\n",
       "      <td>...</td>\n",
       "      <td>...</td>\n",
       "      <td>...</td>\n",
       "    </tr>\n",
       "    <tr>\n",
       "      <th>83185</th>\n",
       "      <td>0</td>\n",
       "      <td>0</td>\n",
       "      <td>0</td>\n",
       "      <td>0</td>\n",
       "      <td>0</td>\n",
       "      <td>0</td>\n",
       "      <td>1</td>\n",
       "      <td>0</td>\n",
       "      <td>0</td>\n",
       "      <td>0</td>\n",
       "      <td>...</td>\n",
       "      <td>0</td>\n",
       "      <td>0</td>\n",
       "      <td>0</td>\n",
       "      <td>0</td>\n",
       "      <td>0</td>\n",
       "      <td>0</td>\n",
       "      <td>0</td>\n",
       "      <td>0</td>\n",
       "      <td>0</td>\n",
       "      <td>150000.0</td>\n",
       "    </tr>\n",
       "    <tr>\n",
       "      <th>83190</th>\n",
       "      <td>0</td>\n",
       "      <td>1</td>\n",
       "      <td>0</td>\n",
       "      <td>0</td>\n",
       "      <td>0</td>\n",
       "      <td>0</td>\n",
       "      <td>1</td>\n",
       "      <td>0</td>\n",
       "      <td>0</td>\n",
       "      <td>0</td>\n",
       "      <td>...</td>\n",
       "      <td>0</td>\n",
       "      <td>0</td>\n",
       "      <td>0</td>\n",
       "      <td>0</td>\n",
       "      <td>0</td>\n",
       "      <td>0</td>\n",
       "      <td>0</td>\n",
       "      <td>0</td>\n",
       "      <td>0</td>\n",
       "      <td>NaN</td>\n",
       "    </tr>\n",
       "    <tr>\n",
       "      <th>83364</th>\n",
       "      <td>0</td>\n",
       "      <td>0</td>\n",
       "      <td>0</td>\n",
       "      <td>0</td>\n",
       "      <td>0</td>\n",
       "      <td>0</td>\n",
       "      <td>0</td>\n",
       "      <td>0</td>\n",
       "      <td>0</td>\n",
       "      <td>0</td>\n",
       "      <td>...</td>\n",
       "      <td>0</td>\n",
       "      <td>0</td>\n",
       "      <td>0</td>\n",
       "      <td>0</td>\n",
       "      <td>0</td>\n",
       "      <td>0</td>\n",
       "      <td>0</td>\n",
       "      <td>0</td>\n",
       "      <td>0</td>\n",
       "      <td>NaN</td>\n",
       "    </tr>\n",
       "    <tr>\n",
       "      <th>83378</th>\n",
       "      <td>0</td>\n",
       "      <td>1</td>\n",
       "      <td>0</td>\n",
       "      <td>0</td>\n",
       "      <td>0</td>\n",
       "      <td>0</td>\n",
       "      <td>0</td>\n",
       "      <td>0</td>\n",
       "      <td>0</td>\n",
       "      <td>0</td>\n",
       "      <td>...</td>\n",
       "      <td>0</td>\n",
       "      <td>0</td>\n",
       "      <td>0</td>\n",
       "      <td>0</td>\n",
       "      <td>0</td>\n",
       "      <td>0</td>\n",
       "      <td>0</td>\n",
       "      <td>0</td>\n",
       "      <td>0</td>\n",
       "      <td>112000.0</td>\n",
       "    </tr>\n",
       "    <tr>\n",
       "      <th>83436</th>\n",
       "      <td>0</td>\n",
       "      <td>0</td>\n",
       "      <td>0</td>\n",
       "      <td>0</td>\n",
       "      <td>0</td>\n",
       "      <td>0</td>\n",
       "      <td>0</td>\n",
       "      <td>0</td>\n",
       "      <td>0</td>\n",
       "      <td>0</td>\n",
       "      <td>...</td>\n",
       "      <td>0</td>\n",
       "      <td>0</td>\n",
       "      <td>0</td>\n",
       "      <td>0</td>\n",
       "      <td>0</td>\n",
       "      <td>0</td>\n",
       "      <td>1</td>\n",
       "      <td>0</td>\n",
       "      <td>0</td>\n",
       "      <td>90000.0</td>\n",
       "    </tr>\n",
       "  </tbody>\n",
       "</table>\n",
       "<p>900 rows × 42 columns</p>\n",
       "</div>"
      ],
      "text/plain": [
       "       Clojure  C++  Elixir  Assembly  Haskell  Crystal  HTML/CSS  Go  COBOL  \\\n",
       "62           0    0       0         0        0        0         1   0      0   \n",
       "87           0    0       0         0        0        0         1   0      0   \n",
       "190          0    1       0         0        0        0         0   0      0   \n",
       "420          0    0       0         0        0        0         0   0      0   \n",
       "432          0    0       0         0        0        0         0   0      0   \n",
       "...        ...  ...     ...       ...      ...      ...       ...  ..    ...   \n",
       "83185        0    0       0         0        0        0         1   0      0   \n",
       "83190        0    1       0         0        0        0         1   0      0   \n",
       "83364        0    0       0         0        0        0         0   0      0   \n",
       "83378        0    1       0         0        0        0         0   0      0   \n",
       "83436        0    0       0         0        0        0         0   0      0   \n",
       "\n",
       "       Ruby  ...  Perl  PowerShell  Kotlin  VBA  Julia  Node.js  Groovy  \\\n",
       "62        0  ...     0           1       0    1      0        1       0   \n",
       "87        0  ...     0           0       0    0      1        0       0   \n",
       "190       0  ...     0           0       0    0      0        0       0   \n",
       "420       0  ...     0           0       0    0      0        0       0   \n",
       "432       0  ...     1           0       0    0      0        0       0   \n",
       "...     ...  ...   ...         ...     ...  ...    ...      ...     ...   \n",
       "83185     0  ...     0           0       0    0      0        0       0   \n",
       "83190     0  ...     0           0       0    0      0        0       0   \n",
       "83364     0  ...     0           0       0    0      0        0       0   \n",
       "83378     0  ...     0           0       0    0      0        0       0   \n",
       "83436     0  ...     0           0       0    0      0        0       1   \n",
       "\n",
       "       Objective-C  Swift  ConvertedCompYearly  \n",
       "62               0      0             130000.0  \n",
       "87               0      0             100000.0  \n",
       "190              1      1              70000.0  \n",
       "420              0      0                  NaN  \n",
       "432              0      0              90000.0  \n",
       "...            ...    ...                  ...  \n",
       "83185            0      0             150000.0  \n",
       "83190            0      0                  NaN  \n",
       "83364            0      0                  NaN  \n",
       "83378            0      0             112000.0  \n",
       "83436            0      0              90000.0  \n",
       "\n",
       "[900 rows x 42 columns]"
      ]
     },
     "execution_count": 39,
     "metadata": {},
     "output_type": "execute_result"
    }
   ],
   "source": [
    "DataScientists_2021_reg"
   ]
  },
  {
   "cell_type": "code",
   "execution_count": null,
   "metadata": {},
   "outputs": [],
   "source": []
  },
  {
   "cell_type": "code",
   "execution_count": 92,
   "metadata": {},
   "outputs": [],
   "source": [
    "from sklearn.linear_model import LogisticRegression"
   ]
  },
  {
   "cell_type": "code",
   "execution_count": 98,
   "metadata": {},
   "outputs": [],
   "source": [
    "X = DataScientists_2021_reg[PastLanguages]\n",
    "y = DataScientists_2021_reg['HighIncome']\n",
    "\n",
    "#Split into train and test\n",
    "X_train, X_test, y_train, y_test = train_test_split(X, y, test_size = .30, random_state=42) "
   ]
  },
  {
   "cell_type": "code",
   "execution_count": 99,
   "metadata": {},
   "outputs": [],
   "source": [
    "clf = LogisticRegression(random_state=0).fit(X, y)"
   ]
  },
  {
   "cell_type": "code",
   "execution_count": 100,
   "metadata": {},
   "outputs": [
    {
     "data": {
      "text/plain": [
       "0.919047619047619"
      ]
     },
     "execution_count": 100,
     "metadata": {},
     "output_type": "execute_result"
    }
   ],
   "source": [
    "clf.score(X_train,y_train), "
   ]
  },
  {
   "cell_type": "code",
   "execution_count": 93,
   "metadata": {},
   "outputs": [],
   "source": [
    "average_income = DataScientists_2021_reg['ConvertedCompYearly'].mean()"
   ]
  },
  {
   "cell_type": "code",
   "execution_count": 94,
   "metadata": {},
   "outputs": [
    {
     "name": "stderr",
     "output_type": "stream",
     "text": [
      "<ipython-input-94-547fb700d13d>:1: SettingWithCopyWarning: \n",
      "A value is trying to be set on a copy of a slice from a DataFrame.\n",
      "Try using .loc[row_indexer,col_indexer] = value instead\n",
      "\n",
      "See the caveats in the documentation: https://pandas.pydata.org/pandas-docs/stable/user_guide/indexing.html#returning-a-view-versus-a-copy\n",
      "  DataScientists_2021_reg['HighIncome'] = DataScientists_2021_reg['ConvertedCompYearly'].apply(lambda x: 1 if x>=average_income else 0)\n"
     ]
    }
   ],
   "source": [
    "DataScientists_2021_reg['HighIncome'] = DataScientists_2021_reg['ConvertedCompYearly'].apply(lambda x: 1 if x>=average_income else 0)"
   ]
  },
  {
   "cell_type": "code",
   "execution_count": 97,
   "metadata": {
    "collapsed": true,
    "jupyter": {
     "outputs_hidden": true
    }
   },
   "outputs": [
    {
     "data": {
      "text/html": [
       "<div>\n",
       "<style scoped>\n",
       "    .dataframe tbody tr th:only-of-type {\n",
       "        vertical-align: middle;\n",
       "    }\n",
       "\n",
       "    .dataframe tbody tr th {\n",
       "        vertical-align: top;\n",
       "    }\n",
       "\n",
       "    .dataframe thead th {\n",
       "        text-align: right;\n",
       "    }\n",
       "</style>\n",
       "<table border=\"1\" class=\"dataframe\">\n",
       "  <thead>\n",
       "    <tr style=\"text-align: right;\">\n",
       "      <th></th>\n",
       "      <th>Clojure</th>\n",
       "      <th>C++</th>\n",
       "      <th>Elixir</th>\n",
       "      <th>Assembly</th>\n",
       "      <th>Haskell</th>\n",
       "      <th>Crystal</th>\n",
       "      <th>HTML/CSS</th>\n",
       "      <th>Go</th>\n",
       "      <th>COBOL</th>\n",
       "      <th>Ruby</th>\n",
       "      <th>...</th>\n",
       "      <th>PowerShell</th>\n",
       "      <th>Kotlin</th>\n",
       "      <th>VBA</th>\n",
       "      <th>Julia</th>\n",
       "      <th>Node.js</th>\n",
       "      <th>Groovy</th>\n",
       "      <th>Objective-C</th>\n",
       "      <th>Swift</th>\n",
       "      <th>ConvertedCompYearly</th>\n",
       "      <th>HighIncome</th>\n",
       "    </tr>\n",
       "  </thead>\n",
       "  <tbody>\n",
       "    <tr>\n",
       "      <th>949</th>\n",
       "      <td>0</td>\n",
       "      <td>0</td>\n",
       "      <td>0</td>\n",
       "      <td>0</td>\n",
       "      <td>0</td>\n",
       "      <td>0</td>\n",
       "      <td>1</td>\n",
       "      <td>0</td>\n",
       "      <td>0</td>\n",
       "      <td>0</td>\n",
       "      <td>...</td>\n",
       "      <td>0</td>\n",
       "      <td>0</td>\n",
       "      <td>0</td>\n",
       "      <td>0</td>\n",
       "      <td>0</td>\n",
       "      <td>0</td>\n",
       "      <td>0</td>\n",
       "      <td>0</td>\n",
       "      <td>550000.0</td>\n",
       "      <td>1</td>\n",
       "    </tr>\n",
       "    <tr>\n",
       "      <th>1150</th>\n",
       "      <td>0</td>\n",
       "      <td>0</td>\n",
       "      <td>0</td>\n",
       "      <td>0</td>\n",
       "      <td>0</td>\n",
       "      <td>0</td>\n",
       "      <td>0</td>\n",
       "      <td>0</td>\n",
       "      <td>0</td>\n",
       "      <td>0</td>\n",
       "      <td>...</td>\n",
       "      <td>0</td>\n",
       "      <td>0</td>\n",
       "      <td>0</td>\n",
       "      <td>0</td>\n",
       "      <td>0</td>\n",
       "      <td>0</td>\n",
       "      <td>0</td>\n",
       "      <td>0</td>\n",
       "      <td>1068000.0</td>\n",
       "      <td>1</td>\n",
       "    </tr>\n",
       "    <tr>\n",
       "      <th>1519</th>\n",
       "      <td>0</td>\n",
       "      <td>0</td>\n",
       "      <td>0</td>\n",
       "      <td>0</td>\n",
       "      <td>0</td>\n",
       "      <td>0</td>\n",
       "      <td>1</td>\n",
       "      <td>0</td>\n",
       "      <td>0</td>\n",
       "      <td>0</td>\n",
       "      <td>...</td>\n",
       "      <td>0</td>\n",
       "      <td>0</td>\n",
       "      <td>0</td>\n",
       "      <td>0</td>\n",
       "      <td>0</td>\n",
       "      <td>0</td>\n",
       "      <td>0</td>\n",
       "      <td>0</td>\n",
       "      <td>275000.0</td>\n",
       "      <td>1</td>\n",
       "    </tr>\n",
       "    <tr>\n",
       "      <th>3417</th>\n",
       "      <td>0</td>\n",
       "      <td>0</td>\n",
       "      <td>0</td>\n",
       "      <td>1</td>\n",
       "      <td>0</td>\n",
       "      <td>0</td>\n",
       "      <td>0</td>\n",
       "      <td>0</td>\n",
       "      <td>0</td>\n",
       "      <td>0</td>\n",
       "      <td>...</td>\n",
       "      <td>0</td>\n",
       "      <td>0</td>\n",
       "      <td>0</td>\n",
       "      <td>0</td>\n",
       "      <td>0</td>\n",
       "      <td>0</td>\n",
       "      <td>0</td>\n",
       "      <td>0</td>\n",
       "      <td>300000.0</td>\n",
       "      <td>1</td>\n",
       "    </tr>\n",
       "    <tr>\n",
       "      <th>3710</th>\n",
       "      <td>0</td>\n",
       "      <td>0</td>\n",
       "      <td>0</td>\n",
       "      <td>0</td>\n",
       "      <td>0</td>\n",
       "      <td>0</td>\n",
       "      <td>0</td>\n",
       "      <td>1</td>\n",
       "      <td>0</td>\n",
       "      <td>1</td>\n",
       "      <td>...</td>\n",
       "      <td>0</td>\n",
       "      <td>0</td>\n",
       "      <td>0</td>\n",
       "      <td>0</td>\n",
       "      <td>0</td>\n",
       "      <td>0</td>\n",
       "      <td>0</td>\n",
       "      <td>0</td>\n",
       "      <td>1250000.0</td>\n",
       "      <td>1</td>\n",
       "    </tr>\n",
       "    <tr>\n",
       "      <th>...</th>\n",
       "      <td>...</td>\n",
       "      <td>...</td>\n",
       "      <td>...</td>\n",
       "      <td>...</td>\n",
       "      <td>...</td>\n",
       "      <td>...</td>\n",
       "      <td>...</td>\n",
       "      <td>...</td>\n",
       "      <td>...</td>\n",
       "      <td>...</td>\n",
       "      <td>...</td>\n",
       "      <td>...</td>\n",
       "      <td>...</td>\n",
       "      <td>...</td>\n",
       "      <td>...</td>\n",
       "      <td>...</td>\n",
       "      <td>...</td>\n",
       "      <td>...</td>\n",
       "      <td>...</td>\n",
       "      <td>...</td>\n",
       "      <td>...</td>\n",
       "    </tr>\n",
       "    <tr>\n",
       "      <th>77568</th>\n",
       "      <td>0</td>\n",
       "      <td>0</td>\n",
       "      <td>0</td>\n",
       "      <td>0</td>\n",
       "      <td>0</td>\n",
       "      <td>0</td>\n",
       "      <td>0</td>\n",
       "      <td>0</td>\n",
       "      <td>0</td>\n",
       "      <td>0</td>\n",
       "      <td>...</td>\n",
       "      <td>0</td>\n",
       "      <td>0</td>\n",
       "      <td>0</td>\n",
       "      <td>0</td>\n",
       "      <td>0</td>\n",
       "      <td>0</td>\n",
       "      <td>0</td>\n",
       "      <td>0</td>\n",
       "      <td>1582800.0</td>\n",
       "      <td>1</td>\n",
       "    </tr>\n",
       "    <tr>\n",
       "      <th>79873</th>\n",
       "      <td>0</td>\n",
       "      <td>0</td>\n",
       "      <td>0</td>\n",
       "      <td>0</td>\n",
       "      <td>0</td>\n",
       "      <td>0</td>\n",
       "      <td>1</td>\n",
       "      <td>0</td>\n",
       "      <td>0</td>\n",
       "      <td>0</td>\n",
       "      <td>...</td>\n",
       "      <td>0</td>\n",
       "      <td>0</td>\n",
       "      <td>0</td>\n",
       "      <td>0</td>\n",
       "      <td>0</td>\n",
       "      <td>0</td>\n",
       "      <td>0</td>\n",
       "      <td>0</td>\n",
       "      <td>330000.0</td>\n",
       "      <td>1</td>\n",
       "    </tr>\n",
       "    <tr>\n",
       "      <th>81391</th>\n",
       "      <td>0</td>\n",
       "      <td>0</td>\n",
       "      <td>0</td>\n",
       "      <td>0</td>\n",
       "      <td>0</td>\n",
       "      <td>0</td>\n",
       "      <td>0</td>\n",
       "      <td>0</td>\n",
       "      <td>0</td>\n",
       "      <td>0</td>\n",
       "      <td>...</td>\n",
       "      <td>0</td>\n",
       "      <td>0</td>\n",
       "      <td>0</td>\n",
       "      <td>0</td>\n",
       "      <td>0</td>\n",
       "      <td>0</td>\n",
       "      <td>0</td>\n",
       "      <td>0</td>\n",
       "      <td>4800000.0</td>\n",
       "      <td>1</td>\n",
       "    </tr>\n",
       "    <tr>\n",
       "      <th>81432</th>\n",
       "      <td>0</td>\n",
       "      <td>1</td>\n",
       "      <td>0</td>\n",
       "      <td>0</td>\n",
       "      <td>0</td>\n",
       "      <td>0</td>\n",
       "      <td>0</td>\n",
       "      <td>0</td>\n",
       "      <td>0</td>\n",
       "      <td>0</td>\n",
       "      <td>...</td>\n",
       "      <td>0</td>\n",
       "      <td>0</td>\n",
       "      <td>0</td>\n",
       "      <td>0</td>\n",
       "      <td>0</td>\n",
       "      <td>0</td>\n",
       "      <td>0</td>\n",
       "      <td>0</td>\n",
       "      <td>340000.0</td>\n",
       "      <td>1</td>\n",
       "    </tr>\n",
       "    <tr>\n",
       "      <th>81484</th>\n",
       "      <td>0</td>\n",
       "      <td>0</td>\n",
       "      <td>0</td>\n",
       "      <td>0</td>\n",
       "      <td>0</td>\n",
       "      <td>0</td>\n",
       "      <td>0</td>\n",
       "      <td>0</td>\n",
       "      <td>0</td>\n",
       "      <td>0</td>\n",
       "      <td>...</td>\n",
       "      <td>0</td>\n",
       "      <td>0</td>\n",
       "      <td>0</td>\n",
       "      <td>1</td>\n",
       "      <td>0</td>\n",
       "      <td>0</td>\n",
       "      <td>0</td>\n",
       "      <td>0</td>\n",
       "      <td>984000.0</td>\n",
       "      <td>1</td>\n",
       "    </tr>\n",
       "  </tbody>\n",
       "</table>\n",
       "<p>71 rows × 43 columns</p>\n",
       "</div>"
      ],
      "text/plain": [
       "       Clojure  C++  Elixir  Assembly  Haskell  Crystal  HTML/CSS  Go  COBOL  \\\n",
       "949          0    0       0         0        0        0         1   0      0   \n",
       "1150         0    0       0         0        0        0         0   0      0   \n",
       "1519         0    0       0         0        0        0         1   0      0   \n",
       "3417         0    0       0         1        0        0         0   0      0   \n",
       "3710         0    0       0         0        0        0         0   1      0   \n",
       "...        ...  ...     ...       ...      ...      ...       ...  ..    ...   \n",
       "77568        0    0       0         0        0        0         0   0      0   \n",
       "79873        0    0       0         0        0        0         1   0      0   \n",
       "81391        0    0       0         0        0        0         0   0      0   \n",
       "81432        0    1       0         0        0        0         0   0      0   \n",
       "81484        0    0       0         0        0        0         0   0      0   \n",
       "\n",
       "       Ruby  ...  PowerShell  Kotlin  VBA  Julia  Node.js  Groovy  \\\n",
       "949       0  ...           0       0    0      0        0       0   \n",
       "1150      0  ...           0       0    0      0        0       0   \n",
       "1519      0  ...           0       0    0      0        0       0   \n",
       "3417      0  ...           0       0    0      0        0       0   \n",
       "3710      1  ...           0       0    0      0        0       0   \n",
       "...     ...  ...         ...     ...  ...    ...      ...     ...   \n",
       "77568     0  ...           0       0    0      0        0       0   \n",
       "79873     0  ...           0       0    0      0        0       0   \n",
       "81391     0  ...           0       0    0      0        0       0   \n",
       "81432     0  ...           0       0    0      0        0       0   \n",
       "81484     0  ...           0       0    0      1        0       0   \n",
       "\n",
       "       Objective-C  Swift  ConvertedCompYearly  HighIncome  \n",
       "949              0      0             550000.0           1  \n",
       "1150             0      0            1068000.0           1  \n",
       "1519             0      0             275000.0           1  \n",
       "3417             0      0             300000.0           1  \n",
       "3710             0      0            1250000.0           1  \n",
       "...            ...    ...                  ...         ...  \n",
       "77568            0      0            1582800.0           1  \n",
       "79873            0      0             330000.0           1  \n",
       "81391            0      0            4800000.0           1  \n",
       "81432            0      0             340000.0           1  \n",
       "81484            0      0             984000.0           1  \n",
       "\n",
       "[71 rows x 43 columns]"
      ]
     },
     "execution_count": 97,
     "metadata": {},
     "output_type": "execute_result"
    }
   ],
   "source": [
    "DataScientists_2021_reg[DataScientists_2021_reg['HighIncome'] == 1]"
   ]
  },
  {
   "cell_type": "code",
   "execution_count": 88,
   "metadata": {},
   "outputs": [],
   "source": [
    "clf = LogisticRegression(random_state=0).fit(X, y)"
   ]
  },
  {
   "cell_type": "code",
   "execution_count": 89,
   "metadata": {},
   "outputs": [
    {
     "data": {
      "text/plain": [
       "(51308    215000.0\n",
       " 18531    218000.0\n",
       " 66142    155000.0\n",
       " 81156    149000.0\n",
       " 35303    200000.0\n",
       "            ...   \n",
       " 57330    114000.0\n",
       " 47264    105000.0\n",
       " 77690    120000.0\n",
       " 7245      80000.0\n",
       " 3258     117000.0\n",
       " Name: ConvertedCompYearly, Length: 202, dtype: float64,\n",
       " array([ 290506.29784409,  393672.94736085,  365331.79909694,\n",
       "          37069.92698825,  724874.54757336,  852807.69485376,\n",
       "         171102.99498252,  -77364.15809916,  403350.86624854,\n",
       "          37542.24487873,  250514.46814463,   17618.84925443,\n",
       "         270823.85159183,  371297.36534473,  250394.62934811,\n",
       "         277556.54640577,  389985.93790905,  225798.33254928,\n",
       "         -14446.22180264,  170692.45907228,    4819.69284218,\n",
       "         822771.07659941,  518662.26811168,  151551.50343345,\n",
       "         379135.35748881,  218218.17196946, -414852.68477352,\n",
       "         206261.93359889,  408500.52574773,  420091.41311204,\n",
       "          45806.73850044,  -19028.51871507,  -65037.65964462,\n",
       "         321574.08306832,  365693.16394111,  353228.81525486,\n",
       "         630908.59328807,  264127.3222462 ,  226761.83590604,\n",
       "         251653.32003285,   19567.89642272,  319255.22738939,\n",
       "         250394.62934811,  135646.4206397 ,  304792.87851904,\n",
       "         500232.92514693,  353228.81525486,  456718.99439526,\n",
       "          -5079.1669053 ,  226761.83590604,  248228.66640225,\n",
       "         352737.63754318,  -23025.70941744,  358377.6236174 ,\n",
       "         237166.47007301,  313426.9580482 ,  321125.33986777,\n",
       "         343095.85602058,  406318.55489315,  389542.59731759,\n",
       "          21972.04961057, -325026.50911365,  597021.55342331,\n",
       "         458394.39061358,   83640.93884587,  192612.22068079,\n",
       "         394926.90497413,  253561.04796375,  375523.5890387 ,\n",
       "         307525.24782639,  371297.36534473,  137960.42630718,\n",
       "          62907.84165102,  147057.77886655,  152563.92283024,\n",
       "          62797.09031016,  371297.36534473,  538750.92355801,\n",
       "         360378.58912552,  522925.59901879, 1041806.52780959,\n",
       "         268578.31668713,  172363.58673511,  512155.25300897,\n",
       "        1365834.81650097,  343881.92687277,  206649.39196293,\n",
       "         414791.74375111,  946446.71442515,  153122.37511269,\n",
       "         703586.95804567,  447931.55759202,   79712.54610372,\n",
       "         343854.94690746,  316899.1161738 ,  304792.87851904,\n",
       "          97598.93903573,  338691.22538282,  288062.06802458,\n",
       "         163819.92279853,  342419.87575455,  250394.62934811,\n",
       "         172363.58673511, 1150427.69135338,  226761.83590604,\n",
       "         780667.91342331,  257977.77634166,  239168.70662963,\n",
       "         327028.82159541,  304792.87851904,  924942.51653565,\n",
       "         420091.41311204,  250394.62934811,  -90482.28995206,\n",
       "         122193.30522322,  500593.71802181,  658101.88390318,\n",
       "         272186.73855714,  290921.47474526,  206261.93359889,\n",
       "          82850.73545519,  740818.67842499,  193569.66054563,\n",
       "         358523.3821018 ,  387485.27315014,  219715.04901537,\n",
       "         327028.82159541,  249056.20826476,  767707.31430274,\n",
       "         357239.40739494,  206261.93359889,  327028.82159541,\n",
       "         160748.56887153,  280053.06655971,  200935.78951729,\n",
       "          44162.26261021,  359383.34254306,  162989.7183877 ,\n",
       "         399615.64130416,  466666.01878088,  846441.21065811,\n",
       "         137248.98462611,   83640.93884587,  197310.55709312,\n",
       "          55688.81839753,  163819.92279853,  172363.58673511,\n",
       "        -157871.25070879,  371297.36534473,   96122.72394855,\n",
       "         334584.58565509,  689217.01286636,  278587.02734583,\n",
       "         250394.62934811,    4819.69284218,   97315.43597284,\n",
       "         282495.95574587,  279394.64395868,  268151.88127339,\n",
       "         710960.23809241,  213562.26569223,  360927.16845918,\n",
       "         316899.1161738 ,  157896.23342277, 1269853.39411901,\n",
       "         163704.55395511,  359470.09990735,  311751.47152037,\n",
       "         241020.76100071,  -14546.77814751,  311454.89326954,\n",
       "          78871.74689556,   49407.63780518,  238868.07356079,\n",
       "         278815.2370905 ,   68208.99138119,  238868.07356079,\n",
       "         913867.95877519,  410359.43373314,  156637.54273804,\n",
       "         226761.83590604,  213842.09417871,  -41592.41132961,\n",
       "         371297.36534473,  231553.73817816,  298017.61961734,\n",
       "         146894.44671831,  335089.90126039,  817384.72798455,\n",
       "         447253.3301697 ,  239742.66775695,  201071.06502364,\n",
       "         461384.6730085 ,  -22001.04102461,  331954.79557669,\n",
       "         389556.38632262,    4774.82447859,  686042.09500273,\n",
       "         -89758.40598779,  250394.62934811,  208387.74687187,\n",
       "         277556.54640577]))"
      ]
     },
     "execution_count": 89,
     "metadata": {},
     "output_type": "execute_result"
    }
   ],
   "source": [
    "y_test, y_test_preds"
   ]
  },
  {
   "cell_type": "markdown",
   "metadata": {},
   "source": [
    "## Compare Incomes"
   ]
  },
  {
   "cell_type": "code",
   "execution_count": 37,
   "metadata": {},
   "outputs": [
    {
     "data": {
      "text/plain": [
       "count    1.763000e+03\n",
       "mean     1.243718e+05\n",
       "std      4.552219e+05\n",
       "min      5.000000e+00\n",
       "25%      3.112800e+04\n",
       "50%      6.000000e+04\n",
       "75%      1.081740e+05\n",
       "max      1.000000e+07\n",
       "Name: ConvertedCompYearly, dtype: float64"
      ]
     },
     "execution_count": 37,
     "metadata": {},
     "output_type": "execute_result"
    }
   ],
   "source": [
    "DataScientists_dropna = DataScientists.dropna(subset=['ConvertedCompYearly'])\n",
    "DataScientists_dropna['ConvertedCompYearly'].describe()"
   ]
  },
  {
   "cell_type": "code",
   "execution_count": 38,
   "metadata": {},
   "outputs": [
    {
     "data": {
      "text/plain": [
       "count    1.420000e+03\n",
       "mean     1.152551e+05\n",
       "std      4.296645e+05\n",
       "min      1.200000e+01\n",
       "25%      2.709000e+04\n",
       "50%      6.000000e+04\n",
       "75%      9.500000e+04\n",
       "max      1.125000e+07\n",
       "Name: ConvertedCompYearly, dtype: float64"
      ]
     },
     "execution_count": 38,
     "metadata": {},
     "output_type": "execute_result"
    }
   ],
   "source": [
    "DataAnalysts_dropna = DataAnalysts.dropna(subset=['ConvertedCompYearly'])\n",
    "DataAnalysts_dropna['ConvertedCompYearly'].describe()"
   ]
  },
  {
   "cell_type": "code",
   "execution_count": 39,
   "metadata": {},
   "outputs": [
    {
     "data": {
      "text/plain": [
       "count    1.882000e+03\n",
       "mean     1.138745e+05\n",
       "std      2.767431e+05\n",
       "min      4.750000e+02\n",
       "25%      3.356400e+04\n",
       "50%      6.702100e+04\n",
       "75%      1.134470e+05\n",
       "max      6.000000e+06\n",
       "Name: ConvertedCompYearly, dtype: float64"
      ]
     },
     "execution_count": 39,
     "metadata": {},
     "output_type": "execute_result"
    }
   ],
   "source": [
    "DataEngineers_dropna = DataEngineers.dropna(subset=['ConvertedCompYearly'])\n",
    "DataEngineers_dropna['ConvertedCompYearly'].describe()"
   ]
  },
  {
   "cell_type": "code",
   "execution_count": 36,
   "metadata": {},
   "outputs": [
    {
     "data": {
      "text/plain": [
       "66910    45241312.0\n",
       "65399    30468516.0\n",
       "40586    21822250.0\n",
       "28791    20000000.0\n",
       "12700    19200000.0\n",
       "            ...    \n",
       "83414           NaN\n",
       "83417           NaN\n",
       "83418           NaN\n",
       "83426           NaN\n",
       "83429           NaN\n",
       "Name: ConvertedCompYearly, Length: 83439, dtype: float64"
      ]
     },
     "execution_count": 36,
     "metadata": {},
     "output_type": "execute_result"
    }
   ],
   "source": [
    "df1['ConvertedCompYearly'].sort_values(ascending=False)"
   ]
  },
  {
   "cell_type": "code",
   "execution_count": null,
   "metadata": {},
   "outputs": [],
   "source": []
  }
 ],
 "metadata": {
  "kernelspec": {
   "display_name": "Python 3",
   "language": "python",
   "name": "python3"
  },
  "language_info": {
   "codemirror_mode": {
    "name": "ipython",
    "version": 3
   },
   "file_extension": ".py",
   "mimetype": "text/x-python",
   "name": "python",
   "nbconvert_exporter": "python",
   "pygments_lexer": "ipython3",
   "version": "3.8.5"
  }
 },
 "nbformat": 4,
 "nbformat_minor": 4
}
