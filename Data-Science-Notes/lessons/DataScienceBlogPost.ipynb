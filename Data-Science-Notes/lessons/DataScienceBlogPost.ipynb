{
 "cells": [
  {
   "cell_type": "markdown",
   "metadata": {},
   "source": [
    "## Dataset: Stack Overflow Surveys during 2011 and 2021\n",
    "\n",
    "## Three questions:\n",
    "* What proportions of developers work as data analysts?\n",
    "* What programming languages do data analysts use mostly?\n",
    "* What should data analyst learn besides Python?\n"
   ]
  }
 ],
 "metadata": {
  "kernelspec": {
   "display_name": "Python 3",
   "language": "python",
   "name": "python3"
  },
  "language_info": {
   "codemirror_mode": {
    "name": "ipython",
    "version": 3
   },
   "file_extension": ".py",
   "mimetype": "text/x-python",
   "name": "python",
   "nbconvert_exporter": "python",
   "pygments_lexer": "ipython3",
   "version": "3.8.5"
  }
 },
 "nbformat": 4,
 "nbformat_minor": 4
}
