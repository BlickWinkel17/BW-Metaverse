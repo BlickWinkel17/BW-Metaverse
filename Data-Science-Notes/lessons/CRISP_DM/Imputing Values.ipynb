{
 "cells": [
  {
   "cell_type": "markdown",
   "metadata": {},
   "source": [
    "#### Imputing Values\n",
    "\n",
    "You now have some experience working with missing values, and imputing based on common methods.  Now, it is your turn to put your skills to work in being able to predict for rows even when they have NaN values.\n",
    "\n",
    "First, let's read in the necessary libraries, and get the results together from what you achieved in the previous attempt."
   ]
  },
  {
   "cell_type": "code",
   "execution_count": 1,
   "metadata": {},
   "outputs": [
    {
     "data": {
      "text/plain": [
       "'The r-squared score for your model was 0.019170661803762035 on 645 values.'"
      ]
     },
     "execution_count": 1,
     "metadata": {},
     "output_type": "execute_result"
    }
   ],
   "source": [
    "import numpy as np\n",
    "import pandas as pd\n",
    "import matplotlib.pyplot as plt\n",
    "from sklearn.linear_model import LinearRegression\n",
    "from sklearn.model_selection import train_test_split\n",
    "from sklearn.metrics import r2_score, mean_squared_error\n",
    "import ImputingValues as t\n",
    "import seaborn as sns\n",
    "%matplotlib inline\n",
    "\n",
    "df = pd.read_csv('./survey_results_public.csv')\n",
    "df.head()\n",
    "\n",
    "#Only use quant variables and drop any rows with missing values\n",
    "num_vars = df[['Salary', 'CareerSatisfaction', 'HoursPerWeek', 'JobSatisfaction', 'StackOverflowSatisfaction']]\n",
    "df_dropna = num_vars.dropna(axis=0)\n",
    "\n",
    "#Split into explanatory and response variables\n",
    "X = df_dropna[['CareerSatisfaction', 'HoursPerWeek', 'JobSatisfaction', 'StackOverflowSatisfaction']]\n",
    "y = df_dropna['Salary']\n",
    "\n",
    "#Split into train and test\n",
    "X_train, X_test, y_train, y_test = train_test_split(X, y, test_size = .30, random_state=42) \n",
    "\n",
    "lm_model = LinearRegression(normalize=True) # Instantiate\n",
    "lm_model.fit(X_train, y_train) #Fit\n",
    "        \n",
    "#Predict and score the model\n",
    "y_test_preds = lm_model.predict(X_test) \n",
    "\"The r-squared score for your model was {} on {} values.\".format(r2_score(y_test, y_test_preds), len(y_test))"
   ]
  },
  {
   "cell_type": "markdown",
   "metadata": {},
   "source": [
    "#### Question 1\n",
    "\n",
    "**1.** As you may remember from an earlier analysis, there are many more salaries to predict than the values shown from the above code.  One of the ways we can start to make predictions on these values is by imputing items into the **X** matrix instead of dropping them.\n",
    "\n",
    "Using the **num_vars** dataframe drop the rows with missing values of the response (Salary) - store this new dataframe in **drop_sal_df**, then impute the values for all the other missing values with the mean of the column - store this in **fill_df**."
   ]
  },
  {
   "cell_type": "code",
   "execution_count": 2,
   "metadata": {},
   "outputs": [
    {
     "data": {
      "text/html": [
       "<div>\n",
       "<style scoped>\n",
       "    .dataframe tbody tr th:only-of-type {\n",
       "        vertical-align: middle;\n",
       "    }\n",
       "\n",
       "    .dataframe tbody tr th {\n",
       "        vertical-align: top;\n",
       "    }\n",
       "\n",
       "    .dataframe thead th {\n",
       "        text-align: right;\n",
       "    }\n",
       "</style>\n",
       "<table border=\"1\" class=\"dataframe\">\n",
       "  <thead>\n",
       "    <tr style=\"text-align: right;\">\n",
       "      <th></th>\n",
       "      <th>Salary</th>\n",
       "      <th>CareerSatisfaction</th>\n",
       "      <th>HoursPerWeek</th>\n",
       "      <th>JobSatisfaction</th>\n",
       "      <th>StackOverflowSatisfaction</th>\n",
       "    </tr>\n",
       "  </thead>\n",
       "  <tbody>\n",
       "    <tr>\n",
       "      <th>2</th>\n",
       "      <td>113750.0</td>\n",
       "      <td>8.0</td>\n",
       "      <td>NaN</td>\n",
       "      <td>9.0</td>\n",
       "      <td>8.0</td>\n",
       "    </tr>\n",
       "    <tr>\n",
       "      <th>14</th>\n",
       "      <td>100000.0</td>\n",
       "      <td>8.0</td>\n",
       "      <td>NaN</td>\n",
       "      <td>8.0</td>\n",
       "      <td>8.0</td>\n",
       "    </tr>\n",
       "    <tr>\n",
       "      <th>17</th>\n",
       "      <td>130000.0</td>\n",
       "      <td>9.0</td>\n",
       "      <td>NaN</td>\n",
       "      <td>8.0</td>\n",
       "      <td>8.0</td>\n",
       "    </tr>\n",
       "    <tr>\n",
       "      <th>18</th>\n",
       "      <td>82500.0</td>\n",
       "      <td>5.0</td>\n",
       "      <td>NaN</td>\n",
       "      <td>3.0</td>\n",
       "      <td>NaN</td>\n",
       "    </tr>\n",
       "    <tr>\n",
       "      <th>22</th>\n",
       "      <td>100764.0</td>\n",
       "      <td>8.0</td>\n",
       "      <td>NaN</td>\n",
       "      <td>9.0</td>\n",
       "      <td>8.0</td>\n",
       "    </tr>\n",
       "  </tbody>\n",
       "</table>\n",
       "</div>"
      ],
      "text/plain": [
       "      Salary  CareerSatisfaction  HoursPerWeek  JobSatisfaction  \\\n",
       "2   113750.0                 8.0           NaN              9.0   \n",
       "14  100000.0                 8.0           NaN              8.0   \n",
       "17  130000.0                 9.0           NaN              8.0   \n",
       "18   82500.0                 5.0           NaN              3.0   \n",
       "22  100764.0                 8.0           NaN              9.0   \n",
       "\n",
       "    StackOverflowSatisfaction  \n",
       "2                         8.0  \n",
       "14                        8.0  \n",
       "17                        8.0  \n",
       "18                        NaN  \n",
       "22                        8.0  "
      ]
     },
     "execution_count": 2,
     "metadata": {},
     "output_type": "execute_result"
    }
   ],
   "source": [
    "drop_sal_df = num_vars.dropna(subset=['Salary'])#Drop the rows with missing salaries\n",
    "\n",
    "# test look\n",
    "drop_sal_df.head()"
   ]
  },
  {
   "cell_type": "code",
   "execution_count": 3,
   "metadata": {},
   "outputs": [
    {
     "name": "stdout",
     "output_type": "stream",
     "text": [
      "Nice job! That looks right!\n"
     ]
    }
   ],
   "source": [
    "#Check that you dropped all the rows that have salary missing\n",
    "t.check_sal_dropped(drop_sal_df)"
   ]
  },
  {
   "cell_type": "code",
   "execution_count": 4,
   "metadata": {},
   "outputs": [
    {
     "data": {
      "text/plain": [
       "\u001b[1;31mSignature:\u001b[0m\n",
       "\u001b[0mdrop_sal_df\u001b[0m\u001b[1;33m.\u001b[0m\u001b[0mfillna\u001b[0m\u001b[1;33m(\u001b[0m\u001b[1;33m\n",
       "\u001b[0m    \u001b[0mvalue\u001b[0m\u001b[1;33m=\u001b[0m\u001b[1;32mNone\u001b[0m\u001b[1;33m,\u001b[0m\u001b[1;33m\n",
       "\u001b[0m    \u001b[0mmethod\u001b[0m\u001b[1;33m=\u001b[0m\u001b[1;32mNone\u001b[0m\u001b[1;33m,\u001b[0m\u001b[1;33m\n",
       "\u001b[0m    \u001b[0maxis\u001b[0m\u001b[1;33m=\u001b[0m\u001b[1;32mNone\u001b[0m\u001b[1;33m,\u001b[0m\u001b[1;33m\n",
       "\u001b[0m    \u001b[0minplace\u001b[0m\u001b[1;33m=\u001b[0m\u001b[1;32mFalse\u001b[0m\u001b[1;33m,\u001b[0m\u001b[1;33m\n",
       "\u001b[0m    \u001b[0mlimit\u001b[0m\u001b[1;33m=\u001b[0m\u001b[1;32mNone\u001b[0m\u001b[1;33m,\u001b[0m\u001b[1;33m\n",
       "\u001b[0m    \u001b[0mdowncast\u001b[0m\u001b[1;33m=\u001b[0m\u001b[1;32mNone\u001b[0m\u001b[1;33m,\u001b[0m\u001b[1;33m\n",
       "\u001b[0m\u001b[1;33m)\u001b[0m \u001b[1;33m->\u001b[0m \u001b[0mUnion\u001b[0m\u001b[1;33m[\u001b[0m\u001b[0mForwardRef\u001b[0m\u001b[1;33m(\u001b[0m\u001b[1;34m'DataFrame'\u001b[0m\u001b[1;33m)\u001b[0m\u001b[1;33m,\u001b[0m \u001b[0mNoneType\u001b[0m\u001b[1;33m]\u001b[0m\u001b[1;33m\u001b[0m\u001b[1;33m\u001b[0m\u001b[0m\n",
       "\u001b[1;31mDocstring:\u001b[0m\n",
       "Fill NA/NaN values using the specified method.\n",
       "\n",
       "Parameters\n",
       "----------\n",
       "value : scalar, dict, Series, or DataFrame\n",
       "    Value to use to fill holes (e.g. 0), alternately a\n",
       "    dict/Series/DataFrame of values specifying which value to use for\n",
       "    each index (for a Series) or column (for a DataFrame).  Values not\n",
       "    in the dict/Series/DataFrame will not be filled. This value cannot\n",
       "    be a list.\n",
       "method : {'backfill', 'bfill', 'pad', 'ffill', None}, default None\n",
       "    Method to use for filling holes in reindexed Series\n",
       "    pad / ffill: propagate last valid observation forward to next valid\n",
       "    backfill / bfill: use next valid observation to fill gap.\n",
       "axis : {0 or 'index', 1 or 'columns'}\n",
       "    Axis along which to fill missing values.\n",
       "inplace : bool, default False\n",
       "    If True, fill in-place. Note: this will modify any\n",
       "    other views on this object (e.g., a no-copy slice for a column in a\n",
       "    DataFrame).\n",
       "limit : int, default None\n",
       "    If method is specified, this is the maximum number of consecutive\n",
       "    NaN values to forward/backward fill. In other words, if there is\n",
       "    a gap with more than this number of consecutive NaNs, it will only\n",
       "    be partially filled. If method is not specified, this is the\n",
       "    maximum number of entries along the entire axis where NaNs will be\n",
       "    filled. Must be greater than 0 if not None.\n",
       "downcast : dict, default is None\n",
       "    A dict of item->dtype of what to downcast if possible,\n",
       "    or the string 'infer' which will try to downcast to an appropriate\n",
       "    equal type (e.g. float64 to int64 if possible).\n",
       "\n",
       "Returns\n",
       "-------\n",
       "DataFrame or None\n",
       "    Object with missing values filled or None if ``inplace=True``.\n",
       "\n",
       "See Also\n",
       "--------\n",
       "interpolate : Fill NaN values using interpolation.\n",
       "reindex : Conform object to new index.\n",
       "asfreq : Convert TimeSeries to specified frequency.\n",
       "\n",
       "Examples\n",
       "--------\n",
       ">>> df = pd.DataFrame([[np.nan, 2, np.nan, 0],\n",
       "...                    [3, 4, np.nan, 1],\n",
       "...                    [np.nan, np.nan, np.nan, 5],\n",
       "...                    [np.nan, 3, np.nan, 4]],\n",
       "...                   columns=list('ABCD'))\n",
       ">>> df\n",
       "     A    B   C  D\n",
       "0  NaN  2.0 NaN  0\n",
       "1  3.0  4.0 NaN  1\n",
       "2  NaN  NaN NaN  5\n",
       "3  NaN  3.0 NaN  4\n",
       "\n",
       "Replace all NaN elements with 0s.\n",
       "\n",
       ">>> df.fillna(0)\n",
       "    A   B   C   D\n",
       "0   0.0 2.0 0.0 0\n",
       "1   3.0 4.0 0.0 1\n",
       "2   0.0 0.0 0.0 5\n",
       "3   0.0 3.0 0.0 4\n",
       "\n",
       "We can also propagate non-null values forward or backward.\n",
       "\n",
       ">>> df.fillna(method='ffill')\n",
       "    A   B   C   D\n",
       "0   NaN 2.0 NaN 0\n",
       "1   3.0 4.0 NaN 1\n",
       "2   3.0 4.0 NaN 5\n",
       "3   3.0 3.0 NaN 4\n",
       "\n",
       "Replace all NaN elements in column 'A', 'B', 'C', and 'D', with 0, 1,\n",
       "2, and 3 respectively.\n",
       "\n",
       ">>> values = {'A': 0, 'B': 1, 'C': 2, 'D': 3}\n",
       ">>> df.fillna(value=values)\n",
       "    A   B   C   D\n",
       "0   0.0 2.0 2.0 0\n",
       "1   3.0 4.0 2.0 1\n",
       "2   0.0 1.0 2.0 5\n",
       "3   0.0 3.0 2.0 4\n",
       "\n",
       "Only replace the first NaN element.\n",
       "\n",
       ">>> df.fillna(value=values, limit=1)\n",
       "    A   B   C   D\n",
       "0   0.0 2.0 2.0 0\n",
       "1   3.0 4.0 NaN 1\n",
       "2   NaN 1.0 NaN 5\n",
       "3   NaN 3.0 NaN 4\n",
       "\u001b[1;31mFile:\u001b[0m      d:\\users\\blickwinkel\\anaconda3\\lib\\site-packages\\pandas\\core\\frame.py\n",
       "\u001b[1;31mType:\u001b[0m      method\n"
      ]
     },
     "metadata": {},
     "output_type": "display_data"
    }
   ],
   "source": [
    "drop_sal_df.fillna?"
   ]
  },
  {
   "cell_type": "code",
   "execution_count": 8,
   "metadata": {},
   "outputs": [
    {
     "data": {
      "text/html": [
       "<div>\n",
       "<style scoped>\n",
       "    .dataframe tbody tr th:only-of-type {\n",
       "        vertical-align: middle;\n",
       "    }\n",
       "\n",
       "    .dataframe tbody tr th {\n",
       "        vertical-align: top;\n",
       "    }\n",
       "\n",
       "    .dataframe thead th {\n",
       "        text-align: right;\n",
       "    }\n",
       "</style>\n",
       "<table border=\"1\" class=\"dataframe\">\n",
       "  <thead>\n",
       "    <tr style=\"text-align: right;\">\n",
       "      <th></th>\n",
       "      <th>Salary</th>\n",
       "      <th>CareerSatisfaction</th>\n",
       "      <th>HoursPerWeek</th>\n",
       "      <th>JobSatisfaction</th>\n",
       "      <th>StackOverflowSatisfaction</th>\n",
       "    </tr>\n",
       "  </thead>\n",
       "  <tbody>\n",
       "    <tr>\n",
       "      <th>2</th>\n",
       "      <td>113750.0</td>\n",
       "      <td>8.0</td>\n",
       "      <td>2.447415</td>\n",
       "      <td>9.0</td>\n",
       "      <td>8.000000</td>\n",
       "    </tr>\n",
       "    <tr>\n",
       "      <th>14</th>\n",
       "      <td>100000.0</td>\n",
       "      <td>8.0</td>\n",
       "      <td>2.447415</td>\n",
       "      <td>8.0</td>\n",
       "      <td>8.000000</td>\n",
       "    </tr>\n",
       "    <tr>\n",
       "      <th>17</th>\n",
       "      <td>130000.0</td>\n",
       "      <td>9.0</td>\n",
       "      <td>2.447415</td>\n",
       "      <td>8.0</td>\n",
       "      <td>8.000000</td>\n",
       "    </tr>\n",
       "    <tr>\n",
       "      <th>18</th>\n",
       "      <td>82500.0</td>\n",
       "      <td>5.0</td>\n",
       "      <td>2.447415</td>\n",
       "      <td>3.0</td>\n",
       "      <td>8.442686</td>\n",
       "    </tr>\n",
       "    <tr>\n",
       "      <th>22</th>\n",
       "      <td>100764.0</td>\n",
       "      <td>8.0</td>\n",
       "      <td>2.447415</td>\n",
       "      <td>9.0</td>\n",
       "      <td>8.000000</td>\n",
       "    </tr>\n",
       "  </tbody>\n",
       "</table>\n",
       "</div>"
      ],
      "text/plain": [
       "      Salary  CareerSatisfaction  HoursPerWeek  JobSatisfaction  \\\n",
       "2   113750.0                 8.0      2.447415              9.0   \n",
       "14  100000.0                 8.0      2.447415              8.0   \n",
       "17  130000.0                 9.0      2.447415              8.0   \n",
       "18   82500.0                 5.0      2.447415              3.0   \n",
       "22  100764.0                 8.0      2.447415              9.0   \n",
       "\n",
       "    StackOverflowSatisfaction  \n",
       "2                    8.000000  \n",
       "14                   8.000000  \n",
       "17                   8.000000  \n",
       "18                   8.442686  \n",
       "22                   8.000000  "
      ]
     },
     "execution_count": 8,
     "metadata": {},
     "output_type": "execute_result"
    }
   ],
   "source": [
    "values = {column:drop_sal_df[column].mean() for column in drop_sal_df.columns}\n",
    "fill_df = drop_sal_df.fillna(value=values)#Fill all missing values with the mean of the column.\n",
    "\n",
    "# test look\n",
    "fill_df.head()"
   ]
  },
  {
   "cell_type": "code",
   "execution_count": 9,
   "metadata": {},
   "outputs": [
    {
     "name": "stdout",
     "output_type": "stream",
     "text": [
      "Nice job! That looks right!\n"
     ]
    }
   ],
   "source": [
    "#Check your salary dropped, mean imputed datafram matches the solution\n",
    "t.check_fill_df(fill_df)"
   ]
  },
  {
   "cell_type": "markdown",
   "metadata": {},
   "source": [
    "#### Question 2\n",
    "\n",
    "**2.** Using **fill_df**, predict Salary based on all of the other quantitative variables in the dataset.  You can use the template above to assist in fitting your model:\n",
    "\n",
    "* Split the data into explanatory and response variables\n",
    "* Split the data into train and test (using seed of 42 and test_size of .30 as above)\n",
    "* Instantiate your linear model using normalized data\n",
    "* Fit your model on the training data\n",
    "* Predict using the test data\n",
    "* Compute a score for your model fit on all the data, and show how many rows you predicted for\n",
    "\n",
    "Use the tests to assure you completed the steps correctly."
   ]
  },
  {
   "cell_type": "code",
   "execution_count": 12,
   "metadata": {},
   "outputs": [
    {
     "data": {
      "text/plain": [
       "'The r-squared score for your model was 0.03257139063404435 on 1503 values.'"
      ]
     },
     "execution_count": 12,
     "metadata": {},
     "output_type": "execute_result"
    }
   ],
   "source": [
    "#Split into explanatory and response variables\n",
    "X = fill_df[['CareerSatisfaction', 'HoursPerWeek', 'JobSatisfaction', 'StackOverflowSatisfaction']]\n",
    "y = fill_df['Salary']\n",
    "\n",
    "#Split into train and test\n",
    "X_train, X_test, y_train, y_test = train_test_split(X, y , test_size=.30, random_state=42)\n",
    "\n",
    "#Predict and score the model\n",
    "lm_model = LinearRegression(normalize=True)\n",
    "lm_model.fit(X_train, y_train)\n",
    "y_test_preds = lm_model.predict(X_test)# Predictions here using X_2 and lm_2_model\n",
    "r2_test = lm_model.score(X_test, y_test) # Rsquared here for comparing test and preds from lm_2_model\n",
    "\n",
    "#Rsquared and y_test\n",
    "rsquared_score = r2_test#r2_score\n",
    "length_y_test = len(y_test_preds)#num in y_test\n",
    "\n",
    "\"The r-squared score for your model was {} on {} values.\".format(rsquared_score, length_y_test)"
   ]
  },
  {
   "cell_type": "code",
   "execution_count": 13,
   "metadata": {},
   "outputs": [
    {
     "name": "stdout",
     "output_type": "stream",
     "text": [
      "Nice job! That looks right!\n"
     ]
    }
   ],
   "source": [
    "# Pass your r2_score, length of y_test to the below to check against the solution\n",
    "t.r2_y_test_check(rsquared_score, length_y_test)"
   ]
  },
  {
   "cell_type": "markdown",
   "metadata": {},
   "source": [
    "This model still isn't great.  Let's see if we can't improve it by using some of the other columns in the dataset."
   ]
  },
  {
   "cell_type": "code",
   "execution_count": null,
   "metadata": {
    "collapsed": true,
    "jupyter": {
     "outputs_hidden": true
    }
   },
   "outputs": [],
   "source": []
  }
 ],
 "metadata": {
  "kernelspec": {
   "display_name": "Python 3",
   "language": "python",
   "name": "python3"
  },
  "language_info": {
   "codemirror_mode": {
    "name": "ipython",
    "version": 3
   },
   "file_extension": ".py",
   "mimetype": "text/x-python",
   "name": "python",
   "nbconvert_exporter": "python",
   "pygments_lexer": "ipython3",
   "version": "3.8.5"
  }
 },
 "nbformat": 4,
 "nbformat_minor": 4
}
